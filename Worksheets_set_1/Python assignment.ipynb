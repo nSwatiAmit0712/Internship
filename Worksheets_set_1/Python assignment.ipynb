{
 "cells": [
  {
   "cell_type": "markdown",
   "id": "cc737724",
   "metadata": {},
   "source": [
    "# Python Assignment"
   ]
  },
  {
   "cell_type": "markdown",
   "id": "12a36266",
   "metadata": {},
   "source": [
    "Q.1. C"
   ]
  },
  {
   "cell_type": "markdown",
   "id": "7048559a",
   "metadata": {},
   "source": [
    "Q.2. B"
   ]
  },
  {
   "cell_type": "markdown",
   "id": "99230c47",
   "metadata": {},
   "source": [
    "Q.3. C"
   ]
  },
  {
   "cell_type": "markdown",
   "id": "cd04e939",
   "metadata": {},
   "source": [
    "Q.4. A"
   ]
  },
  {
   "cell_type": "markdown",
   "id": "302604cb",
   "metadata": {},
   "source": [
    "Q.5. D"
   ]
  },
  {
   "cell_type": "markdown",
   "id": "2f0f69a1",
   "metadata": {},
   "source": [
    "Q.6. B"
   ]
  },
  {
   "cell_type": "markdown",
   "id": "322da8b1",
   "metadata": {},
   "source": [
    "Q.7. A"
   ]
  },
  {
   "cell_type": "markdown",
   "id": "a79c2148",
   "metadata": {},
   "source": [
    "Q.8. A"
   ]
  },
  {
   "cell_type": "markdown",
   "id": "5023b837",
   "metadata": {},
   "source": [
    "Q.9. A\n",
    "     B\n",
    "     C"
   ]
  },
  {
   "cell_type": "markdown",
   "id": "2afaa7d1",
   "metadata": {},
   "source": [
    "Q.10. A\n",
    "      B"
   ]
  },
  {
   "cell_type": "markdown",
   "id": "7c834141",
   "metadata": {},
   "source": [
    "Q.11. Python code to compute factorial of a number"
   ]
  },
  {
   "cell_type": "code",
   "execution_count": 10,
   "id": "7375e759",
   "metadata": {},
   "outputs": [
    {
     "name": "stdout",
     "output_type": "stream",
     "text": [
      "Enter the Number : 1\n",
      "1! = 1\n"
     ]
    }
   ],
   "source": [
    "number = int(input(\"Enter the Number : \"))\n",
    "\n",
    "factorial = 1\n",
    "\n",
    "if(number < 0):\n",
    "    print(\"can't compute factorial for Negative Numbers\")\n",
    "elif (number < 2):\n",
    "    print(\"{}! = {}\".format(number,factorial))\n",
    "else :\n",
    "    for num in range(number,1,-1):\n",
    "        factorial = factorial * num\n",
    "        print(\"{}! = {}\".format(number,factorial))"
   ]
  },
  {
   "cell_type": "markdown",
   "id": "b30e69f1",
   "metadata": {},
   "source": [
    "Q.12. Python program to find whether the number is prime or composite."
   ]
  },
  {
   "cell_type": "code",
   "execution_count": 12,
   "id": "ced55e49",
   "metadata": {},
   "outputs": [
    {
     "name": "stdout",
     "output_type": "stream",
     "text": [
      "Enter the natural number : 5\n",
      "5 is a Prime Number\n"
     ]
    }
   ],
   "source": [
    "number = int(input(\"Enter the natural number : \"))\n",
    "\n",
    "if number < 1:\n",
    "    print(\"Number needs to be greater than 1\")\n",
    "elif number == 1:\n",
    "    print(number,\"is neither prime nor composite\")\n",
    "else :\n",
    "    for divisor in range(2,(number//2)+1):\n",
    "        if ((number % divisor) == 0):\n",
    "            print(number, \"is a Composite Number\")\n",
    "            break\n",
    "        else :\n",
    "            print(number,\"is a Prime Number\")"
   ]
  },
  {
   "cell_type": "markdown",
   "id": "babaadd9",
   "metadata": {},
   "source": [
    "Q. 13. Python program to check whether a given string is palindrome or not"
   ]
  },
  {
   "cell_type": "code",
   "execution_count": 17,
   "id": "b068221c",
   "metadata": {},
   "outputs": [
    {
     "name": "stdout",
     "output_type": "stream",
     "text": [
      "Enter the value : guru\n",
      "No it is not palindrome\n"
     ]
    }
   ],
   "source": [
    "a = input(\"Enter the value : \")\n",
    "\n",
    "reverse = a[::-1]\n",
    "\n",
    "if (a ==reverse):\n",
    "    print(\"Yes it is palindrome\")\n",
    "else:\n",
    "    print(\"No it is not palindrome\")"
   ]
  },
  {
   "cell_type": "markdown",
   "id": "505eec4f",
   "metadata": {},
   "source": [
    "Q.14. Python program to get third side of right-angled triangle from two given sides"
   ]
  },
  {
   "cell_type": "code",
   "execution_count": 18,
   "id": "7e49290f",
   "metadata": {},
   "outputs": [],
   "source": [
    "from math import sqrt"
   ]
  },
  {
   "cell_type": "code",
   "execution_count": 20,
   "id": "1018ad0c",
   "metadata": {},
   "outputs": [
    {
     "name": "stdout",
     "output_type": "stream",
     "text": [
      "Enter the length\n",
      "a : 45\n",
      "b : 26\n",
      "length of third side of right-angled triangle is  51.97114584074513\n"
     ]
    }
   ],
   "source": [
    "print(\"Enter the length\")\n",
    "\n",
    "a = float(input(\"a : \"))\n",
    "b = float(input(\"b : \"))\n",
    "\n",
    "c = sqrt(a**2 + b**2)\n",
    "print(\"length of third side of right-angled triangle is \",c)"
   ]
  },
  {
   "cell_type": "markdown",
   "id": "ecf71fe2",
   "metadata": {},
   "source": [
    "Q. 15. Python program to finf the frequency of each of the characters present in a given string"
   ]
  },
  {
   "cell_type": "code",
   "execution_count": 23,
   "id": "40fe050e",
   "metadata": {},
   "outputs": [
    {
     "name": "stdout",
     "output_type": "stream",
     "text": [
      "Enter Stringhello world\n",
      "{'h': 1, 'e': 1, 'l': 3, 'o': 2, ' ': 1, 'w': 1, 'r': 1, 'd': 1}\n"
     ]
    }
   ],
   "source": [
    "str = input(\"Enter String\")\n",
    "l = list(str)\n",
    "freq=[l.count(ele) for ele in l]\n",
    "d = dict(zip(l,freq))\n",
    "print(d)"
   ]
  },
  {
   "cell_type": "code",
   "execution_count": null,
   "id": "c31b35b2",
   "metadata": {},
   "outputs": [],
   "source": []
  }
 ],
 "metadata": {
  "kernelspec": {
   "display_name": "Python 3 (ipykernel)",
   "language": "python",
   "name": "python3"
  },
  "language_info": {
   "codemirror_mode": {
    "name": "ipython",
    "version": 3
   },
   "file_extension": ".py",
   "mimetype": "text/x-python",
   "name": "python",
   "nbconvert_exporter": "python",
   "pygments_lexer": "ipython3",
   "version": "3.9.12"
  }
 },
 "nbformat": 4,
 "nbformat_minor": 5
}
