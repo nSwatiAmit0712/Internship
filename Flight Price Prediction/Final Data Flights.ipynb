{
 "cells": [
  {
   "cell_type": "markdown",
   "id": "c2a4cd24",
   "metadata": {},
   "source": [
    "# Project Name : Flight Price Prediction"
   ]
  },
  {
   "cell_type": "markdown",
   "id": "2ac7aad8",
   "metadata": {},
   "source": [
    "# Part 1: Web Scraping of Flight Data"
   ]
  },
  {
   "cell_type": "markdown",
   "id": "969338f4",
   "metadata": {},
   "source": [
    "Aim: To scrape the data of flight ticket prices for different dates n classes"
   ]
  },
  {
   "cell_type": "markdown",
   "id": "8769dfc9",
   "metadata": {},
   "source": [
    "Task: You have to scrape at least 1500 rows of data. You can scrape more data as well, it’s up to you, More the data better the model In this section you have to scrape the data of flights from different websites (yatra.com, skyscanner.com, official websites of airlines, etc). The number of columns for data doesn’t have limit, it’s up to you and your creativity. Generally, these columns areairline name, date of journey, source, destination, route, departure time, arrival time, duration, total stops and the target variable price. You can make changes to it, you can add or you can remove some columns, it completely depends on the website from which you are fetching the data.\n"
   ]
  },
  {
   "cell_type": "markdown",
   "id": "1ecb9efd",
   "metadata": {},
   "source": [
    "# Importing Necessary libraries"
   ]
  },
  {
   "cell_type": "code",
   "execution_count": 1,
   "id": "64068a6d",
   "metadata": {},
   "outputs": [
    {
     "name": "stdout",
     "output_type": "stream",
     "text": [
      "Requirement already satisfied: webdriver-manager in c:\\users\\swati\\anaconda3\\lib\\site-packages (3.8.5)\n",
      "Requirement already satisfied: packaging in c:\\users\\swati\\anaconda3\\lib\\site-packages (from webdriver-manager) (21.3)\n",
      "Requirement already satisfied: tqdm in c:\\users\\swati\\anaconda3\\lib\\site-packages (from webdriver-manager) (4.64.0)\n",
      "Requirement already satisfied: python-dotenv in c:\\users\\swati\\anaconda3\\lib\\site-packages (from webdriver-manager) (0.21.0)\n",
      "Requirement already satisfied: requests in c:\\users\\swati\\anaconda3\\lib\\site-packages (from webdriver-manager) (2.27.1)\n",
      "Requirement already satisfied: pyparsing!=3.0.5,>=2.0.2 in c:\\users\\swati\\anaconda3\\lib\\site-packages (from packaging->webdriver-manager) (3.0.4)\n",
      "Requirement already satisfied: certifi>=2017.4.17 in c:\\users\\swati\\anaconda3\\lib\\site-packages (from requests->webdriver-manager) (2021.10.8)\n",
      "Requirement already satisfied: urllib3<1.27,>=1.21.1 in c:\\users\\swati\\anaconda3\\lib\\site-packages (from requests->webdriver-manager) (1.26.9)\n",
      "Requirement already satisfied: idna<4,>=2.5 in c:\\users\\swati\\anaconda3\\lib\\site-packages (from requests->webdriver-manager) (3.3)\n",
      "Requirement already satisfied: charset-normalizer~=2.0.0 in c:\\users\\swati\\anaconda3\\lib\\site-packages (from requests->webdriver-manager) (2.0.4)\n",
      "Requirement already satisfied: colorama in c:\\users\\swati\\anaconda3\\lib\\site-packages (from tqdm->webdriver-manager) (0.4.4)\n",
      "Note: you may need to restart the kernel to use updated packages.\n"
     ]
    }
   ],
   "source": [
    "pip install webdriver-manager"
   ]
  },
  {
   "cell_type": "code",
   "execution_count": 2,
   "id": "eeb130ec",
   "metadata": {},
   "outputs": [],
   "source": [
    "# here we will use selenium web driver to scrape the flight details hence importing required libraries\n",
    "import pandas as pd\n",
    "import numpy as np\n",
    "import time\n",
    "import selenium\n",
    "from selenium import webdriver\n",
    "from selenium.common.exceptions import StaleElementReferenceException, NoSuchElementException\n",
    "from selenium.webdriver.support.ui import WebDriverWait\n",
    "from selenium.webdriver.common.by import By\n",
    "from selenium.webdriver.support import expected_conditions as EC\n",
    "\n",
    "import warnings\n",
    "warnings.filterwarnings('ignore')"
   ]
  },
  {
   "cell_type": "code",
   "execution_count": 3,
   "id": "435f8142",
   "metadata": {},
   "outputs": [],
   "source": [
    "from webdriver_manager.chrome import ChromeDriverManager\n",
    "driver = webdriver.Chrome(ChromeDriverManager().install())"
   ]
  },
  {
   "cell_type": "code",
   "execution_count": 4,
   "id": "dabbd33b",
   "metadata": {},
   "outputs": [],
   "source": [
    "# we will scrape data from yatra.com\n",
    "#lets open the website in browser\n",
    "url = \"https://www.yatra.com/\"\n",
    "driver.get(url)\n",
    "time.sleep(2)"
   ]
  },
  {
   "cell_type": "markdown",
   "id": "5e589f42",
   "metadata": {},
   "source": [
    "# 1. Extract flight details for Economy class from Bombay to Banglore"
   ]
  },
  {
   "cell_type": "markdown",
   "id": "2211df29",
   "metadata": {},
   "source": [
    "# Opening Ecomnomy flights from Mumbai to Banglore on 12 Jan 2023"
   ]
  },
  {
   "cell_type": "code",
   "execution_count": 5,
   "id": "7c53e036",
   "metadata": {},
   "outputs": [],
   "source": [
    "url=\"https://flight.yatra.com/air-search-ui/dom2/trigger?ADT=1&CHD=0&INF=0&class=Economy&destination=BLR&destinationCountry=IN&flexi=0&flight_depart_date=12%2F01%2F2023&hb=&noOfSegments=1&origin=BOM&originCountry=IN&type=O&unique=1673334920261&viewName=normal\""
   ]
  },
  {
   "cell_type": "code",
   "execution_count": 6,
   "id": "5734df4c",
   "metadata": {},
   "outputs": [],
   "source": [
    "driver.get(url)\n",
    "time.sleep(2)"
   ]
  },
  {
   "cell_type": "code",
   "execution_count": 7,
   "id": "0a2c2d8c",
   "metadata": {},
   "outputs": [],
   "source": [
    "# list up the details which we want to scrape\n",
    "Airlines = []\n",
    "Aeroplane = []\n",
    "Dept_time = []\n",
    "Arrival_time = []\n",
    "Source = []\n",
    "Destination = []\n",
    "Duration = []\n",
    "Stops = []\n",
    "Date = []\n",
    "Class = []\n",
    "Price = []"
   ]
  },
  {
   "cell_type": "code",
   "execution_count": 8,
   "id": "d5f21ada",
   "metadata": {},
   "outputs": [
    {
     "name": "stderr",
     "output_type": "stream",
     "text": [
      "100%|████████████████████████████████████████████████████████████████████████████████| 100/100 [01:02<00:00,  1.61it/s]\n"
     ]
    }
   ],
   "source": [
    "from tqdm import tqdm\n",
    "for _ in tqdm (range(0,100)):\n",
    "    time.sleep(0.1)\n",
    "    driver.execute_script(\"window.scrollBy(0,2000)\",\"\")\n",
    "    time.sleep(0.2)\n",
    "    driver.execute_script(\"window.scrollBy(0,-500)\",\"\")"
   ]
  },
  {
   "cell_type": "code",
   "execution_count": 9,
   "id": "22d2176f",
   "metadata": {},
   "outputs": [
    {
     "data": {
      "text/plain": [
       "74"
      ]
     },
     "execution_count": 9,
     "metadata": {},
     "output_type": "execute_result"
    }
   ],
   "source": [
    "flights=driver.find_elements(By.XPATH,'//div[@class=\"flight-det table full-width clearfix\"]')\n",
    "len(flights)"
   ]
  },
  {
   "cell_type": "code",
   "execution_count": 10,
   "id": "240c3a05",
   "metadata": {},
   "outputs": [
    {
     "name": "stderr",
     "output_type": "stream",
     "text": [
      "100%|██████████████████████████████████████████████████████████████████████████████████| 74/74 [00:01<00:00, 41.08it/s]\n",
      "100%|██████████████████████████████████████████████████████████████████████████████████| 74/74 [00:01<00:00, 37.68it/s]\n",
      "100%|██████████████████████████████████████████████████████████████████████████████████| 74/74 [00:02<00:00, 36.07it/s]\n",
      "100%|██████████████████████████████████████████████████████████████████████████████████| 74/74 [00:02<00:00, 34.98it/s]\n",
      "100%|██████████████████████████████████████████████████████████████████████████████████| 74/74 [00:02<00:00, 32.64it/s]\n",
      "100%|██████████████████████████████████████████████████████████████████████████████████| 74/74 [00:02<00:00, 31.65it/s]\n",
      "100%|██████████████████████████████████████████████████████████████████████████████████| 74/74 [00:02<00:00, 30.15it/s]\n",
      "100%|██████████████████████████████████████████████████████████████████████████████████| 74/74 [00:02<00:00, 28.22it/s]\n",
      "100%|██████████████████████████████████████████████████████████████████████████████████████████| 74/74 [00:00<?, ?it/s]\n",
      "100%|██████████████████████████████████████████████████████████████████████████████████████████| 74/74 [00:00<?, ?it/s]\n"
     ]
    }
   ],
   "source": [
    "# Extracting Airlines Name Via Xpath\n",
    "airlines = driver.find_elements(By.XPATH,\"//div[@class='fs-13 airline-name no-pad col-8']/span\")\n",
    "for i in airlines:\n",
    "    Airlines.append(i.text.replace(\"\\n\",\" \"))\n",
    "else :\n",
    "    pass\n",
    "\n",
    "# Extracting Aeroplane model via xpath\n",
    "aeroplanes = driver.find_elements(By.XPATH,'//p[@class=\"normal fs-11 font-lightestgrey no-wrap fl-no\"]/span')\n",
    "for i in tqdm(aeroplanes):\n",
    "    Aeroplane.append(i.text) \n",
    "else:\n",
    "    pass\n",
    "\n",
    "# Extracting Departure Time of Filght via Xpath\n",
    "dept_times = driver.find_elements(By.XPATH,'//div[@class=\"i-b pr\"]')\n",
    "for i in tqdm(dept_times):\n",
    "    Dept_time.append(i.text)\n",
    "else :\n",
    "    pass\n",
    "\n",
    "# Extracting Arrival Time via xpath\n",
    "arrival = driver.find_elements(By.XPATH,'//p[@class=\"bold fs-15 mb-2 pr time\"]')\n",
    "for i in tqdm(arrival):\n",
    "    Arrival_time.append(i.text)\n",
    "else :\n",
    "    pass\n",
    "\n",
    "# Extracting Source of flight via Xpath\n",
    "source = driver.find_elements(By.XPATH,\"//div[@class='i-b col-4 no-wrap text-right dtime col-3']/p\")\n",
    "for i in tqdm(source):\n",
    "    Source.append(i.text)\n",
    "else :\n",
    "    pass\n",
    "\n",
    "# Extracting Destination of Flights via Xpath\n",
    "destination = driver.find_elements(By.XPATH,'//div[@class=\"i-b pdd-0 text-left atime col-5\"]/p[2]')\n",
    "for i in tqdm(destination):\n",
    "    Destination.append(i.text)\n",
    "else:\n",
    "    pass\n",
    "\n",
    "# Extracting Duration of Flights via Xpath\n",
    "duration = driver.find_elements(By.XPATH,'//div[@class=\"stop-cont pl-13\"]/p')\n",
    "for i in tqdm(duration):\n",
    "    Duration.append(i.text)\n",
    "else:\n",
    "    pass\n",
    "\n",
    "# Extracting stop details via Xpath\n",
    "stop = driver.find_elements(By.XPATH,\"//div[@class='stop-cont pl-13']/div/span\")\n",
    "for i in tqdm(stop):\n",
    "    Stops.append(i.text)\n",
    "else:\n",
    "    pass\n",
    "\n",
    "# Extracting Price of Flights via Xpath\n",
    "count = 0\n",
    "price = driver.find_elements(By.XPATH,'//div[@class=\"i-b tipsy fare-summary-tooltip fs-18\"]')\n",
    "for i in tqdm(price):\n",
    "    Price.append(i.text.replace(',',''))\n",
    "    count = count +1\n",
    "else:\n",
    "    count = count +1\n",
    "    pass\n",
    "\n",
    "# Clicking on Flights details element\n",
    "Button = driver.find_elements(By.XPATH,'//div[@class=\"link-color fs-12 cursor-pointer\"]/span')\n",
    "driver.execute_script(\"arguments[0].click();\", WebDriverWait(driver, 20).until(EC.element_to_be_clickable((By.XPATH,'//div[@class=\"link-color fs-12 cursor-pointer\"]/span'))))\n",
    "time.sleep(1)\n",
    "\n",
    "# Extracting Date of Flights via Xpath\n",
    "date = driver.find_element(By.XPATH,'//div[@class=\"bold fs-12 mb-5\"]')\n",
    "a = date.text\n",
    "for i in tqdm(range(count-1)):\n",
    "    Date.append(a)\n",
    "else:\n",
    "    pass\n",
    "\n",
    "#Extracting class of flight via Xpath\n",
    "class_=driver.find_element(By.XPATH,'/html/body/section[2]/section/section[2]/section[1]/div[2]/div[2]/div/div[1]/div/div[3]/div[2]/div[1]/div[2]/div/div/div/div[1]/div[2]/div[1]/span[3]')\n",
    "a=class_.text\n",
    "for i in tqdm(range(count-1)):\n",
    "    Class.append(a)\n",
    "else:\n",
    "    pass\n"
   ]
  },
  {
   "cell_type": "code",
   "execution_count": 11,
   "id": "9e36a892",
   "metadata": {},
   "outputs": [
    {
     "data": {
      "text/plain": [
       "(74, 74, 74, 74, 74, 74, 74, 74, 74, 74, 74)"
      ]
     },
     "execution_count": 11,
     "metadata": {},
     "output_type": "execute_result"
    }
   ],
   "source": [
    "#Checking for length of columns\n",
    "len(Aeroplane), len(Airlines), len(Dept_time), len(Arrival_time),len(Class), len(Source), len(Destination), len(Duration), len(Stops),len(Price), len(Date)"
   ]
  },
  {
   "cell_type": "markdown",
   "id": "841d2ad2",
   "metadata": {},
   "source": [
    "# Opening Ecomnomy flights from Mumbai to Banglore on 13 Jan 2023"
   ]
  },
  {
   "cell_type": "code",
   "execution_count": 12,
   "id": "21f8d1b6",
   "metadata": {},
   "outputs": [],
   "source": [
    "url=\"https://flight.yatra.com/air-search-ui/dom2/trigger?ADT=1&CHD=0&INF=0&class=Economy&destination=BLR&destinationCountry=IN&flexi=0&flight_depart_date=13%2F01%2F2023&hb=&noOfSegments=1&origin=BOM&originCountry=IN&type=O&unique=1673335023075&viewName=normal\""
   ]
  },
  {
   "cell_type": "code",
   "execution_count": 13,
   "id": "e8b309e9",
   "metadata": {},
   "outputs": [],
   "source": [
    "driver.get(url)\n",
    "time.sleep(2)"
   ]
  },
  {
   "cell_type": "code",
   "execution_count": 14,
   "id": "f238818a",
   "metadata": {},
   "outputs": [
    {
     "name": "stderr",
     "output_type": "stream",
     "text": [
      "100%|████████████████████████████████████████████████████████████████████████████████| 110/110 [00:41<00:00,  2.66it/s]\n"
     ]
    }
   ],
   "source": [
    "from tqdm import tqdm\n",
    "for _ in tqdm (range(0,110)):\n",
    "    time.sleep(0.1)\n",
    "    driver.execute_script(\"window.scrollBy(0,2000)\",\"\")\n",
    "    time.sleep(0.2)\n",
    "    driver.execute_script(\"window.scrollBy(0,-500)\",\"\")"
   ]
  },
  {
   "cell_type": "code",
   "execution_count": 15,
   "id": "1a7921c9",
   "metadata": {},
   "outputs": [
    {
     "data": {
      "text/plain": [
       "133"
      ]
     },
     "execution_count": 15,
     "metadata": {},
     "output_type": "execute_result"
    }
   ],
   "source": [
    "flights=driver.find_elements(By.XPATH,'//div[@class=\"flight-det table full-width clearfix\"]')\n",
    "len(flights)"
   ]
  },
  {
   "cell_type": "code",
   "execution_count": 16,
   "id": "ae6448c6",
   "metadata": {},
   "outputs": [
    {
     "name": "stderr",
     "output_type": "stream",
     "text": [
      "100%|████████████████████████████████████████████████████████████████████████████████| 133/133 [00:03<00:00, 37.46it/s]\n",
      "100%|████████████████████████████████████████████████████████████████████████████████| 133/133 [00:03<00:00, 34.03it/s]\n",
      "100%|████████████████████████████████████████████████████████████████████████████████| 133/133 [00:04<00:00, 30.92it/s]\n",
      "100%|████████████████████████████████████████████████████████████████████████████████| 133/133 [00:04<00:00, 29.49it/s]\n",
      "100%|████████████████████████████████████████████████████████████████████████████████| 133/133 [00:04<00:00, 28.08it/s]\n",
      "100%|████████████████████████████████████████████████████████████████████████████████| 133/133 [00:04<00:00, 27.20it/s]\n",
      "100%|████████████████████████████████████████████████████████████████████████████████| 133/133 [00:05<00:00, 25.93it/s]\n",
      "100%|████████████████████████████████████████████████████████████████████████████████| 133/133 [00:05<00:00, 24.68it/s]\n",
      "100%|████████████████████████████████████████████████████████████████████████████████████████| 133/133 [00:00<?, ?it/s]\n",
      "100%|████████████████████████████████████████████████████████████████████████████████████████| 133/133 [00:00<?, ?it/s]\n"
     ]
    }
   ],
   "source": [
    "# Extracting Airlines Name Via Xpath\n",
    "airlines = driver.find_elements(By.XPATH,\"//div[@class='fs-13 airline-name no-pad col-8']/span\")\n",
    "for i in airlines:\n",
    "    Airlines.append(i.text.replace(\"\\n\",\" \"))\n",
    "else :\n",
    "    pass\n",
    "\n",
    "# Extracting Aeroplane model via xpath\n",
    "aeroplanes = driver.find_elements(By.XPATH,'//p[@class=\"normal fs-11 font-lightestgrey no-wrap fl-no\"]/span')\n",
    "for i in tqdm(aeroplanes):\n",
    "    Aeroplane.append(i.text) \n",
    "else:\n",
    "    pass\n",
    "\n",
    "# Extracting Departure Time of Filght via Xpath\n",
    "dept_times = driver.find_elements(By.XPATH,'//div[@class=\"i-b pr\"]')\n",
    "for i in tqdm(dept_times):\n",
    "    Dept_time.append(i.text)\n",
    "else :\n",
    "    pass\n",
    "\n",
    "# Extracting Arrival Time via xpath\n",
    "arrival = driver.find_elements(By.XPATH,'//p[@class=\"bold fs-15 mb-2 pr time\"]')\n",
    "for i in tqdm(arrival):\n",
    "    Arrival_time.append(i.text)\n",
    "else :\n",
    "    pass\n",
    "\n",
    "# Extracting Source of flight via Xpath\n",
    "source = driver.find_elements(By.XPATH,\"//div[@class='i-b col-4 no-wrap text-right dtime col-3']/p\")\n",
    "for i in tqdm(source):\n",
    "    Source.append(i.text)\n",
    "else :\n",
    "    pass\n",
    "\n",
    "# Extracting Destination of Flights via Xpath\n",
    "destination = driver.find_elements(By.XPATH,'//div[@class=\"i-b pdd-0 text-left atime col-5\"]/p[2]')\n",
    "for i in tqdm(destination):\n",
    "    Destination.append(i.text)\n",
    "else:\n",
    "    pass\n",
    "\n",
    "# Extracting Duration of Flights via Xpath\n",
    "duration = driver.find_elements(By.XPATH,'//div[@class=\"stop-cont pl-13\"]/p')\n",
    "for i in tqdm(duration):\n",
    "    Duration.append(i.text)\n",
    "else:\n",
    "    pass\n",
    "\n",
    "# Extracting stop details via Xpath\n",
    "stop = driver.find_elements(By.XPATH,\"//div[@class='stop-cont pl-13']/div/span\")\n",
    "for i in tqdm(stop):\n",
    "    Stops.append(i.text)\n",
    "else:\n",
    "    pass\n",
    "\n",
    "# Extracting Price of Flights via Xpath\n",
    "count = 0\n",
    "price = driver.find_elements(By.XPATH,'//div[@class=\"i-b tipsy fare-summary-tooltip fs-18\"]')\n",
    "for i in tqdm(price):\n",
    "    Price.append(i.text.replace(',',''))\n",
    "    count = count +1\n",
    "else:\n",
    "    count = count +1\n",
    "    pass\n",
    "\n",
    "# Clicking on Flights details element\n",
    "Button = driver.find_elements(By.XPATH,'//div[@class=\"link-color fs-12 cursor-pointer\"]/span')\n",
    "driver.execute_script(\"arguments[0].click();\", WebDriverWait(driver, 20).until(EC.element_to_be_clickable((By.XPATH,'//div[@class=\"link-color fs-12 cursor-pointer\"]/span'))))\n",
    "time.sleep(1)\n",
    "\n",
    "# Extracting Date of Flights via Xpath\n",
    "date = driver.find_element(By.XPATH,'//div[@class=\"bold fs-12 mb-5\"]')\n",
    "a = date.text\n",
    "for i in tqdm(range(count-1)):\n",
    "    Date.append(a)\n",
    "else:\n",
    "    pass\n",
    "\n",
    "#Extracting class of flight via Xpath\n",
    "class_=driver.find_element(By.XPATH,'/html/body/section[2]/section/section[2]/section[1]/div[2]/div[2]/div/div[1]/div/div[3]/div[2]/div[1]/div[2]/div/div/div/div[1]/div[2]/div[1]/span[3]')\n",
    "a=class_.text\n",
    "for i in tqdm(range(count-1)):\n",
    "    Class.append(a)\n",
    "else:\n",
    "    pass\n"
   ]
  },
  {
   "cell_type": "code",
   "execution_count": 17,
   "id": "a956895a",
   "metadata": {
    "scrolled": true
   },
   "outputs": [
    {
     "data": {
      "text/plain": [
       "(207, 207, 207, 207, 207, 207, 207, 207, 207, 207, 207)"
      ]
     },
     "execution_count": 17,
     "metadata": {},
     "output_type": "execute_result"
    }
   ],
   "source": [
    "#Checking for length of columns\n",
    "len(Aeroplane), len(Airlines), len(Dept_time), len(Arrival_time),len(Class), len(Source), len(Destination), len(Duration), len(Stops),len(Price), len(Date)"
   ]
  },
  {
   "cell_type": "markdown",
   "id": "d22831ec",
   "metadata": {},
   "source": [
    "# Opening Ecomnomy flights from Mumbai to Banglore on 14 Jan 2023"
   ]
  },
  {
   "cell_type": "code",
   "execution_count": 18,
   "id": "b1ce48b1",
   "metadata": {},
   "outputs": [],
   "source": [
    "url=\"https://flight.yatra.com/air-search-ui/dom2/trigger?ADT=1&CHD=0&INF=0&class=Economy&destination=BLR&destinationCountry=IN&flexi=0&flight_depart_date=14%2F01%2F2023&hb=&noOfSegments=1&origin=BOM&originCountry=IN&type=O&unique=1673335148221&viewName=normal\""
   ]
  },
  {
   "cell_type": "code",
   "execution_count": 19,
   "id": "31533bda",
   "metadata": {},
   "outputs": [],
   "source": [
    "driver.get(url)\n",
    "time.sleep(2)"
   ]
  },
  {
   "cell_type": "code",
   "execution_count": 20,
   "id": "35b49c9f",
   "metadata": {},
   "outputs": [
    {
     "name": "stderr",
     "output_type": "stream",
     "text": [
      "100%|████████████████████████████████████████████████████████████████████████████████| 115/115 [00:44<00:00,  2.61it/s]\n"
     ]
    }
   ],
   "source": [
    "from tqdm import tqdm\n",
    "for _ in tqdm (range(0,115)):\n",
    "    time.sleep(0.1)\n",
    "    driver.execute_script(\"window.scrollBy(0,2000)\",\"\")\n",
    "    time.sleep(0.2)\n",
    "    driver.execute_script(\"window.scrollBy(0,-500)\",\"\")"
   ]
  },
  {
   "cell_type": "code",
   "execution_count": 21,
   "id": "4d18a44b",
   "metadata": {},
   "outputs": [
    {
     "data": {
      "text/plain": [
       "134"
      ]
     },
     "execution_count": 21,
     "metadata": {},
     "output_type": "execute_result"
    }
   ],
   "source": [
    "flights=driver.find_elements(By.XPATH,'//div[@class=\"flight-det table full-width clearfix\"]')\n",
    "len(flights)"
   ]
  },
  {
   "cell_type": "code",
   "execution_count": 22,
   "id": "495c1c91",
   "metadata": {},
   "outputs": [
    {
     "name": "stderr",
     "output_type": "stream",
     "text": [
      "100%|████████████████████████████████████████████████████████████████████████████████| 134/134 [00:03<00:00, 36.51it/s]\n",
      "100%|████████████████████████████████████████████████████████████████████████████████| 134/134 [00:04<00:00, 33.09it/s]\n",
      "100%|████████████████████████████████████████████████████████████████████████████████| 134/134 [00:04<00:00, 30.48it/s]\n",
      "100%|████████████████████████████████████████████████████████████████████████████████| 134/134 [00:04<00:00, 28.34it/s]\n",
      "100%|████████████████████████████████████████████████████████████████████████████████| 134/134 [00:05<00:00, 25.89it/s]\n",
      "100%|████████████████████████████████████████████████████████████████████████████████| 134/134 [00:05<00:00, 24.42it/s]\n",
      "100%|████████████████████████████████████████████████████████████████████████████████| 134/134 [00:05<00:00, 22.78it/s]\n",
      "100%|████████████████████████████████████████████████████████████████████████████████| 134/134 [00:06<00:00, 21.50it/s]\n",
      "100%|████████████████████████████████████████████████████████████████████████████████████████| 134/134 [00:00<?, ?it/s]\n",
      "100%|████████████████████████████████████████████████████████████████████████████████████████| 134/134 [00:00<?, ?it/s]\n"
     ]
    }
   ],
   "source": [
    "# Extracting Airlines Name Via Xpath\n",
    "airlines = driver.find_elements(By.XPATH,\"//div[@class='fs-13 airline-name no-pad col-8']/span\")\n",
    "for i in airlines:\n",
    "    Airlines.append(i.text.replace(\"\\n\",\" \"))\n",
    "else :\n",
    "    pass\n",
    "\n",
    "# Extracting Aeroplane model via xpath\n",
    "aeroplanes = driver.find_elements(By.XPATH,'//p[@class=\"normal fs-11 font-lightestgrey no-wrap fl-no\"]/span')\n",
    "for i in tqdm(aeroplanes):\n",
    "    Aeroplane.append(i.text) \n",
    "else:\n",
    "    pass\n",
    "\n",
    "# Extracting Departure Time of Filght via Xpath\n",
    "dept_times = driver.find_elements(By.XPATH,'//div[@class=\"i-b pr\"]')\n",
    "for i in tqdm(dept_times):\n",
    "    Dept_time.append(i.text)\n",
    "else :\n",
    "    pass\n",
    "\n",
    "# Extracting Arrival Time via xpath\n",
    "arrival = driver.find_elements(By.XPATH,'//p[@class=\"bold fs-15 mb-2 pr time\"]')\n",
    "for i in tqdm(arrival):\n",
    "    Arrival_time.append(i.text)\n",
    "else :\n",
    "    pass\n",
    "\n",
    "# Extracting Source of flight via Xpath\n",
    "source = driver.find_elements(By.XPATH,\"//div[@class='i-b col-4 no-wrap text-right dtime col-3']/p\")\n",
    "for i in tqdm(source):\n",
    "    Source.append(i.text)\n",
    "else :\n",
    "    pass\n",
    "\n",
    "# Extracting Destination of Flights via Xpath\n",
    "destination = driver.find_elements(By.XPATH,'//div[@class=\"i-b pdd-0 text-left atime col-5\"]/p[2]')\n",
    "for i in tqdm(destination):\n",
    "    Destination.append(i.text)\n",
    "else:\n",
    "    pass\n",
    "\n",
    "# Extracting Duration of Flights via Xpath\n",
    "duration = driver.find_elements(By.XPATH,'//div[@class=\"stop-cont pl-13\"]/p')\n",
    "for i in tqdm(duration):\n",
    "    Duration.append(i.text)\n",
    "else:\n",
    "    pass\n",
    "\n",
    "# Extracting stop details via Xpath\n",
    "stop = driver.find_elements(By.XPATH,\"//div[@class='stop-cont pl-13']/div/span\")\n",
    "for i in tqdm(stop):\n",
    "    Stops.append(i.text)\n",
    "else:\n",
    "    pass\n",
    "\n",
    "# Extracting Price of Flights via Xpath\n",
    "count = 0\n",
    "price = driver.find_elements(By.XPATH,'//div[@class=\"i-b tipsy fare-summary-tooltip fs-18\"]')\n",
    "for i in tqdm(price):\n",
    "    Price.append(i.text.replace(',',''))\n",
    "    count = count +1\n",
    "else:\n",
    "    count = count +1\n",
    "    pass\n",
    "\n",
    "# Clicking on Flights details element\n",
    "Button = driver.find_elements(By.XPATH,'//div[@class=\"link-color fs-12 cursor-pointer\"]/span')\n",
    "driver.execute_script(\"arguments[0].click();\", WebDriverWait(driver, 20).until(EC.element_to_be_clickable((By.XPATH,'//div[@class=\"link-color fs-12 cursor-pointer\"]/span'))))\n",
    "time.sleep(1)\n",
    "\n",
    "# Extracting Date of Flights via Xpath\n",
    "date = driver.find_element(By.XPATH,'//div[@class=\"bold fs-12 mb-5\"]')\n",
    "a = date.text\n",
    "for i in tqdm(range(count-1)):\n",
    "    Date.append(a)\n",
    "else:\n",
    "    pass\n",
    "\n",
    "#Extracting class of flight via Xpath\n",
    "class_=driver.find_element(By.XPATH,'/html/body/section[2]/section/section[2]/section[1]/div[2]/div[2]/div/div[1]/div/div[3]/div[2]/div[1]/div[2]/div/div/div/div[1]/div[2]/div[1]/span[3]')\n",
    "a=class_.text\n",
    "for i in tqdm(range(count-1)):\n",
    "    Class.append(a)\n",
    "else:\n",
    "    pass\n"
   ]
  },
  {
   "cell_type": "code",
   "execution_count": 23,
   "id": "74cc1ea5",
   "metadata": {},
   "outputs": [
    {
     "data": {
      "text/plain": [
       "(341, 341, 341, 341, 341, 341, 341, 341, 341, 341, 341)"
      ]
     },
     "execution_count": 23,
     "metadata": {},
     "output_type": "execute_result"
    }
   ],
   "source": [
    "#Checking for length of columns\n",
    "len(Aeroplane), len(Airlines), len(Dept_time), len(Arrival_time),len(Class), len(Source), len(Destination), len(Duration), len(Stops),len(Price), len(Date)"
   ]
  },
  {
   "cell_type": "markdown",
   "id": "117bd339",
   "metadata": {},
   "source": [
    "# Opening Ecomnomy flights from Mumbai to Banglore on 15 Jan 2023"
   ]
  },
  {
   "cell_type": "code",
   "execution_count": 24,
   "id": "f24f7855",
   "metadata": {},
   "outputs": [],
   "source": [
    "url=\"https://flight.yatra.com/air-search-ui/dom2/trigger?ADT=1&CHD=0&INF=0&class=Economy&destination=BLR&destinationCountry=IN&flexi=0&flight_depart_date=15%2F01%2F2023&hb=&noOfSegments=1&origin=BOM&originCountry=IN&type=O&unique=1673335276679&viewName=normal\""
   ]
  },
  {
   "cell_type": "code",
   "execution_count": 25,
   "id": "2f7f1742",
   "metadata": {},
   "outputs": [],
   "source": [
    "driver.get(url)\n",
    "time.sleep(2)"
   ]
  },
  {
   "cell_type": "code",
   "execution_count": 26,
   "id": "eeacac4e",
   "metadata": {},
   "outputs": [
    {
     "name": "stderr",
     "output_type": "stream",
     "text": [
      "100%|████████████████████████████████████████████████████████████████████████████████| 125/125 [00:49<00:00,  2.53it/s]\n"
     ]
    }
   ],
   "source": [
    "from tqdm import tqdm\n",
    "for _ in tqdm (range(0,125)):\n",
    "    time.sleep(0.1)\n",
    "    driver.execute_script(\"window.scrollBy(0,2000)\",\"\")\n",
    "    time.sleep(0.2)\n",
    "    driver.execute_script(\"window.scrollBy(0,-500)\",\"\")"
   ]
  },
  {
   "cell_type": "code",
   "execution_count": 27,
   "id": "a8e480c9",
   "metadata": {},
   "outputs": [
    {
     "data": {
      "text/plain": [
       "136"
      ]
     },
     "execution_count": 27,
     "metadata": {},
     "output_type": "execute_result"
    }
   ],
   "source": [
    "flights=driver.find_elements(By.XPATH,'//div[@class=\"flight-det table full-width clearfix\"]')\n",
    "len(flights)"
   ]
  },
  {
   "cell_type": "code",
   "execution_count": 28,
   "id": "0d98e093",
   "metadata": {},
   "outputs": [
    {
     "name": "stderr",
     "output_type": "stream",
     "text": [
      "100%|████████████████████████████████████████████████████████████████████████████████| 136/136 [00:03<00:00, 36.80it/s]\n",
      "100%|████████████████████████████████████████████████████████████████████████████████| 136/136 [00:04<00:00, 32.64it/s]\n",
      "100%|████████████████████████████████████████████████████████████████████████████████| 136/136 [00:04<00:00, 30.21it/s]\n",
      "100%|████████████████████████████████████████████████████████████████████████████████| 136/136 [00:04<00:00, 28.12it/s]\n",
      "100%|████████████████████████████████████████████████████████████████████████████████| 136/136 [00:05<00:00, 26.29it/s]\n",
      "100%|████████████████████████████████████████████████████████████████████████████████| 136/136 [00:05<00:00, 24.52it/s]\n",
      "100%|████████████████████████████████████████████████████████████████████████████████| 136/136 [00:06<00:00, 22.58it/s]\n",
      "100%|████████████████████████████████████████████████████████████████████████████████| 136/136 [00:06<00:00, 21.29it/s]\n",
      "100%|████████████████████████████████████████████████████████████████████████████████████████| 136/136 [00:00<?, ?it/s]\n",
      "100%|████████████████████████████████████████████████████████████████████████████| 136/136 [00:00<00:00, 136400.13it/s]\n"
     ]
    }
   ],
   "source": [
    "# Extracting Airlines Name Via Xpath\n",
    "airlines = driver.find_elements(By.XPATH,\"//div[@class='fs-13 airline-name no-pad col-8']/span\")\n",
    "for i in airlines:\n",
    "    Airlines.append(i.text.replace(\"\\n\",\" \"))\n",
    "else :\n",
    "    pass\n",
    "\n",
    "# Extracting Aeroplane model via xpath\n",
    "aeroplanes = driver.find_elements(By.XPATH,'//p[@class=\"normal fs-11 font-lightestgrey no-wrap fl-no\"]/span')\n",
    "for i in tqdm(aeroplanes):\n",
    "    Aeroplane.append(i.text) \n",
    "else:\n",
    "    pass\n",
    "\n",
    "# Extracting Departure Time of Filght via Xpath\n",
    "dept_times = driver.find_elements(By.XPATH,'//div[@class=\"i-b pr\"]')\n",
    "for i in tqdm(dept_times):\n",
    "    Dept_time.append(i.text)\n",
    "else :\n",
    "    pass\n",
    "\n",
    "# Extracting Arrival Time via xpath\n",
    "arrival = driver.find_elements(By.XPATH,'//p[@class=\"bold fs-15 mb-2 pr time\"]')\n",
    "for i in tqdm(arrival):\n",
    "    Arrival_time.append(i.text)\n",
    "else :\n",
    "    pass\n",
    "\n",
    "# Extracting Source of flight via Xpath\n",
    "source = driver.find_elements(By.XPATH,\"//div[@class='i-b col-4 no-wrap text-right dtime col-3']/p\")\n",
    "for i in tqdm(source):\n",
    "    Source.append(i.text)\n",
    "else :\n",
    "    pass\n",
    "\n",
    "# Extracting Destination of Flights via Xpath\n",
    "destination = driver.find_elements(By.XPATH,'//div[@class=\"i-b pdd-0 text-left atime col-5\"]/p[2]')\n",
    "for i in tqdm(destination):\n",
    "    Destination.append(i.text)\n",
    "else:\n",
    "    pass\n",
    "\n",
    "# Extracting Duration of Flights via Xpath\n",
    "duration = driver.find_elements(By.XPATH,'//div[@class=\"stop-cont pl-13\"]/p')\n",
    "for i in tqdm(duration):\n",
    "    Duration.append(i.text)\n",
    "else:\n",
    "    pass\n",
    "\n",
    "# Extracting stop details via Xpath\n",
    "stop = driver.find_elements(By.XPATH,\"//div[@class='stop-cont pl-13']/div/span\")\n",
    "for i in tqdm(stop):\n",
    "    Stops.append(i.text)\n",
    "else:\n",
    "    pass\n",
    "\n",
    "# Extracting Price of Flights via Xpath\n",
    "count = 0\n",
    "price = driver.find_elements(By.XPATH,'//div[@class=\"i-b tipsy fare-summary-tooltip fs-18\"]')\n",
    "for i in tqdm(price):\n",
    "    Price.append(i.text.replace(',',''))\n",
    "    count = count +1\n",
    "else:\n",
    "    count = count +1\n",
    "    pass\n",
    "\n",
    "# Clicking on Flights details element\n",
    "Button = driver.find_elements(By.XPATH,'//div[@class=\"link-color fs-12 cursor-pointer\"]/span')\n",
    "driver.execute_script(\"arguments[0].click();\", WebDriverWait(driver, 20).until(EC.element_to_be_clickable((By.XPATH,'//div[@class=\"link-color fs-12 cursor-pointer\"]/span'))))\n",
    "time.sleep(1)\n",
    "\n",
    "# Extracting Date of Flights via Xpath\n",
    "date = driver.find_element(By.XPATH,'//div[@class=\"bold fs-12 mb-5\"]')\n",
    "a = date.text\n",
    "for i in tqdm(range(count-1)):\n",
    "    Date.append(a)\n",
    "else:\n",
    "    pass\n",
    "\n",
    "#Extracting class of flight via Xpath\n",
    "class_=driver.find_element(By.XPATH,'/html/body/section[2]/section/section[2]/section[1]/div[2]/div[2]/div/div[1]/div/div[3]/div[2]/div[1]/div[2]/div/div/div/div[1]/div[2]/div[1]/span[3]')\n",
    "a=class_.text\n",
    "for i in tqdm(range(count-1)):\n",
    "    Class.append(a)\n",
    "else:\n",
    "    pass\n"
   ]
  },
  {
   "cell_type": "code",
   "execution_count": 29,
   "id": "0e14fa6d",
   "metadata": {},
   "outputs": [
    {
     "data": {
      "text/plain": [
       "(477, 477, 477, 477, 477, 477, 477, 477, 477, 477, 477)"
      ]
     },
     "execution_count": 29,
     "metadata": {},
     "output_type": "execute_result"
    }
   ],
   "source": [
    "#Checking for length of columns\n",
    "len(Aeroplane), len(Airlines), len(Dept_time), len(Arrival_time),len(Class), len(Source), len(Destination), len(Duration), len(Stops),len(Price), len(Date)"
   ]
  },
  {
   "cell_type": "markdown",
   "id": "879a6f0a",
   "metadata": {},
   "source": [
    "# Opening Ecomnomy flights from Mumbai to Banglore on 16 Jan 2023"
   ]
  },
  {
   "cell_type": "code",
   "execution_count": 30,
   "id": "e58da481",
   "metadata": {},
   "outputs": [],
   "source": [
    "url=\"https://flight.yatra.com/air-search-ui/dom2/trigger?ADT=1&CHD=0&INF=0&class=Economy&destination=BLR&destinationCountry=IN&flexi=0&flight_depart_date=16%2F01%2F2023&hb=&noOfSegments=1&origin=BOM&originCountry=IN&type=O&unique=1673335353300&viewName=normal\""
   ]
  },
  {
   "cell_type": "code",
   "execution_count": 34,
   "id": "2b72dbba",
   "metadata": {},
   "outputs": [],
   "source": [
    "driver.get(url)\n",
    "time.sleep(2)"
   ]
  },
  {
   "cell_type": "code",
   "execution_count": 35,
   "id": "164ebc30",
   "metadata": {},
   "outputs": [
    {
     "name": "stderr",
     "output_type": "stream",
     "text": [
      "100%|████████████████████████████████████████████████████████████████████████████████| 130/130 [00:50<00:00,  2.55it/s]\n"
     ]
    }
   ],
   "source": [
    "from tqdm import tqdm\n",
    "for _ in tqdm (range(0,130)):\n",
    "    time.sleep(0.1)\n",
    "    driver.execute_script(\"window.scrollBy(0,2000)\",\"\")\n",
    "    time.sleep(0.2)\n",
    "    driver.execute_script(\"window.scrollBy(0,-500)\",\"\")"
   ]
  },
  {
   "cell_type": "code",
   "execution_count": 36,
   "id": "de556e36",
   "metadata": {},
   "outputs": [
    {
     "data": {
      "text/plain": [
       "136"
      ]
     },
     "execution_count": 36,
     "metadata": {},
     "output_type": "execute_result"
    }
   ],
   "source": [
    "flights=driver.find_elements(By.XPATH,'//div[@class=\"flight-det table full-width clearfix\"]')\n",
    "len(flights)"
   ]
  },
  {
   "cell_type": "code",
   "execution_count": 37,
   "id": "1370c05c",
   "metadata": {},
   "outputs": [
    {
     "name": "stderr",
     "output_type": "stream",
     "text": [
      "100%|████████████████████████████████████████████████████████████████████████████████| 136/136 [00:03<00:00, 36.52it/s]\n",
      "100%|████████████████████████████████████████████████████████████████████████████████| 136/136 [00:04<00:00, 32.58it/s]\n",
      "100%|████████████████████████████████████████████████████████████████████████████████| 136/136 [00:04<00:00, 30.02it/s]\n",
      "100%|████████████████████████████████████████████████████████████████████████████████| 136/136 [00:04<00:00, 28.69it/s]\n",
      "100%|████████████████████████████████████████████████████████████████████████████████| 136/136 [00:05<00:00, 27.18it/s]\n",
      "100%|████████████████████████████████████████████████████████████████████████████████| 136/136 [00:05<00:00, 25.87it/s]\n",
      "100%|████████████████████████████████████████████████████████████████████████████████| 136/136 [00:05<00:00, 25.14it/s]\n",
      "100%|████████████████████████████████████████████████████████████████████████████████| 136/136 [00:05<00:00, 23.53it/s]\n",
      "100%|████████████████████████████████████████████████████████████████████████████████████████| 136/136 [00:00<?, ?it/s]\n",
      "100%|████████████████████████████████████████████████████████████████████████████████████████| 136/136 [00:00<?, ?it/s]\n"
     ]
    }
   ],
   "source": [
    "# Extracting Airlines Name Via Xpath\n",
    "airlines = driver.find_elements(By.XPATH,\"//div[@class='fs-13 airline-name no-pad col-8']/span\")\n",
    "for i in airlines:\n",
    "    Airlines.append(i.text.replace(\"\\n\",\" \"))\n",
    "else :\n",
    "    pass\n",
    "\n",
    "# Extracting Aeroplane model via xpath\n",
    "aeroplanes = driver.find_elements(By.XPATH,'//p[@class=\"normal fs-11 font-lightestgrey no-wrap fl-no\"]/span')\n",
    "for i in tqdm(aeroplanes):\n",
    "    Aeroplane.append(i.text) \n",
    "else:\n",
    "    pass\n",
    "\n",
    "# Extracting Departure Time of Filght via Xpath\n",
    "dept_times = driver.find_elements(By.XPATH,'//div[@class=\"i-b pr\"]')\n",
    "for i in tqdm(dept_times):\n",
    "    Dept_time.append(i.text)\n",
    "else :\n",
    "    pass\n",
    "\n",
    "# Extracting Arrival Time via xpath\n",
    "arrival = driver.find_elements(By.XPATH,'//p[@class=\"bold fs-15 mb-2 pr time\"]')\n",
    "for i in tqdm(arrival):\n",
    "    Arrival_time.append(i.text)\n",
    "else :\n",
    "    pass\n",
    "\n",
    "# Extracting Source of flight via Xpath\n",
    "source = driver.find_elements(By.XPATH,\"//div[@class='i-b col-4 no-wrap text-right dtime col-3']/p\")\n",
    "for i in tqdm(source):\n",
    "    Source.append(i.text)\n",
    "else :\n",
    "    pass\n",
    "\n",
    "# Extracting Destination of Flights via Xpath\n",
    "destination = driver.find_elements(By.XPATH,'//div[@class=\"i-b pdd-0 text-left atime col-5\"]/p[2]')\n",
    "for i in tqdm(destination):\n",
    "    Destination.append(i.text)\n",
    "else:\n",
    "    pass\n",
    "\n",
    "# Extracting Duration of Flights via Xpath\n",
    "duration = driver.find_elements(By.XPATH,'//div[@class=\"stop-cont pl-13\"]/p')\n",
    "for i in tqdm(duration):\n",
    "    Duration.append(i.text)\n",
    "else:\n",
    "    pass\n",
    "\n",
    "# Extracting stop details via Xpath\n",
    "stop = driver.find_elements(By.XPATH,\"//div[@class='stop-cont pl-13']/div/span\")\n",
    "for i in tqdm(stop):\n",
    "    Stops.append(i.text)\n",
    "else:\n",
    "    pass\n",
    "\n",
    "# Extracting Price of Flights via Xpath\n",
    "count = 0\n",
    "price = driver.find_elements(By.XPATH,'//div[@class=\"i-b tipsy fare-summary-tooltip fs-18\"]')\n",
    "for i in tqdm(price):\n",
    "    Price.append(i.text.replace(',',''))\n",
    "    count = count +1\n",
    "else:\n",
    "    count = count +1\n",
    "    pass\n",
    "\n",
    "# Clicking on Flights details element\n",
    "Button = driver.find_elements(By.XPATH,'//div[@class=\"link-color fs-12 cursor-pointer\"]/span')\n",
    "driver.execute_script(\"arguments[0].click();\", WebDriverWait(driver, 20).until(EC.element_to_be_clickable((By.XPATH,'//div[@class=\"link-color fs-12 cursor-pointer\"]/span'))))\n",
    "time.sleep(1)\n",
    "\n",
    "# Extracting Date of Flights via Xpath\n",
    "date = driver.find_element(By.XPATH,'//div[@class=\"bold fs-12 mb-5\"]')\n",
    "a = date.text\n",
    "for i in tqdm(range(count-1)):\n",
    "    Date.append(a)\n",
    "else:\n",
    "    pass\n",
    "\n",
    "#Extracting class of flight via Xpath\n",
    "class_=driver.find_element(By.XPATH,'/html/body/section[2]/section/section[2]/section[1]/div[2]/div[2]/div/div[1]/div/div[3]/div[2]/div[1]/div[2]/div/div/div/div[1]/div[2]/div[1]/span[3]')\n",
    "a=class_.text\n",
    "for i in tqdm(range(count-1)):\n",
    "    Class.append(a)\n",
    "else:\n",
    "    pass\n"
   ]
  },
  {
   "cell_type": "code",
   "execution_count": 38,
   "id": "693e982b",
   "metadata": {},
   "outputs": [
    {
     "data": {
      "text/plain": [
       "(613, 613, 613, 613, 613, 613, 613, 613, 613, 613, 613)"
      ]
     },
     "execution_count": 38,
     "metadata": {},
     "output_type": "execute_result"
    }
   ],
   "source": [
    "#Checking for length of columns\n",
    "len(Aeroplane), len(Airlines), len(Dept_time), len(Arrival_time),len(Class), len(Source), len(Destination), len(Duration), len(Stops),len(Price), len(Date)"
   ]
  },
  {
   "cell_type": "markdown",
   "id": "6980cee5",
   "metadata": {},
   "source": [
    "# Opening Ecomnomy flights from Mumbai to Banglore on 17 Jan 2023"
   ]
  },
  {
   "cell_type": "code",
   "execution_count": 39,
   "id": "06cb9e99",
   "metadata": {},
   "outputs": [],
   "source": [
    "url=\"https://flight.yatra.com/air-search-ui/dom2/trigger?ADT=1&CHD=0&INF=0&class=Economy&destination=BLR&destinationCountry=IN&flexi=0&flight_depart_date=17%2F01%2F2023&hb=&noOfSegments=1&origin=BOM&originCountry=IN&type=O&unique=1673336211857&viewName=normal\""
   ]
  },
  {
   "cell_type": "code",
   "execution_count": 40,
   "id": "63de868b",
   "metadata": {},
   "outputs": [],
   "source": [
    "driver.get(url)\n",
    "time.sleep(2)"
   ]
  },
  {
   "cell_type": "code",
   "execution_count": 41,
   "id": "a959b261",
   "metadata": {},
   "outputs": [
    {
     "name": "stderr",
     "output_type": "stream",
     "text": [
      "100%|████████████████████████████████████████████████████████████████████████████████| 130/130 [00:52<00:00,  2.49it/s]\n"
     ]
    }
   ],
   "source": [
    "from tqdm import tqdm\n",
    "for _ in tqdm (range(0,130)):\n",
    "    time.sleep(0.1)\n",
    "    driver.execute_script(\"window.scrollBy(0,2000)\",\"\")\n",
    "    time.sleep(0.2)\n",
    "    driver.execute_script(\"window.scrollBy(0,-500)\",\"\")"
   ]
  },
  {
   "cell_type": "code",
   "execution_count": 42,
   "id": "d8d281a4",
   "metadata": {},
   "outputs": [
    {
     "data": {
      "text/plain": [
       "134"
      ]
     },
     "execution_count": 42,
     "metadata": {},
     "output_type": "execute_result"
    }
   ],
   "source": [
    "flights=driver.find_elements(By.XPATH,'//div[@class=\"flight-det table full-width clearfix\"]')\n",
    "len(flights)"
   ]
  },
  {
   "cell_type": "code",
   "execution_count": 43,
   "id": "fc25dbac",
   "metadata": {},
   "outputs": [
    {
     "name": "stderr",
     "output_type": "stream",
     "text": [
      "100%|████████████████████████████████████████████████████████████████████████████████| 134/134 [00:03<00:00, 36.60it/s]\n",
      "100%|████████████████████████████████████████████████████████████████████████████████| 134/134 [00:04<00:00, 32.52it/s]\n",
      "100%|████████████████████████████████████████████████████████████████████████████████| 134/134 [00:04<00:00, 29.92it/s]\n",
      "100%|████████████████████████████████████████████████████████████████████████████████| 134/134 [00:04<00:00, 28.23it/s]\n",
      "100%|████████████████████████████████████████████████████████████████████████████████| 134/134 [00:05<00:00, 26.28it/s]\n",
      "100%|████████████████████████████████████████████████████████████████████████████████| 134/134 [00:05<00:00, 24.60it/s]\n",
      "100%|████████████████████████████████████████████████████████████████████████████████| 134/134 [00:05<00:00, 23.10it/s]\n",
      "100%|████████████████████████████████████████████████████████████████████████████████| 134/134 [00:06<00:00, 21.56it/s]\n",
      "100%|████████████████████████████████████████████████████████████████████████████████████████| 134/134 [00:00<?, ?it/s]\n",
      "100%|████████████████████████████████████████████████████████████████████████████████████████| 134/134 [00:00<?, ?it/s]\n"
     ]
    }
   ],
   "source": [
    "# Extracting Airlines Name Via Xpath\n",
    "airlines = driver.find_elements(By.XPATH,\"//div[@class='fs-13 airline-name no-pad col-8']/span\")\n",
    "for i in airlines:\n",
    "    Airlines.append(i.text.replace(\"\\n\",\" \"))\n",
    "else :\n",
    "    pass\n",
    "\n",
    "# Extracting Aeroplane model via xpath\n",
    "aeroplanes = driver.find_elements(By.XPATH,'//p[@class=\"normal fs-11 font-lightestgrey no-wrap fl-no\"]/span')\n",
    "for i in tqdm(aeroplanes):\n",
    "    Aeroplane.append(i.text) \n",
    "else:\n",
    "    pass\n",
    "\n",
    "# Extracting Departure Time of Filght via Xpath\n",
    "dept_times = driver.find_elements(By.XPATH,'//div[@class=\"i-b pr\"]')\n",
    "for i in tqdm(dept_times):\n",
    "    Dept_time.append(i.text)\n",
    "else :\n",
    "    pass\n",
    "\n",
    "# Extracting Arrival Time via xpath\n",
    "arrival = driver.find_elements(By.XPATH,'//p[@class=\"bold fs-15 mb-2 pr time\"]')\n",
    "for i in tqdm(arrival):\n",
    "    Arrival_time.append(i.text)\n",
    "else :\n",
    "    pass\n",
    "\n",
    "# Extracting Source of flight via Xpath\n",
    "source = driver.find_elements(By.XPATH,\"//div[@class='i-b col-4 no-wrap text-right dtime col-3']/p\")\n",
    "for i in tqdm(source):\n",
    "    Source.append(i.text)\n",
    "else :\n",
    "    pass\n",
    "\n",
    "# Extracting Destination of Flights via Xpath\n",
    "destination = driver.find_elements(By.XPATH,'//div[@class=\"i-b pdd-0 text-left atime col-5\"]/p[2]')\n",
    "for i in tqdm(destination):\n",
    "    Destination.append(i.text)\n",
    "else:\n",
    "    pass\n",
    "\n",
    "# Extracting Duration of Flights via Xpath\n",
    "duration = driver.find_elements(By.XPATH,'//div[@class=\"stop-cont pl-13\"]/p')\n",
    "for i in tqdm(duration):\n",
    "    Duration.append(i.text)\n",
    "else:\n",
    "    pass\n",
    "\n",
    "# Extracting stop details via Xpath\n",
    "stop = driver.find_elements(By.XPATH,\"//div[@class='stop-cont pl-13']/div/span\")\n",
    "for i in tqdm(stop):\n",
    "    Stops.append(i.text)\n",
    "else:\n",
    "    pass\n",
    "\n",
    "# Extracting Price of Flights via Xpath\n",
    "count = 0\n",
    "price = driver.find_elements(By.XPATH,'//div[@class=\"i-b tipsy fare-summary-tooltip fs-18\"]')\n",
    "for i in tqdm(price):\n",
    "    Price.append(i.text.replace(',',''))\n",
    "    count = count +1\n",
    "else:\n",
    "    count = count +1\n",
    "    pass\n",
    "\n",
    "# Clicking on Flights details element\n",
    "Button = driver.find_elements(By.XPATH,'//div[@class=\"link-color fs-12 cursor-pointer\"]/span')\n",
    "driver.execute_script(\"arguments[0].click();\", WebDriverWait(driver, 20).until(EC.element_to_be_clickable((By.XPATH,'//div[@class=\"link-color fs-12 cursor-pointer\"]/span'))))\n",
    "time.sleep(1)\n",
    "\n",
    "# Extracting Date of Flights via Xpath\n",
    "date = driver.find_element(By.XPATH,'//div[@class=\"bold fs-12 mb-5\"]')\n",
    "a = date.text\n",
    "for i in tqdm(range(count-1)):\n",
    "    Date.append(a)\n",
    "else:\n",
    "    pass\n",
    "\n",
    "#Extracting class of flight via Xpath\n",
    "class_=driver.find_element(By.XPATH,'/html/body/section[2]/section/section[2]/section[1]/div[2]/div[2]/div/div[1]/div/div[3]/div[2]/div[1]/div[2]/div/div/div/div[1]/div[2]/div[1]/span[3]')\n",
    "a=class_.text\n",
    "for i in tqdm(range(count-1)):\n",
    "    Class.append(a)\n",
    "else:\n",
    "    pass\n"
   ]
  },
  {
   "cell_type": "code",
   "execution_count": 44,
   "id": "e4abb440",
   "metadata": {},
   "outputs": [
    {
     "data": {
      "text/plain": [
       "(747, 747, 747, 747, 747, 747, 747, 747, 747, 747, 747)"
      ]
     },
     "execution_count": 44,
     "metadata": {},
     "output_type": "execute_result"
    }
   ],
   "source": [
    "#Checking for length of columns\n",
    "len(Aeroplane), len(Airlines), len(Dept_time), len(Arrival_time),len(Class), len(Source), len(Destination), len(Duration), len(Stops),len(Price), len(Date)"
   ]
  },
  {
   "cell_type": "markdown",
   "id": "e501ccb8",
   "metadata": {},
   "source": [
    "# Opening Ecomnomy flights from Mumbai to Banglore on 18 Jan 2023"
   ]
  },
  {
   "cell_type": "code",
   "execution_count": 45,
   "id": "edbbe3d7",
   "metadata": {},
   "outputs": [],
   "source": [
    "url=\"https://flight.yatra.com/air-search-ui/dom2/trigger?ADT=1&CHD=0&INF=0&class=Economy&destination=BLR&destinationCountry=IN&flexi=0&flight_depart_date=18%2F01%2F2023&hb=&noOfSegments=1&origin=BOM&originCountry=IN&type=O&unique=1673337577361&viewName=normal\""
   ]
  },
  {
   "cell_type": "code",
   "execution_count": 46,
   "id": "62e83eff",
   "metadata": {},
   "outputs": [],
   "source": [
    "driver.get(url)\n",
    "time.sleep(2)"
   ]
  },
  {
   "cell_type": "code",
   "execution_count": 47,
   "id": "cdf6fbd1",
   "metadata": {},
   "outputs": [
    {
     "name": "stderr",
     "output_type": "stream",
     "text": [
      "100%|████████████████████████████████████████████████████████████████████████████████| 140/140 [00:55<00:00,  2.52it/s]\n"
     ]
    }
   ],
   "source": [
    "from tqdm import tqdm\n",
    "for _ in tqdm (range(0,140)):\n",
    "    time.sleep(0.1)\n",
    "    driver.execute_script(\"window.scrollBy(0,2000)\",\"\")\n",
    "    time.sleep(0.2)\n",
    "    driver.execute_script(\"window.scrollBy(0,-500)\",\"\")"
   ]
  },
  {
   "cell_type": "code",
   "execution_count": 48,
   "id": "95cde0eb",
   "metadata": {},
   "outputs": [
    {
     "data": {
      "text/plain": [
       "138"
      ]
     },
     "execution_count": 48,
     "metadata": {},
     "output_type": "execute_result"
    }
   ],
   "source": [
    "flights=driver.find_elements(By.XPATH,'//div[@class=\"flight-det table full-width clearfix\"]')\n",
    "len(flights)"
   ]
  },
  {
   "cell_type": "code",
   "execution_count": 49,
   "id": "96bae448",
   "metadata": {},
   "outputs": [
    {
     "name": "stderr",
     "output_type": "stream",
     "text": [
      "100%|████████████████████████████████████████████████████████████████████████████████| 138/138 [00:03<00:00, 36.82it/s]\n",
      "100%|████████████████████████████████████████████████████████████████████████████████| 138/138 [00:04<00:00, 33.23it/s]\n",
      "100%|████████████████████████████████████████████████████████████████████████████████| 138/138 [00:04<00:00, 30.21it/s]\n",
      "100%|████████████████████████████████████████████████████████████████████████████████| 138/138 [00:04<00:00, 28.85it/s]\n",
      "100%|████████████████████████████████████████████████████████████████████████████████| 138/138 [00:05<00:00, 27.54it/s]\n",
      "100%|████████████████████████████████████████████████████████████████████████████████| 138/138 [00:05<00:00, 26.08it/s]\n",
      "100%|████████████████████████████████████████████████████████████████████████████████| 138/138 [00:05<00:00, 25.05it/s]\n",
      "100%|████████████████████████████████████████████████████████████████████████████████| 138/138 [00:05<00:00, 24.09it/s]\n",
      "100%|████████████████████████████████████████████████████████████████████████████████████████| 138/138 [00:00<?, ?it/s]\n",
      "100%|████████████████████████████████████████████████████████████████████████████| 138/138 [00:00<00:00, 148223.80it/s]\n"
     ]
    }
   ],
   "source": [
    "# Extracting Airlines Name Via Xpath\n",
    "airlines = driver.find_elements(By.XPATH,\"//div[@class='fs-13 airline-name no-pad col-8']/span\")\n",
    "for i in airlines:\n",
    "    Airlines.append(i.text.replace(\"\\n\",\" \"))\n",
    "else :\n",
    "    pass\n",
    "\n",
    "# Extracting Aeroplane model via xpath\n",
    "aeroplanes = driver.find_elements(By.XPATH,'//p[@class=\"normal fs-11 font-lightestgrey no-wrap fl-no\"]/span')\n",
    "for i in tqdm(aeroplanes):\n",
    "    Aeroplane.append(i.text) \n",
    "else:\n",
    "    pass\n",
    "\n",
    "# Extracting Departure Time of Filght via Xpath\n",
    "dept_times = driver.find_elements(By.XPATH,'//div[@class=\"i-b pr\"]')\n",
    "for i in tqdm(dept_times):\n",
    "    Dept_time.append(i.text)\n",
    "else :\n",
    "    pass\n",
    "\n",
    "# Extracting Arrival Time via xpath\n",
    "arrival = driver.find_elements(By.XPATH,'//p[@class=\"bold fs-15 mb-2 pr time\"]')\n",
    "for i in tqdm(arrival):\n",
    "    Arrival_time.append(i.text)\n",
    "else :\n",
    "    pass\n",
    "\n",
    "# Extracting Source of flight via Xpath\n",
    "source = driver.find_elements(By.XPATH,\"//div[@class='i-b col-4 no-wrap text-right dtime col-3']/p\")\n",
    "for i in tqdm(source):\n",
    "    Source.append(i.text)\n",
    "else :\n",
    "    pass\n",
    "\n",
    "# Extracting Destination of Flights via Xpath\n",
    "destination = driver.find_elements(By.XPATH,'//div[@class=\"i-b pdd-0 text-left atime col-5\"]/p[2]')\n",
    "for i in tqdm(destination):\n",
    "    Destination.append(i.text)\n",
    "else:\n",
    "    pass\n",
    "\n",
    "# Extracting Duration of Flights via Xpath\n",
    "duration = driver.find_elements(By.XPATH,'//div[@class=\"stop-cont pl-13\"]/p')\n",
    "for i in tqdm(duration):\n",
    "    Duration.append(i.text)\n",
    "else:\n",
    "    pass\n",
    "\n",
    "# Extracting stop details via Xpath\n",
    "stop = driver.find_elements(By.XPATH,\"//div[@class='stop-cont pl-13']/div/span\")\n",
    "for i in tqdm(stop):\n",
    "    Stops.append(i.text)\n",
    "else:\n",
    "    pass\n",
    "\n",
    "# Extracting Price of Flights via Xpath\n",
    "count = 0\n",
    "price = driver.find_elements(By.XPATH,'//div[@class=\"i-b tipsy fare-summary-tooltip fs-18\"]')\n",
    "for i in tqdm(price):\n",
    "    Price.append(i.text.replace(',',''))\n",
    "    count = count +1\n",
    "else:\n",
    "    count = count +1\n",
    "    pass\n",
    "\n",
    "# Clicking on Flights details element\n",
    "Button = driver.find_elements(By.XPATH,'//div[@class=\"link-color fs-12 cursor-pointer\"]/span')\n",
    "driver.execute_script(\"arguments[0].click();\", WebDriverWait(driver, 20).until(EC.element_to_be_clickable((By.XPATH,'//div[@class=\"link-color fs-12 cursor-pointer\"]/span'))))\n",
    "time.sleep(1)\n",
    "\n",
    "# Extracting Date of Flights via Xpath\n",
    "date = driver.find_element(By.XPATH,'//div[@class=\"bold fs-12 mb-5\"]')\n",
    "a = date.text\n",
    "for i in tqdm(range(count-1)):\n",
    "    Date.append(a)\n",
    "else:\n",
    "    pass\n",
    "\n",
    "#Extracting class of flight via Xpath\n",
    "class_=driver.find_element(By.XPATH,'/html/body/section[2]/section/section[2]/section[1]/div[2]/div[2]/div/div[1]/div/div[3]/div[2]/div[1]/div[2]/div/div/div/div[1]/div[2]/div[1]/span[3]')\n",
    "a=class_.text\n",
    "for i in tqdm(range(count-1)):\n",
    "    Class.append(a)\n",
    "else:\n",
    "    pass\n"
   ]
  },
  {
   "cell_type": "code",
   "execution_count": 50,
   "id": "f9c99c04",
   "metadata": {},
   "outputs": [
    {
     "data": {
      "text/plain": [
       "(885, 885, 885, 885, 885, 885, 885, 885, 885, 885, 885)"
      ]
     },
     "execution_count": 50,
     "metadata": {},
     "output_type": "execute_result"
    }
   ],
   "source": [
    "#Checking for length of columns\n",
    "len(Aeroplane), len(Airlines), len(Dept_time), len(Arrival_time),len(Class), len(Source), len(Destination), len(Duration), len(Stops),len(Price), len(Date)"
   ]
  },
  {
   "cell_type": "markdown",
   "id": "7e9e33c4",
   "metadata": {},
   "source": [
    "# Opening Ecomnomy flights from Mumbai to Banglore on 19 Jan 2023"
   ]
  },
  {
   "cell_type": "code",
   "execution_count": 51,
   "id": "949e4651",
   "metadata": {},
   "outputs": [],
   "source": [
    "url=\"https://flight.yatra.com/air-search-ui/dom2/trigger?ADT=1&CHD=0&INF=0&class=Economy&destination=BLR&destinationCountry=IN&flexi=0&flight_depart_date=19%2F01%2F2023&hb=&noOfSegments=1&origin=BOM&originCountry=IN&type=O&unique=1673337729623&viewName=normal\""
   ]
  },
  {
   "cell_type": "code",
   "execution_count": 55,
   "id": "c99aab42",
   "metadata": {},
   "outputs": [],
   "source": [
    "driver.get(url)\n",
    "time.sleep(2)"
   ]
  },
  {
   "cell_type": "code",
   "execution_count": 56,
   "id": "fd1c3f0a",
   "metadata": {},
   "outputs": [
    {
     "name": "stderr",
     "output_type": "stream",
     "text": [
      "100%|████████████████████████████████████████████████████████████████████████████████| 140/140 [00:55<00:00,  2.54it/s]\n"
     ]
    }
   ],
   "source": [
    "from tqdm import tqdm\n",
    "for _ in tqdm (range(0,140)):\n",
    "    time.sleep(0.1)\n",
    "    driver.execute_script(\"window.scrollBy(0,2000)\",\"\")\n",
    "    time.sleep(0.2)\n",
    "    driver.execute_script(\"window.scrollBy(0,-500)\",\"\")"
   ]
  },
  {
   "cell_type": "code",
   "execution_count": 57,
   "id": "2ec3ce54",
   "metadata": {},
   "outputs": [
    {
     "data": {
      "text/plain": [
       "133"
      ]
     },
     "execution_count": 57,
     "metadata": {},
     "output_type": "execute_result"
    }
   ],
   "source": [
    "flights=driver.find_elements(By.XPATH,'//div[@class=\"flight-det table full-width clearfix\"]')\n",
    "len(flights)"
   ]
  },
  {
   "cell_type": "code",
   "execution_count": 58,
   "id": "54a8d663",
   "metadata": {},
   "outputs": [
    {
     "name": "stderr",
     "output_type": "stream",
     "text": [
      "100%|████████████████████████████████████████████████████████████████████████████████| 133/133 [00:03<00:00, 37.76it/s]\n",
      "100%|████████████████████████████████████████████████████████████████████████████████| 133/133 [00:03<00:00, 34.44it/s]\n",
      "100%|████████████████████████████████████████████████████████████████████████████████| 133/133 [00:04<00:00, 31.67it/s]\n",
      "100%|████████████████████████████████████████████████████████████████████████████████| 133/133 [00:04<00:00, 29.14it/s]\n",
      "100%|████████████████████████████████████████████████████████████████████████████████| 133/133 [00:04<00:00, 27.16it/s]\n",
      "100%|████████████████████████████████████████████████████████████████████████████████| 133/133 [00:05<00:00, 25.32it/s]\n",
      "100%|████████████████████████████████████████████████████████████████████████████████| 133/133 [00:05<00:00, 23.54it/s]\n",
      "100%|████████████████████████████████████████████████████████████████████████████████| 133/133 [00:05<00:00, 22.21it/s]\n",
      "100%|████████████████████████████████████████████████████████████████████████████████████████| 133/133 [00:00<?, ?it/s]\n",
      "100%|████████████████████████████████████████████████████████████████████████████████████████| 133/133 [00:00<?, ?it/s]\n"
     ]
    }
   ],
   "source": [
    "# Extracting Airlines Name Via Xpath\n",
    "airlines = driver.find_elements(By.XPATH,\"//div[@class='fs-13 airline-name no-pad col-8']/span\")\n",
    "for i in airlines:\n",
    "    Airlines.append(i.text.replace(\"\\n\",\" \"))\n",
    "else :\n",
    "    pass\n",
    "\n",
    "# Extracting Aeroplane model via xpath\n",
    "aeroplanes = driver.find_elements(By.XPATH,'//p[@class=\"normal fs-11 font-lightestgrey no-wrap fl-no\"]/span')\n",
    "for i in tqdm(aeroplanes):\n",
    "    Aeroplane.append(i.text) \n",
    "else:\n",
    "    pass\n",
    "\n",
    "# Extracting Departure Time of Filght via Xpath\n",
    "dept_times = driver.find_elements(By.XPATH,'//div[@class=\"i-b pr\"]')\n",
    "for i in tqdm(dept_times):\n",
    "    Dept_time.append(i.text)\n",
    "else :\n",
    "    pass\n",
    "\n",
    "# Extracting Arrival Time via xpath\n",
    "arrival = driver.find_elements(By.XPATH,'//p[@class=\"bold fs-15 mb-2 pr time\"]')\n",
    "for i in tqdm(arrival):\n",
    "    Arrival_time.append(i.text)\n",
    "else :\n",
    "    pass\n",
    "\n",
    "# Extracting Source of flight via Xpath\n",
    "source = driver.find_elements(By.XPATH,\"//div[@class='i-b col-4 no-wrap text-right dtime col-3']/p\")\n",
    "for i in tqdm(source):\n",
    "    Source.append(i.text)\n",
    "else :\n",
    "    pass\n",
    "\n",
    "# Extracting Destination of Flights via Xpath\n",
    "destination = driver.find_elements(By.XPATH,'//div[@class=\"i-b pdd-0 text-left atime col-5\"]/p[2]')\n",
    "for i in tqdm(destination):\n",
    "    Destination.append(i.text)\n",
    "else:\n",
    "    pass\n",
    "\n",
    "# Extracting Duration of Flights via Xpath\n",
    "duration = driver.find_elements(By.XPATH,'//div[@class=\"stop-cont pl-13\"]/p')\n",
    "for i in tqdm(duration):\n",
    "    Duration.append(i.text)\n",
    "else:\n",
    "    pass\n",
    "\n",
    "# Extracting stop details via Xpath\n",
    "stop = driver.find_elements(By.XPATH,\"//div[@class='stop-cont pl-13']/div/span\")\n",
    "for i in tqdm(stop):\n",
    "    Stops.append(i.text)\n",
    "else:\n",
    "    pass\n",
    "\n",
    "# Extracting Price of Flights via Xpath\n",
    "count = 0\n",
    "price = driver.find_elements(By.XPATH,'//div[@class=\"i-b tipsy fare-summary-tooltip fs-18\"]')\n",
    "for i in tqdm(price):\n",
    "    Price.append(i.text.replace(',',''))\n",
    "    count = count +1\n",
    "else:\n",
    "    count = count +1\n",
    "    pass\n",
    "\n",
    "# Clicking on Flights details element\n",
    "Button = driver.find_elements(By.XPATH,'//div[@class=\"link-color fs-12 cursor-pointer\"]/span')\n",
    "driver.execute_script(\"arguments[0].click();\", WebDriverWait(driver, 20).until(EC.element_to_be_clickable((By.XPATH,'//div[@class=\"link-color fs-12 cursor-pointer\"]/span'))))\n",
    "time.sleep(1)\n",
    "\n",
    "# Extracting Date of Flights via Xpath\n",
    "date = driver.find_element(By.XPATH,'//div[@class=\"bold fs-12 mb-5\"]')\n",
    "a = date.text\n",
    "for i in tqdm(range(count-1)):\n",
    "    Date.append(a)\n",
    "else:\n",
    "    pass\n",
    "\n",
    "#Extracting class of flight via Xpath\n",
    "class_=driver.find_element(By.XPATH,'/html/body/section[2]/section/section[2]/section[1]/div[2]/div[2]/div/div[1]/div/div[3]/div[2]/div[1]/div[2]/div/div/div/div[1]/div[2]/div[1]/span[3]')\n",
    "a=class_.text\n",
    "for i in tqdm(range(count-1)):\n",
    "    Class.append(a)\n",
    "else:\n",
    "    pass\n"
   ]
  },
  {
   "cell_type": "code",
   "execution_count": 59,
   "id": "86a3f5c3",
   "metadata": {},
   "outputs": [
    {
     "data": {
      "text/plain": [
       "(1018, 1018, 1018, 1018, 1018, 1018, 1018, 1018, 1018, 1018, 1018)"
      ]
     },
     "execution_count": 59,
     "metadata": {},
     "output_type": "execute_result"
    }
   ],
   "source": [
    "#Checking for length of columns\n",
    "len(Aeroplane), len(Airlines), len(Dept_time), len(Arrival_time),len(Class), len(Source), len(Destination), len(Duration), len(Stops),len(Price), len(Date)"
   ]
  },
  {
   "cell_type": "markdown",
   "id": "9ad3c04c",
   "metadata": {},
   "source": [
    "# Opening Ecomnomy flights from Mumbai to Banglore on 20 Jan 2023"
   ]
  },
  {
   "cell_type": "code",
   "execution_count": 60,
   "id": "d02bd816",
   "metadata": {},
   "outputs": [],
   "source": [
    "url=\"https://flight.yatra.com/air-search-ui/dom2/trigger?ADT=1&CHD=0&INF=0&class=Economy&destination=BLR&destinationCountry=IN&flexi=0&flight_depart_date=20%2F01%2F2023&hb=&noOfSegments=1&origin=BOM&originCountry=IN&type=O&unique=1673337868565&viewName=normal\""
   ]
  },
  {
   "cell_type": "code",
   "execution_count": 61,
   "id": "cc052dda",
   "metadata": {},
   "outputs": [],
   "source": [
    "driver.get(url)\n",
    "time.sleep(2)"
   ]
  },
  {
   "cell_type": "code",
   "execution_count": 62,
   "id": "54e9c6ca",
   "metadata": {},
   "outputs": [
    {
     "name": "stderr",
     "output_type": "stream",
     "text": [
      "100%|████████████████████████████████████████████████████████████████████████████████| 150/150 [01:02<00:00,  2.41it/s]\n"
     ]
    }
   ],
   "source": [
    "from tqdm import tqdm\n",
    "for _ in tqdm (range(0,150)):\n",
    "    time.sleep(0.1)\n",
    "    driver.execute_script(\"window.scrollBy(0,2000)\",\"\")\n",
    "    time.sleep(0.2)\n",
    "    driver.execute_script(\"window.scrollBy(0,-500)\",\"\")"
   ]
  },
  {
   "cell_type": "code",
   "execution_count": 63,
   "id": "858089f6",
   "metadata": {},
   "outputs": [
    {
     "data": {
      "text/plain": [
       "130"
      ]
     },
     "execution_count": 63,
     "metadata": {},
     "output_type": "execute_result"
    }
   ],
   "source": [
    "flights=driver.find_elements(By.XPATH,'//div[@class=\"flight-det table full-width clearfix\"]')\n",
    "len(flights)"
   ]
  },
  {
   "cell_type": "code",
   "execution_count": 64,
   "id": "f3912b68",
   "metadata": {},
   "outputs": [
    {
     "name": "stderr",
     "output_type": "stream",
     "text": [
      "100%|████████████████████████████████████████████████████████████████████████████████| 130/130 [00:03<00:00, 38.08it/s]\n",
      "100%|████████████████████████████████████████████████████████████████████████████████| 130/130 [00:03<00:00, 33.20it/s]\n",
      "100%|████████████████████████████████████████████████████████████████████████████████| 130/130 [00:04<00:00, 31.42it/s]\n",
      "100%|████████████████████████████████████████████████████████████████████████████████| 130/130 [00:04<00:00, 29.87it/s]\n",
      "100%|████████████████████████████████████████████████████████████████████████████████| 130/130 [00:04<00:00, 28.35it/s]\n",
      "100%|████████████████████████████████████████████████████████████████████████████████| 130/130 [00:04<00:00, 27.02it/s]\n",
      "100%|████████████████████████████████████████████████████████████████████████████████| 130/130 [00:05<00:00, 25.62it/s]\n",
      "100%|████████████████████████████████████████████████████████████████████████████████| 130/130 [00:05<00:00, 24.65it/s]\n",
      "100%|████████████████████████████████████████████████████████████████████████████████████████| 130/130 [00:00<?, ?it/s]\n",
      "100%|████████████████████████████████████████████████████████████████████████████████████████| 130/130 [00:00<?, ?it/s]\n"
     ]
    }
   ],
   "source": [
    "# Extracting Airlines Name Via Xpath\n",
    "airlines = driver.find_elements(By.XPATH,\"//div[@class='fs-13 airline-name no-pad col-8']/span\")\n",
    "for i in airlines:\n",
    "    Airlines.append(i.text.replace(\"\\n\",\" \"))\n",
    "else :\n",
    "    pass\n",
    "\n",
    "# Extracting Aeroplane model via xpath\n",
    "aeroplanes = driver.find_elements(By.XPATH,'//p[@class=\"normal fs-11 font-lightestgrey no-wrap fl-no\"]/span')\n",
    "for i in tqdm(aeroplanes):\n",
    "    Aeroplane.append(i.text) \n",
    "else:\n",
    "    pass\n",
    "\n",
    "# Extracting Departure Time of Filght via Xpath\n",
    "dept_times = driver.find_elements(By.XPATH,'//div[@class=\"i-b pr\"]')\n",
    "for i in tqdm(dept_times):\n",
    "    Dept_time.append(i.text)\n",
    "else :\n",
    "    pass\n",
    "\n",
    "# Extracting Arrival Time via xpath\n",
    "arrival = driver.find_elements(By.XPATH,'//p[@class=\"bold fs-15 mb-2 pr time\"]')\n",
    "for i in tqdm(arrival):\n",
    "    Arrival_time.append(i.text)\n",
    "else :\n",
    "    pass\n",
    "\n",
    "# Extracting Source of flight via Xpath\n",
    "source = driver.find_elements(By.XPATH,\"//div[@class='i-b col-4 no-wrap text-right dtime col-3']/p\")\n",
    "for i in tqdm(source):\n",
    "    Source.append(i.text)\n",
    "else :\n",
    "    pass\n",
    "\n",
    "# Extracting Destination of Flights via Xpath\n",
    "destination = driver.find_elements(By.XPATH,'//div[@class=\"i-b pdd-0 text-left atime col-5\"]/p[2]')\n",
    "for i in tqdm(destination):\n",
    "    Destination.append(i.text)\n",
    "else:\n",
    "    pass\n",
    "\n",
    "# Extracting Duration of Flights via Xpath\n",
    "duration = driver.find_elements(By.XPATH,'//div[@class=\"stop-cont pl-13\"]/p')\n",
    "for i in tqdm(duration):\n",
    "    Duration.append(i.text)\n",
    "else:\n",
    "    pass\n",
    "\n",
    "# Extracting stop details via Xpath\n",
    "stop = driver.find_elements(By.XPATH,\"//div[@class='stop-cont pl-13']/div/span\")\n",
    "for i in tqdm(stop):\n",
    "    Stops.append(i.text)\n",
    "else:\n",
    "    pass\n",
    "\n",
    "# Extracting Price of Flights via Xpath\n",
    "count = 0\n",
    "price = driver.find_elements(By.XPATH,'//div[@class=\"i-b tipsy fare-summary-tooltip fs-18\"]')\n",
    "for i in tqdm(price):\n",
    "    Price.append(i.text.replace(',',''))\n",
    "    count = count +1\n",
    "else:\n",
    "    count = count +1\n",
    "    pass\n",
    "\n",
    "# Clicking on Flights details element\n",
    "Button = driver.find_elements(By.XPATH,'//div[@class=\"link-color fs-12 cursor-pointer\"]/span')\n",
    "driver.execute_script(\"arguments[0].click();\", WebDriverWait(driver, 20).until(EC.element_to_be_clickable((By.XPATH,'//div[@class=\"link-color fs-12 cursor-pointer\"]/span'))))\n",
    "time.sleep(1)\n",
    "\n",
    "# Extracting Date of Flights via Xpath\n",
    "date = driver.find_element(By.XPATH,'//div[@class=\"bold fs-12 mb-5\"]')\n",
    "a = date.text\n",
    "for i in tqdm(range(count-1)):\n",
    "    Date.append(a)\n",
    "else:\n",
    "    pass\n",
    "\n",
    "#Extracting class of flight via Xpath\n",
    "class_=driver.find_element(By.XPATH,'/html/body/section[2]/section/section[2]/section[1]/div[2]/div[2]/div/div[1]/div/div[3]/div[2]/div[1]/div[2]/div/div/div/div[1]/div[2]/div[1]/span[3]')\n",
    "a=class_.text\n",
    "for i in tqdm(range(count-1)):\n",
    "    Class.append(a)\n",
    "else:\n",
    "    pass\n"
   ]
  },
  {
   "cell_type": "code",
   "execution_count": 65,
   "id": "7876082b",
   "metadata": {
    "scrolled": true
   },
   "outputs": [
    {
     "data": {
      "text/plain": [
       "(1148, 1148, 1148, 1148, 1148, 1148, 1148, 1148, 1148, 1148, 1148)"
      ]
     },
     "execution_count": 65,
     "metadata": {},
     "output_type": "execute_result"
    }
   ],
   "source": [
    "#Checking for length of columns\n",
    "len(Aeroplane), len(Airlines), len(Dept_time), len(Arrival_time),len(Class), len(Source), len(Destination), len(Duration), len(Stops),len(Price), len(Date)"
   ]
  },
  {
   "cell_type": "markdown",
   "id": "5cc9c4da",
   "metadata": {},
   "source": [
    "# Business Class Flights"
   ]
  },
  {
   "cell_type": "markdown",
   "id": "c244e143",
   "metadata": {},
   "source": [
    "# Opening Business flights from Mumbai to Banglore on 12 Jan 2023"
   ]
  },
  {
   "cell_type": "code",
   "execution_count": 66,
   "id": "26a3ea6b",
   "metadata": {},
   "outputs": [],
   "source": [
    "url=\"https://flight.yatra.com/air-search-ui/dom2/trigger?ADT=1&CHD=0&INF=0&class=Business&destination=BLR&destinationCountry=IN&flexi=0&flight_depart_date=12%2F01%2F2023&hb=0&noOfSegments=1&origin=BOM&originCountry=IN&type=O&unique=1673338939220&viewName=normal\""
   ]
  },
  {
   "cell_type": "code",
   "execution_count": 67,
   "id": "b43ed27e",
   "metadata": {},
   "outputs": [],
   "source": [
    "driver.get(url)\n",
    "time.sleep(2)"
   ]
  },
  {
   "cell_type": "code",
   "execution_count": 68,
   "id": "ccba55ab",
   "metadata": {},
   "outputs": [
    {
     "name": "stderr",
     "output_type": "stream",
     "text": [
      "100%|████████████████████████████████████████████████████████████████████████████████| 125/125 [00:43<00:00,  2.89it/s]\n"
     ]
    }
   ],
   "source": [
    "from tqdm import tqdm\n",
    "for _ in tqdm (range(0,125)):\n",
    "    time.sleep(0.1)\n",
    "    driver.execute_script(\"window.scrollBy(0,2000)\",\"\")\n",
    "    time.sleep(0.2)\n",
    "    driver.execute_script(\"window.scrollBy(0,-500)\",\"\")"
   ]
  },
  {
   "cell_type": "code",
   "execution_count": 69,
   "id": "1e3b16ae",
   "metadata": {},
   "outputs": [
    {
     "data": {
      "text/plain": [
       "40"
      ]
     },
     "execution_count": 69,
     "metadata": {},
     "output_type": "execute_result"
    }
   ],
   "source": [
    "flights=driver.find_elements(By.XPATH,'//div[@class=\"flight-det table full-width clearfix\"]')\n",
    "len(flights)"
   ]
  },
  {
   "cell_type": "code",
   "execution_count": 70,
   "id": "a961f751",
   "metadata": {},
   "outputs": [
    {
     "name": "stderr",
     "output_type": "stream",
     "text": [
      "100%|██████████████████████████████████████████████████████████████████████████████████| 40/40 [00:00<00:00, 42.36it/s]\n",
      "100%|██████████████████████████████████████████████████████████████████████████████████| 40/40 [00:00<00:00, 41.29it/s]\n",
      "100%|██████████████████████████████████████████████████████████████████████████████████| 40/40 [00:01<00:00, 39.13it/s]\n",
      "100%|██████████████████████████████████████████████████████████████████████████████████| 40/40 [00:01<00:00, 38.91it/s]\n",
      "100%|██████████████████████████████████████████████████████████████████████████████████| 40/40 [00:01<00:00, 37.93it/s]\n",
      "100%|██████████████████████████████████████████████████████████████████████████████████| 40/40 [00:01<00:00, 37.03it/s]\n",
      "100%|██████████████████████████████████████████████████████████████████████████████████| 40/40 [00:01<00:00, 35.43it/s]\n",
      "100%|██████████████████████████████████████████████████████████████████████████████████| 40/40 [00:01<00:00, 33.26it/s]\n",
      "100%|██████████████████████████████████████████████████████████████████████████████████████████| 40/40 [00:00<?, ?it/s]\n",
      "100%|██████████████████████████████████████████████████████████████████████████████████████████| 40/40 [00:00<?, ?it/s]\n"
     ]
    }
   ],
   "source": [
    "# Extracting Airlines Name Via Xpath\n",
    "airlines = driver.find_elements(By.XPATH,\"//div[@class='fs-13 airline-name no-pad col-8']/span\")\n",
    "for i in airlines:\n",
    "    Airlines.append(i.text.replace(\"\\n\",\" \"))\n",
    "else :\n",
    "    pass\n",
    "\n",
    "# Extracting Aeroplane model via xpath\n",
    "aeroplanes = driver.find_elements(By.XPATH,'//p[@class=\"normal fs-11 font-lightestgrey no-wrap fl-no\"]/span')\n",
    "for i in tqdm(aeroplanes):\n",
    "    Aeroplane.append(i.text) \n",
    "else:\n",
    "    pass\n",
    "\n",
    "# Extracting Departure Time of Filght via Xpath\n",
    "dept_times = driver.find_elements(By.XPATH,'//div[@class=\"i-b pr\"]')\n",
    "for i in tqdm(dept_times):\n",
    "    Dept_time.append(i.text)\n",
    "else :\n",
    "    pass\n",
    "\n",
    "# Extracting Arrival Time via xpath\n",
    "arrival = driver.find_elements(By.XPATH,'//p[@class=\"bold fs-15 mb-2 pr time\"]')\n",
    "for i in tqdm(arrival):\n",
    "    Arrival_time.append(i.text)\n",
    "else :\n",
    "    pass\n",
    "\n",
    "# Extracting Source of flight via Xpath\n",
    "source = driver.find_elements(By.XPATH,\"//div[@class='i-b col-4 no-wrap text-right dtime col-3']/p\")\n",
    "for i in tqdm(source):\n",
    "    Source.append(i.text)\n",
    "else :\n",
    "    pass\n",
    "\n",
    "# Extracting Destination of Flights via Xpath\n",
    "destination = driver.find_elements(By.XPATH,'//div[@class=\"i-b pdd-0 text-left atime col-5\"]/p[2]')\n",
    "for i in tqdm(destination):\n",
    "    Destination.append(i.text)\n",
    "else:\n",
    "    pass\n",
    "\n",
    "# Extracting Duration of Flights via Xpath\n",
    "duration = driver.find_elements(By.XPATH,'//div[@class=\"stop-cont pl-13\"]/p')\n",
    "for i in tqdm(duration):\n",
    "    Duration.append(i.text)\n",
    "else:\n",
    "    pass\n",
    "\n",
    "# Extracting stop details via Xpath\n",
    "stop = driver.find_elements(By.XPATH,\"//div[@class='stop-cont pl-13']/div/span\")\n",
    "for i in tqdm(stop):\n",
    "    Stops.append(i.text)\n",
    "else:\n",
    "    pass\n",
    "\n",
    "# Extracting Price of Flights via Xpath\n",
    "count = 0\n",
    "price = driver.find_elements(By.XPATH,'//div[@class=\"i-b tipsy fare-summary-tooltip fs-18\"]')\n",
    "for i in tqdm(price):\n",
    "    Price.append(i.text.replace(',',''))\n",
    "    count = count +1\n",
    "else:\n",
    "    count = count +1\n",
    "    pass\n",
    "\n",
    "# Clicking on Flights details element\n",
    "Button = driver.find_elements(By.XPATH,'//div[@class=\"link-color fs-12 cursor-pointer\"]/span')\n",
    "driver.execute_script(\"arguments[0].click();\", WebDriverWait(driver, 20).until(EC.element_to_be_clickable((By.XPATH,'//div[@class=\"link-color fs-12 cursor-pointer\"]/span'))))\n",
    "time.sleep(1)\n",
    "\n",
    "# Extracting Date of Flights via Xpath\n",
    "date = driver.find_element(By.XPATH,'//div[@class=\"bold fs-12 mb-5\"]')\n",
    "a = date.text\n",
    "for i in tqdm(range(count-1)):\n",
    "    Date.append(a)\n",
    "else:\n",
    "    pass\n",
    "\n",
    "#Extracting class of flight via Xpath\n",
    "class_=driver.find_element(By.XPATH,'/html/body/section[2]/section/section[2]/section[1]/div[2]/div[2]/div/div[1]/div/div[3]/div[2]/div[1]/div[2]/div/div/div/div[1]/div[2]/div[1]/span[3]')\n",
    "a=class_.text\n",
    "for i in tqdm(range(count-1)):\n",
    "    Class.append(a)\n",
    "else:\n",
    "    pass\n"
   ]
  },
  {
   "cell_type": "code",
   "execution_count": 71,
   "id": "7cc21fe4",
   "metadata": {},
   "outputs": [
    {
     "data": {
      "text/plain": [
       "(1188, 1188, 1188, 1188, 1188, 1188, 1188, 1188, 1188, 1188, 1188)"
      ]
     },
     "execution_count": 71,
     "metadata": {},
     "output_type": "execute_result"
    }
   ],
   "source": [
    "#Checking for length of columns\n",
    "len(Aeroplane), len(Airlines), len(Dept_time), len(Arrival_time),len(Class), len(Source), len(Destination), len(Duration), len(Stops),len(Price), len(Date)"
   ]
  },
  {
   "cell_type": "markdown",
   "id": "97fca891",
   "metadata": {},
   "source": [
    "# Opening Business flights from Mumbai to Banglore on 13 Jan 2023"
   ]
  },
  {
   "cell_type": "code",
   "execution_count": 72,
   "id": "7e8cca72",
   "metadata": {},
   "outputs": [],
   "source": [
    "url=\"https://flight.yatra.com/air-search-ui/dom2/trigger?ADT=1&CHD=0&INF=0&class=Business&destination=BLR&destinationCountry=IN&flexi=0&flight_depart_date=13%2F01%2F2023&hb=0&noOfSegments=1&origin=BOM&originCountry=IN&type=O&unique=1673339214078&viewName=normal\""
   ]
  },
  {
   "cell_type": "code",
   "execution_count": 76,
   "id": "eae351e4",
   "metadata": {},
   "outputs": [],
   "source": [
    "driver.get(url)\n",
    "time.sleep(2)"
   ]
  },
  {
   "cell_type": "code",
   "execution_count": 77,
   "id": "2c49bf26",
   "metadata": {},
   "outputs": [
    {
     "name": "stderr",
     "output_type": "stream",
     "text": [
      "100%|████████████████████████████████████████████████████████████████████████████████| 140/140 [00:52<00:00,  2.65it/s]\n"
     ]
    }
   ],
   "source": [
    "from tqdm import tqdm\n",
    "for _ in tqdm (range(0,140)):\n",
    "    time.sleep(0.1)\n",
    "    driver.execute_script(\"window.scrollBy(0,2000)\",\"\")\n",
    "    time.sleep(0.2)\n",
    "    driver.execute_script(\"window.scrollBy(0,-500)\",\"\")"
   ]
  },
  {
   "cell_type": "code",
   "execution_count": 78,
   "id": "73c940f4",
   "metadata": {},
   "outputs": [
    {
     "data": {
      "text/plain": [
       "58"
      ]
     },
     "execution_count": 78,
     "metadata": {},
     "output_type": "execute_result"
    }
   ],
   "source": [
    "flights=driver.find_elements(By.XPATH,'//div[@class=\"flight-det table full-width clearfix\"]')\n",
    "len(flights)"
   ]
  },
  {
   "cell_type": "code",
   "execution_count": 79,
   "id": "77293dd8",
   "metadata": {},
   "outputs": [
    {
     "name": "stderr",
     "output_type": "stream",
     "text": [
      "100%|██████████████████████████████████████████████████████████████████████████████████| 58/58 [00:01<00:00, 40.98it/s]\n",
      "100%|██████████████████████████████████████████████████████████████████████████████████| 58/58 [00:01<00:00, 39.33it/s]\n",
      "100%|██████████████████████████████████████████████████████████████████████████████████| 58/58 [00:01<00:00, 36.90it/s]\n",
      "100%|██████████████████████████████████████████████████████████████████████████████████| 58/58 [00:01<00:00, 37.21it/s]\n",
      "100%|██████████████████████████████████████████████████████████████████████████████████| 58/58 [00:01<00:00, 34.84it/s]\n",
      "100%|██████████████████████████████████████████████████████████████████████████████████| 58/58 [00:01<00:00, 34.01it/s]\n",
      "100%|██████████████████████████████████████████████████████████████████████████████████| 58/58 [00:01<00:00, 32.21it/s]\n",
      "100%|██████████████████████████████████████████████████████████████████████████████████| 58/58 [00:01<00:00, 31.61it/s]\n",
      "100%|██████████████████████████████████████████████████████████████████████████████████████████| 58/58 [00:00<?, ?it/s]\n",
      "100%|██████████████████████████████████████████████████████████████████████████████████████████| 58/58 [00:00<?, ?it/s]\n"
     ]
    }
   ],
   "source": [
    "# Extracting Airlines Name Via Xpath\n",
    "airlines = driver.find_elements(By.XPATH,\"//div[@class='fs-13 airline-name no-pad col-8']/span\")\n",
    "for i in airlines:\n",
    "    Airlines.append(i.text.replace(\"\\n\",\" \"))\n",
    "else :\n",
    "    pass\n",
    "\n",
    "# Extracting Aeroplane model via xpath\n",
    "aeroplanes = driver.find_elements(By.XPATH,'//p[@class=\"normal fs-11 font-lightestgrey no-wrap fl-no\"]/span')\n",
    "for i in tqdm(aeroplanes):\n",
    "    Aeroplane.append(i.text) \n",
    "else:\n",
    "    pass\n",
    "\n",
    "# Extracting Departure Time of Filght via Xpath\n",
    "dept_times = driver.find_elements(By.XPATH,'//div[@class=\"i-b pr\"]')\n",
    "for i in tqdm(dept_times):\n",
    "    Dept_time.append(i.text)\n",
    "else :\n",
    "    pass\n",
    "\n",
    "# Extracting Arrival Time via xpath\n",
    "arrival = driver.find_elements(By.XPATH,'//p[@class=\"bold fs-15 mb-2 pr time\"]')\n",
    "for i in tqdm(arrival):\n",
    "    Arrival_time.append(i.text)\n",
    "else :\n",
    "    pass\n",
    "\n",
    "# Extracting Source of flight via Xpath\n",
    "source = driver.find_elements(By.XPATH,\"//div[@class='i-b col-4 no-wrap text-right dtime col-3']/p\")\n",
    "for i in tqdm(source):\n",
    "    Source.append(i.text)\n",
    "else :\n",
    "    pass\n",
    "\n",
    "# Extracting Destination of Flights via Xpath\n",
    "destination = driver.find_elements(By.XPATH,'//div[@class=\"i-b pdd-0 text-left atime col-5\"]/p[2]')\n",
    "for i in tqdm(destination):\n",
    "    Destination.append(i.text)\n",
    "else:\n",
    "    pass\n",
    "\n",
    "# Extracting Duration of Flights via Xpath\n",
    "duration = driver.find_elements(By.XPATH,'//div[@class=\"stop-cont pl-13\"]/p')\n",
    "for i in tqdm(duration):\n",
    "    Duration.append(i.text)\n",
    "else:\n",
    "    pass\n",
    "\n",
    "# Extracting stop details via Xpath\n",
    "stop = driver.find_elements(By.XPATH,\"//div[@class='stop-cont pl-13']/div/span\")\n",
    "for i in tqdm(stop):\n",
    "    Stops.append(i.text)\n",
    "else:\n",
    "    pass\n",
    "\n",
    "# Extracting Price of Flights via Xpath\n",
    "count = 0\n",
    "price = driver.find_elements(By.XPATH,'//div[@class=\"i-b tipsy fare-summary-tooltip fs-18\"]')\n",
    "for i in tqdm(price):\n",
    "    Price.append(i.text.replace(',',''))\n",
    "    count = count +1\n",
    "else:\n",
    "    count = count +1\n",
    "    pass\n",
    "\n",
    "# Clicking on Flights details element\n",
    "Button = driver.find_elements(By.XPATH,'//div[@class=\"link-color fs-12 cursor-pointer\"]/span')\n",
    "driver.execute_script(\"arguments[0].click();\", WebDriverWait(driver, 20).until(EC.element_to_be_clickable((By.XPATH,'//div[@class=\"link-color fs-12 cursor-pointer\"]/span'))))\n",
    "time.sleep(1)\n",
    "\n",
    "# Extracting Date of Flights via Xpath\n",
    "date = driver.find_element(By.XPATH,'//div[@class=\"bold fs-12 mb-5\"]')\n",
    "a = date.text\n",
    "for i in tqdm(range(count-1)):\n",
    "    Date.append(a)\n",
    "else:\n",
    "    pass\n",
    "\n",
    "#Extracting class of flight via Xpath\n",
    "class_=driver.find_element(By.XPATH,'/html/body/section[2]/section/section[2]/section[1]/div[2]/div[2]/div/div[1]/div/div[3]/div[2]/div[1]/div[2]/div/div/div/div[1]/div[2]/div[1]/span[3]')\n",
    "a=class_.text\n",
    "for i in tqdm(range(count-1)):\n",
    "    Class.append(a)\n",
    "else:\n",
    "    pass\n"
   ]
  },
  {
   "cell_type": "code",
   "execution_count": 80,
   "id": "5713826d",
   "metadata": {},
   "outputs": [
    {
     "data": {
      "text/plain": [
       "(1246, 1246, 1246, 1246, 1246, 1246, 1246, 1246, 1246, 1246, 1246)"
      ]
     },
     "execution_count": 80,
     "metadata": {},
     "output_type": "execute_result"
    }
   ],
   "source": [
    "#Checking for length of columns\n",
    "len(Aeroplane), len(Airlines), len(Dept_time), len(Arrival_time),len(Class), len(Source), len(Destination), len(Duration), len(Stops),len(Price), len(Date)"
   ]
  },
  {
   "cell_type": "markdown",
   "id": "d293ed25",
   "metadata": {},
   "source": [
    "# Opening Business flights from Mumbai to Banglore on 14 Jan 2023"
   ]
  },
  {
   "cell_type": "code",
   "execution_count": 81,
   "id": "5d5bfd59",
   "metadata": {},
   "outputs": [],
   "source": [
    "url=\"https://flight.yatra.com/air-search-ui/dom2/trigger?ADT=1&CHD=0&INF=0&class=Business&destination=BLR&destinationCountry=IN&flexi=0&flight_depart_date=14%2F01%2F2023&hb=0&noOfSegments=1&origin=BOM&originCountry=IN&type=O&unique=1673339260496&viewName=normal\""
   ]
  },
  {
   "cell_type": "code",
   "execution_count": 82,
   "id": "042676e9",
   "metadata": {},
   "outputs": [],
   "source": [
    "driver.get(url)\n",
    "time.sleep(2)"
   ]
  },
  {
   "cell_type": "code",
   "execution_count": 83,
   "id": "4894ccb5",
   "metadata": {},
   "outputs": [
    {
     "name": "stderr",
     "output_type": "stream",
     "text": [
      "100%|████████████████████████████████████████████████████████████████████████████████| 150/150 [00:56<00:00,  2.64it/s]\n"
     ]
    }
   ],
   "source": [
    "from tqdm import tqdm\n",
    "for _ in tqdm (range(0,150)):\n",
    "    time.sleep(0.1)\n",
    "    driver.execute_script(\"window.scrollBy(0,2000)\",\"\")\n",
    "    time.sleep(0.2)\n",
    "    driver.execute_script(\"window.scrollBy(0,-500)\",\"\")"
   ]
  },
  {
   "cell_type": "code",
   "execution_count": 84,
   "id": "9ee36904",
   "metadata": {},
   "outputs": [
    {
     "data": {
      "text/plain": [
       "80"
      ]
     },
     "execution_count": 84,
     "metadata": {},
     "output_type": "execute_result"
    }
   ],
   "source": [
    "flights=driver.find_elements(By.XPATH,'//div[@class=\"flight-det table full-width clearfix\"]')\n",
    "len(flights)"
   ]
  },
  {
   "cell_type": "code",
   "execution_count": 85,
   "id": "5d5bf5d1",
   "metadata": {},
   "outputs": [
    {
     "name": "stderr",
     "output_type": "stream",
     "text": [
      "100%|██████████████████████████████████████████████████████████████████████████████████| 80/80 [00:01<00:00, 41.27it/s]\n",
      "100%|██████████████████████████████████████████████████████████████████████████████████| 80/80 [00:02<00:00, 37.72it/s]\n",
      "100%|██████████████████████████████████████████████████████████████████████████████████| 80/80 [00:02<00:00, 35.29it/s]\n",
      "100%|██████████████████████████████████████████████████████████████████████████████████| 80/80 [00:02<00:00, 33.91it/s]\n",
      "100%|██████████████████████████████████████████████████████████████████████████████████| 80/80 [00:02<00:00, 31.64it/s]\n",
      "100%|██████████████████████████████████████████████████████████████████████████████████| 80/80 [00:02<00:00, 30.28it/s]\n",
      "100%|██████████████████████████████████████████████████████████████████████████████████| 80/80 [00:02<00:00, 28.64it/s]\n",
      "100%|██████████████████████████████████████████████████████████████████████████████████| 80/80 [00:02<00:00, 26.92it/s]\n",
      "100%|███████████████████████████████████████████████████████████████████████████████| 80/80 [00:00<00:00, 73957.31it/s]\n",
      "100%|██████████████████████████████████████████████████████████████████████████████████████████| 80/80 [00:00<?, ?it/s]\n"
     ]
    }
   ],
   "source": [
    "# Extracting Airlines Name Via Xpath\n",
    "airlines = driver.find_elements(By.XPATH,\"//div[@class='fs-13 airline-name no-pad col-8']/span\")\n",
    "for i in airlines:\n",
    "    Airlines.append(i.text.replace(\"\\n\",\" \"))\n",
    "else :\n",
    "    pass\n",
    "\n",
    "# Extracting Aeroplane model via xpath\n",
    "aeroplanes = driver.find_elements(By.XPATH,'//p[@class=\"normal fs-11 font-lightestgrey no-wrap fl-no\"]/span')\n",
    "for i in tqdm(aeroplanes):\n",
    "    Aeroplane.append(i.text) \n",
    "else:\n",
    "    pass\n",
    "\n",
    "# Extracting Departure Time of Filght via Xpath\n",
    "dept_times = driver.find_elements(By.XPATH,'//div[@class=\"i-b pr\"]')\n",
    "for i in tqdm(dept_times):\n",
    "    Dept_time.append(i.text)\n",
    "else :\n",
    "    pass\n",
    "\n",
    "# Extracting Arrival Time via xpath\n",
    "arrival = driver.find_elements(By.XPATH,'//p[@class=\"bold fs-15 mb-2 pr time\"]')\n",
    "for i in tqdm(arrival):\n",
    "    Arrival_time.append(i.text)\n",
    "else :\n",
    "    pass\n",
    "\n",
    "# Extracting Source of flight via Xpath\n",
    "source = driver.find_elements(By.XPATH,\"//div[@class='i-b col-4 no-wrap text-right dtime col-3']/p\")\n",
    "for i in tqdm(source):\n",
    "    Source.append(i.text)\n",
    "else :\n",
    "    pass\n",
    "\n",
    "# Extracting Destination of Flights via Xpath\n",
    "destination = driver.find_elements(By.XPATH,'//div[@class=\"i-b pdd-0 text-left atime col-5\"]/p[2]')\n",
    "for i in tqdm(destination):\n",
    "    Destination.append(i.text)\n",
    "else:\n",
    "    pass\n",
    "\n",
    "# Extracting Duration of Flights via Xpath\n",
    "duration = driver.find_elements(By.XPATH,'//div[@class=\"stop-cont pl-13\"]/p')\n",
    "for i in tqdm(duration):\n",
    "    Duration.append(i.text)\n",
    "else:\n",
    "    pass\n",
    "\n",
    "# Extracting stop details via Xpath\n",
    "stop = driver.find_elements(By.XPATH,\"//div[@class='stop-cont pl-13']/div/span\")\n",
    "for i in tqdm(stop):\n",
    "    Stops.append(i.text)\n",
    "else:\n",
    "    pass\n",
    "\n",
    "# Extracting Price of Flights via Xpath\n",
    "count = 0\n",
    "price = driver.find_elements(By.XPATH,'//div[@class=\"i-b tipsy fare-summary-tooltip fs-18\"]')\n",
    "for i in tqdm(price):\n",
    "    Price.append(i.text.replace(',',''))\n",
    "    count = count +1\n",
    "else:\n",
    "    count = count +1\n",
    "    pass\n",
    "\n",
    "# Clicking on Flights details element\n",
    "Button = driver.find_elements(By.XPATH,'//div[@class=\"link-color fs-12 cursor-pointer\"]/span')\n",
    "driver.execute_script(\"arguments[0].click();\", WebDriverWait(driver, 20).until(EC.element_to_be_clickable((By.XPATH,'//div[@class=\"link-color fs-12 cursor-pointer\"]/span'))))\n",
    "time.sleep(1)\n",
    "\n",
    "# Extracting Date of Flights via Xpath\n",
    "date = driver.find_element(By.XPATH,'//div[@class=\"bold fs-12 mb-5\"]')\n",
    "a = date.text\n",
    "for i in tqdm(range(count-1)):\n",
    "    Date.append(a)\n",
    "else:\n",
    "    pass\n",
    "\n",
    "#Extracting class of flight via Xpath\n",
    "class_=driver.find_element(By.XPATH,'/html/body/section[2]/section/section[2]/section[1]/div[2]/div[2]/div/div[1]/div/div[3]/div[2]/div[1]/div[2]/div/div/div/div[1]/div[2]/div[1]/span[3]')\n",
    "a=class_.text\n",
    "for i in tqdm(range(count-1)):\n",
    "    Class.append(a)\n",
    "else:\n",
    "    pass\n"
   ]
  },
  {
   "cell_type": "code",
   "execution_count": 86,
   "id": "2357d524",
   "metadata": {},
   "outputs": [
    {
     "data": {
      "text/plain": [
       "(1326, 1326, 1326, 1326, 1326, 1326, 1326, 1326, 1326, 1326, 1326)"
      ]
     },
     "execution_count": 86,
     "metadata": {},
     "output_type": "execute_result"
    }
   ],
   "source": [
    "#Checking for length of columns\n",
    "len(Aeroplane), len(Airlines), len(Dept_time), len(Arrival_time),len(Class), len(Source), len(Destination), len(Duration), len(Stops),len(Price), len(Date)"
   ]
  },
  {
   "cell_type": "markdown",
   "id": "80da144b",
   "metadata": {},
   "source": [
    "# Opening Business flights from Mumbai to Banglore on 15 Jan 2023"
   ]
  },
  {
   "cell_type": "code",
   "execution_count": 87,
   "id": "62de2985",
   "metadata": {},
   "outputs": [],
   "source": [
    "url=\"https://flight.yatra.com/air-search-ui/dom2/trigger?ADT=1&CHD=0&INF=0&class=Business&destination=BLR&destinationCountry=IN&flexi=0&flight_depart_date=15%2F01%2F2023&hb=0&noOfSegments=1&origin=BOM&originCountry=IN&type=O&unique=1673339298540&viewName=normal\""
   ]
  },
  {
   "cell_type": "code",
   "execution_count": 88,
   "id": "e44298e0",
   "metadata": {},
   "outputs": [],
   "source": [
    "driver.get(url)\n",
    "time.sleep(2)"
   ]
  },
  {
   "cell_type": "code",
   "execution_count": 89,
   "id": "cc8f2829",
   "metadata": {},
   "outputs": [
    {
     "name": "stderr",
     "output_type": "stream",
     "text": [
      "100%|████████████████████████████████████████████████████████████████████████████████| 150/150 [00:58<00:00,  2.57it/s]\n"
     ]
    }
   ],
   "source": [
    "from tqdm import tqdm\n",
    "for _ in tqdm (range(0,150)):\n",
    "    time.sleep(0.1)\n",
    "    driver.execute_script(\"window.scrollBy(0,2000)\",\"\")\n",
    "    time.sleep(0.2)\n",
    "    driver.execute_script(\"window.scrollBy(0,-500)\",\"\")"
   ]
  },
  {
   "cell_type": "code",
   "execution_count": 90,
   "id": "aaf813a4",
   "metadata": {},
   "outputs": [
    {
     "data": {
      "text/plain": [
       "75"
      ]
     },
     "execution_count": 90,
     "metadata": {},
     "output_type": "execute_result"
    }
   ],
   "source": [
    "flights=driver.find_elements(By.XPATH,'//div[@class=\"flight-det table full-width clearfix\"]')\n",
    "len(flights)"
   ]
  },
  {
   "cell_type": "code",
   "execution_count": 91,
   "id": "ab2a0904",
   "metadata": {},
   "outputs": [
    {
     "name": "stderr",
     "output_type": "stream",
     "text": [
      "100%|██████████████████████████████████████████████████████████████████████████████████| 75/75 [00:01<00:00, 38.75it/s]\n",
      "100%|██████████████████████████████████████████████████████████████████████████████████| 75/75 [00:02<00:00, 35.82it/s]\n",
      "100%|██████████████████████████████████████████████████████████████████████████████████| 75/75 [00:02<00:00, 34.25it/s]\n",
      "100%|██████████████████████████████████████████████████████████████████████████████████| 75/75 [00:02<00:00, 32.52it/s]\n",
      "100%|██████████████████████████████████████████████████████████████████████████████████| 75/75 [00:02<00:00, 31.64it/s]\n",
      "100%|██████████████████████████████████████████████████████████████████████████████████| 75/75 [00:02<00:00, 30.83it/s]\n",
      "100%|██████████████████████████████████████████████████████████████████████████████████| 75/75 [00:02<00:00, 30.85it/s]\n",
      "100%|██████████████████████████████████████████████████████████████████████████████████| 75/75 [00:02<00:00, 29.29it/s]\n",
      "100%|██████████████████████████████████████████████████████████████████████████████████████████| 75/75 [00:00<?, ?it/s]\n",
      "100%|██████████████████████████████████████████████████████████████████████████████████████████| 75/75 [00:00<?, ?it/s]\n"
     ]
    }
   ],
   "source": [
    "# Extracting Airlines Name Via Xpath\n",
    "airlines = driver.find_elements(By.XPATH,\"//div[@class='fs-13 airline-name no-pad col-8']/span\")\n",
    "for i in airlines:\n",
    "    Airlines.append(i.text.replace(\"\\n\",\" \"))\n",
    "else :\n",
    "    pass\n",
    "\n",
    "# Extracting Aeroplane model via xpath\n",
    "aeroplanes = driver.find_elements(By.XPATH,'//p[@class=\"normal fs-11 font-lightestgrey no-wrap fl-no\"]/span')\n",
    "for i in tqdm(aeroplanes):\n",
    "    Aeroplane.append(i.text) \n",
    "else:\n",
    "    pass\n",
    "\n",
    "# Extracting Departure Time of Filght via Xpath\n",
    "dept_times = driver.find_elements(By.XPATH,'//div[@class=\"i-b pr\"]')\n",
    "for i in tqdm(dept_times):\n",
    "    Dept_time.append(i.text)\n",
    "else :\n",
    "    pass\n",
    "\n",
    "# Extracting Arrival Time via xpath\n",
    "arrival = driver.find_elements(By.XPATH,'//p[@class=\"bold fs-15 mb-2 pr time\"]')\n",
    "for i in tqdm(arrival):\n",
    "    Arrival_time.append(i.text)\n",
    "else :\n",
    "    pass\n",
    "\n",
    "# Extracting Source of flight via Xpath\n",
    "source = driver.find_elements(By.XPATH,\"//div[@class='i-b col-4 no-wrap text-right dtime col-3']/p\")\n",
    "for i in tqdm(source):\n",
    "    Source.append(i.text)\n",
    "else :\n",
    "    pass\n",
    "\n",
    "# Extracting Destination of Flights via Xpath\n",
    "destination = driver.find_elements(By.XPATH,'//div[@class=\"i-b pdd-0 text-left atime col-5\"]/p[2]')\n",
    "for i in tqdm(destination):\n",
    "    Destination.append(i.text)\n",
    "else:\n",
    "    pass\n",
    "\n",
    "# Extracting Duration of Flights via Xpath\n",
    "duration = driver.find_elements(By.XPATH,'//div[@class=\"stop-cont pl-13\"]/p')\n",
    "for i in tqdm(duration):\n",
    "    Duration.append(i.text)\n",
    "else:\n",
    "    pass\n",
    "\n",
    "# Extracting stop details via Xpath\n",
    "stop = driver.find_elements(By.XPATH,\"//div[@class='stop-cont pl-13']/div/span\")\n",
    "for i in tqdm(stop):\n",
    "    Stops.append(i.text)\n",
    "else:\n",
    "    pass\n",
    "\n",
    "# Extracting Price of Flights via Xpath\n",
    "count = 0\n",
    "price = driver.find_elements(By.XPATH,'//div[@class=\"i-b tipsy fare-summary-tooltip fs-18\"]')\n",
    "for i in tqdm(price):\n",
    "    Price.append(i.text.replace(',',''))\n",
    "    count = count +1\n",
    "else:\n",
    "    count = count +1\n",
    "    pass\n",
    "\n",
    "# Clicking on Flights details element\n",
    "Button = driver.find_elements(By.XPATH,'//div[@class=\"link-color fs-12 cursor-pointer\"]/span')\n",
    "driver.execute_script(\"arguments[0].click();\", WebDriverWait(driver, 20).until(EC.element_to_be_clickable((By.XPATH,'//div[@class=\"link-color fs-12 cursor-pointer\"]/span'))))\n",
    "time.sleep(1)\n",
    "\n",
    "# Extracting Date of Flights via Xpath\n",
    "date = driver.find_element(By.XPATH,'//div[@class=\"bold fs-12 mb-5\"]')\n",
    "a = date.text\n",
    "for i in tqdm(range(count-1)):\n",
    "    Date.append(a)\n",
    "else:\n",
    "    pass\n",
    "\n",
    "#Extracting class of flight via Xpath\n",
    "class_=driver.find_element(By.XPATH,'/html/body/section[2]/section/section[2]/section[1]/div[2]/div[2]/div/div[1]/div/div[3]/div[2]/div[1]/div[2]/div/div/div/div[1]/div[2]/div[1]/span[3]')\n",
    "a=class_.text\n",
    "for i in tqdm(range(count-1)):\n",
    "    Class.append(a)\n",
    "else:\n",
    "    pass\n"
   ]
  },
  {
   "cell_type": "code",
   "execution_count": 92,
   "id": "8d9f6aa4",
   "metadata": {},
   "outputs": [
    {
     "data": {
      "text/plain": [
       "(1401, 1401, 1401, 1401, 1401, 1401, 1401, 1401, 1401, 1401, 1401)"
      ]
     },
     "execution_count": 92,
     "metadata": {},
     "output_type": "execute_result"
    }
   ],
   "source": [
    "#Checking for length of columns\n",
    "len(Aeroplane), len(Airlines), len(Dept_time), len(Arrival_time),len(Class), len(Source), len(Destination), len(Duration), len(Stops),len(Price), len(Date)"
   ]
  },
  {
   "cell_type": "markdown",
   "id": "a91e2841",
   "metadata": {},
   "source": [
    "# Opening Business flights from Mumbai to Banglore on 16 Jan 2023"
   ]
  },
  {
   "cell_type": "code",
   "execution_count": 93,
   "id": "b5e07d24",
   "metadata": {},
   "outputs": [],
   "source": [
    "url=\"https://flight.yatra.com/air-search-ui/dom2/trigger?ADT=1&CHD=0&INF=0&class=Business&destination=BLR&destinationCountry=IN&flexi=0&flight_depart_date=16%2F01%2F2023&hb=0&noOfSegments=1&origin=BOM&originCountry=IN&type=O&unique=1673339407853&viewName=normal\""
   ]
  },
  {
   "cell_type": "code",
   "execution_count": 97,
   "id": "d2f636c1",
   "metadata": {},
   "outputs": [],
   "source": [
    "driver.get(url)\n",
    "time.sleep(2)"
   ]
  },
  {
   "cell_type": "code",
   "execution_count": 98,
   "id": "0c5849f4",
   "metadata": {},
   "outputs": [
    {
     "name": "stderr",
     "output_type": "stream",
     "text": [
      "100%|████████████████████████████████████████████████████████████████████████████████| 150/150 [00:57<00:00,  2.60it/s]\n"
     ]
    }
   ],
   "source": [
    "from tqdm import tqdm\n",
    "for _ in tqdm (range(0,150)):\n",
    "    time.sleep(0.1)\n",
    "    driver.execute_script(\"window.scrollBy(0,2000)\",\"\")\n",
    "    time.sleep(0.2)\n",
    "    driver.execute_script(\"window.scrollBy(0,-500)\",\"\")"
   ]
  },
  {
   "cell_type": "code",
   "execution_count": 99,
   "id": "1783abe1",
   "metadata": {},
   "outputs": [
    {
     "data": {
      "text/plain": [
       "80"
      ]
     },
     "execution_count": 99,
     "metadata": {},
     "output_type": "execute_result"
    }
   ],
   "source": [
    "flights=driver.find_elements(By.XPATH,'//div[@class=\"flight-det table full-width clearfix\"]')\n",
    "len(flights)"
   ]
  },
  {
   "cell_type": "code",
   "execution_count": 100,
   "id": "71b00e05",
   "metadata": {},
   "outputs": [
    {
     "name": "stderr",
     "output_type": "stream",
     "text": [
      "100%|██████████████████████████████████████████████████████████████████████████████████| 80/80 [00:02<00:00, 39.82it/s]\n",
      "100%|██████████████████████████████████████████████████████████████████████████████████| 80/80 [00:02<00:00, 38.19it/s]\n",
      "100%|██████████████████████████████████████████████████████████████████████████████████| 80/80 [00:02<00:00, 35.09it/s]\n",
      "100%|██████████████████████████████████████████████████████████████████████████████████| 80/80 [00:02<00:00, 33.93it/s]\n",
      "100%|██████████████████████████████████████████████████████████████████████████████████| 80/80 [00:02<00:00, 32.16it/s]\n",
      "100%|██████████████████████████████████████████████████████████████████████████████████| 80/80 [00:02<00:00, 30.62it/s]\n",
      "100%|██████████████████████████████████████████████████████████████████████████████████| 80/80 [00:02<00:00, 28.96it/s]\n",
      "100%|██████████████████████████████████████████████████████████████████████████████████| 80/80 [00:02<00:00, 26.80it/s]\n",
      "100%|██████████████████████████████████████████████████████████████████████████████████████████| 80/80 [00:00<?, ?it/s]\n",
      "100%|██████████████████████████████████████████████████████████████████████████████████████████| 80/80 [00:00<?, ?it/s]\n"
     ]
    }
   ],
   "source": [
    "# Extracting Airlines Name Via Xpath\n",
    "airlines = driver.find_elements(By.XPATH,\"//div[@class='fs-13 airline-name no-pad col-8']/span\")\n",
    "for i in airlines:\n",
    "    Airlines.append(i.text.replace(\"\\n\",\" \"))\n",
    "else :\n",
    "    pass\n",
    "\n",
    "# Extracting Aeroplane model via xpath\n",
    "aeroplanes = driver.find_elements(By.XPATH,'//p[@class=\"normal fs-11 font-lightestgrey no-wrap fl-no\"]/span')\n",
    "for i in tqdm(aeroplanes):\n",
    "    Aeroplane.append(i.text) \n",
    "else:\n",
    "    pass\n",
    "\n",
    "# Extracting Departure Time of Filght via Xpath\n",
    "dept_times = driver.find_elements(By.XPATH,'//div[@class=\"i-b pr\"]')\n",
    "for i in tqdm(dept_times):\n",
    "    Dept_time.append(i.text)\n",
    "else :\n",
    "    pass\n",
    "\n",
    "# Extracting Arrival Time via xpath\n",
    "arrival = driver.find_elements(By.XPATH,'//p[@class=\"bold fs-15 mb-2 pr time\"]')\n",
    "for i in tqdm(arrival):\n",
    "    Arrival_time.append(i.text)\n",
    "else :\n",
    "    pass\n",
    "\n",
    "# Extracting Source of flight via Xpath\n",
    "source = driver.find_elements(By.XPATH,\"//div[@class='i-b col-4 no-wrap text-right dtime col-3']/p\")\n",
    "for i in tqdm(source):\n",
    "    Source.append(i.text)\n",
    "else :\n",
    "    pass\n",
    "\n",
    "# Extracting Destination of Flights via Xpath\n",
    "destination = driver.find_elements(By.XPATH,'//div[@class=\"i-b pdd-0 text-left atime col-5\"]/p[2]')\n",
    "for i in tqdm(destination):\n",
    "    Destination.append(i.text)\n",
    "else:\n",
    "    pass\n",
    "\n",
    "# Extracting Duration of Flights via Xpath\n",
    "duration = driver.find_elements(By.XPATH,'//div[@class=\"stop-cont pl-13\"]/p')\n",
    "for i in tqdm(duration):\n",
    "    Duration.append(i.text)\n",
    "else:\n",
    "    pass\n",
    "\n",
    "# Extracting stop details via Xpath\n",
    "stop = driver.find_elements(By.XPATH,\"//div[@class='stop-cont pl-13']/div/span\")\n",
    "for i in tqdm(stop):\n",
    "    Stops.append(i.text)\n",
    "else:\n",
    "    pass\n",
    "\n",
    "# Extracting Price of Flights via Xpath\n",
    "count = 0\n",
    "price = driver.find_elements(By.XPATH,'//div[@class=\"i-b tipsy fare-summary-tooltip fs-18\"]')\n",
    "for i in tqdm(price):\n",
    "    Price.append(i.text.replace(',',''))\n",
    "    count = count +1\n",
    "else:\n",
    "    count = count +1\n",
    "    pass\n",
    "\n",
    "# Clicking on Flights details element\n",
    "Button = driver.find_elements(By.XPATH,'//div[@class=\"link-color fs-12 cursor-pointer\"]/span')\n",
    "driver.execute_script(\"arguments[0].click();\", WebDriverWait(driver, 20).until(EC.element_to_be_clickable((By.XPATH,'//div[@class=\"link-color fs-12 cursor-pointer\"]/span'))))\n",
    "time.sleep(1)\n",
    "\n",
    "# Extracting Date of Flights via Xpath\n",
    "date = driver.find_element(By.XPATH,'//div[@class=\"bold fs-12 mb-5\"]')\n",
    "a = date.text\n",
    "for i in tqdm(range(count-1)):\n",
    "    Date.append(a)\n",
    "else:\n",
    "    pass\n",
    "\n",
    "#Extracting class of flight via Xpath\n",
    "class_=driver.find_element(By.XPATH,'/html/body/section[2]/section/section[2]/section[1]/div[2]/div[2]/div/div[1]/div/div[3]/div[2]/div[1]/div[2]/div/div/div/div[1]/div[2]/div[1]/span[3]')\n",
    "a=class_.text\n",
    "for i in tqdm(range(count-1)):\n",
    "    Class.append(a)\n",
    "else:\n",
    "    pass\n"
   ]
  },
  {
   "cell_type": "code",
   "execution_count": 101,
   "id": "c34a614e",
   "metadata": {},
   "outputs": [
    {
     "data": {
      "text/plain": [
       "(1481, 1481, 1481, 1481, 1481, 1481, 1481, 1481, 1481, 1481, 1481)"
      ]
     },
     "execution_count": 101,
     "metadata": {},
     "output_type": "execute_result"
    }
   ],
   "source": [
    "#Checking for length of columns\n",
    "len(Aeroplane), len(Airlines), len(Dept_time), len(Arrival_time),len(Class), len(Source), len(Destination), len(Duration), len(Stops),len(Price), len(Date)"
   ]
  },
  {
   "cell_type": "markdown",
   "id": "2125cc64",
   "metadata": {},
   "source": [
    "# Opening Business flights from Mumbai to Banglore on 17 Jan 2023"
   ]
  },
  {
   "cell_type": "code",
   "execution_count": 102,
   "id": "6ae5d82c",
   "metadata": {},
   "outputs": [],
   "source": [
    "url=\"https://flight.yatra.com/air-search-ui/dom2/trigger?ADT=1&CHD=0&INF=0&class=Business&destination=BLR&destinationCountry=IN&flexi=0&flight_depart_date=17%2F01%2F2023&hb=0&noOfSegments=1&origin=BOM&originCountry=IN&type=O&unique=1673340108538&viewName=normal\""
   ]
  },
  {
   "cell_type": "code",
   "execution_count": 103,
   "id": "acdd30ca",
   "metadata": {},
   "outputs": [],
   "source": [
    "driver.get(url)\n",
    "time.sleep(2)"
   ]
  },
  {
   "cell_type": "code",
   "execution_count": 104,
   "id": "807e4a79",
   "metadata": {},
   "outputs": [
    {
     "name": "stderr",
     "output_type": "stream",
     "text": [
      "100%|████████████████████████████████████████████████████████████████████████████████| 150/150 [00:59<00:00,  2.52it/s]\n"
     ]
    }
   ],
   "source": [
    "from tqdm import tqdm\n",
    "for _ in tqdm (range(0,150)):\n",
    "    time.sleep(0.1)\n",
    "    driver.execute_script(\"window.scrollBy(0,2000)\",\"\")\n",
    "    time.sleep(0.2)\n",
    "    driver.execute_script(\"window.scrollBy(0,-500)\",\"\")"
   ]
  },
  {
   "cell_type": "code",
   "execution_count": 105,
   "id": "c23514de",
   "metadata": {},
   "outputs": [
    {
     "data": {
      "text/plain": [
       "77"
      ]
     },
     "execution_count": 105,
     "metadata": {},
     "output_type": "execute_result"
    }
   ],
   "source": [
    "flights=driver.find_elements(By.XPATH,'//div[@class=\"flight-det table full-width clearfix\"]')\n",
    "len(flights)"
   ]
  },
  {
   "cell_type": "code",
   "execution_count": 106,
   "id": "91e3e8d9",
   "metadata": {},
   "outputs": [
    {
     "name": "stderr",
     "output_type": "stream",
     "text": [
      "100%|██████████████████████████████████████████████████████████████████████████████████| 77/77 [00:01<00:00, 40.58it/s]\n",
      "100%|██████████████████████████████████████████████████████████████████████████████████| 77/77 [00:02<00:00, 37.56it/s]\n",
      "100%|██████████████████████████████████████████████████████████████████████████████████| 77/77 [00:02<00:00, 36.18it/s]\n",
      "100%|██████████████████████████████████████████████████████████████████████████████████| 77/77 [00:02<00:00, 33.60it/s]\n",
      "100%|██████████████████████████████████████████████████████████████████████████████████| 77/77 [00:02<00:00, 31.58it/s]\n",
      "100%|██████████████████████████████████████████████████████████████████████████████████| 77/77 [00:02<00:00, 31.93it/s]\n",
      "100%|██████████████████████████████████████████████████████████████████████████████████| 77/77 [00:02<00:00, 28.74it/s]\n",
      "100%|██████████████████████████████████████████████████████████████████████████████████| 77/77 [00:02<00:00, 28.42it/s]\n",
      "100%|██████████████████████████████████████████████████████████████████████████████████████████| 77/77 [00:00<?, ?it/s]\n",
      "100%|██████████████████████████████████████████████████████████████████████████████████████████| 77/77 [00:00<?, ?it/s]\n"
     ]
    }
   ],
   "source": [
    "# Extracting Airlines Name Via Xpath\n",
    "airlines = driver.find_elements(By.XPATH,\"//div[@class='fs-13 airline-name no-pad col-8']/span\")\n",
    "for i in airlines:\n",
    "    Airlines.append(i.text.replace(\"\\n\",\" \"))\n",
    "else :\n",
    "    pass\n",
    "\n",
    "# Extracting Aeroplane model via xpath\n",
    "aeroplanes = driver.find_elements(By.XPATH,'//p[@class=\"normal fs-11 font-lightestgrey no-wrap fl-no\"]/span')\n",
    "for i in tqdm(aeroplanes):\n",
    "    Aeroplane.append(i.text) \n",
    "else:\n",
    "    pass\n",
    "\n",
    "# Extracting Departure Time of Filght via Xpath\n",
    "dept_times = driver.find_elements(By.XPATH,'//div[@class=\"i-b pr\"]')\n",
    "for i in tqdm(dept_times):\n",
    "    Dept_time.append(i.text)\n",
    "else :\n",
    "    pass\n",
    "\n",
    "# Extracting Arrival Time via xpath\n",
    "arrival = driver.find_elements(By.XPATH,'//p[@class=\"bold fs-15 mb-2 pr time\"]')\n",
    "for i in tqdm(arrival):\n",
    "    Arrival_time.append(i.text)\n",
    "else :\n",
    "    pass\n",
    "\n",
    "# Extracting Source of flight via Xpath\n",
    "source = driver.find_elements(By.XPATH,\"//div[@class='i-b col-4 no-wrap text-right dtime col-3']/p\")\n",
    "for i in tqdm(source):\n",
    "    Source.append(i.text)\n",
    "else :\n",
    "    pass\n",
    "\n",
    "# Extracting Destination of Flights via Xpath\n",
    "destination = driver.find_elements(By.XPATH,'//div[@class=\"i-b pdd-0 text-left atime col-5\"]/p[2]')\n",
    "for i in tqdm(destination):\n",
    "    Destination.append(i.text)\n",
    "else:\n",
    "    pass\n",
    "\n",
    "# Extracting Duration of Flights via Xpath\n",
    "duration = driver.find_elements(By.XPATH,'//div[@class=\"stop-cont pl-13\"]/p')\n",
    "for i in tqdm(duration):\n",
    "    Duration.append(i.text)\n",
    "else:\n",
    "    pass\n",
    "\n",
    "# Extracting stop details via Xpath\n",
    "stop = driver.find_elements(By.XPATH,\"//div[@class='stop-cont pl-13']/div/span\")\n",
    "for i in tqdm(stop):\n",
    "    Stops.append(i.text)\n",
    "else:\n",
    "    pass\n",
    "\n",
    "# Extracting Price of Flights via Xpath\n",
    "count = 0\n",
    "price = driver.find_elements(By.XPATH,'//div[@class=\"i-b tipsy fare-summary-tooltip fs-18\"]')\n",
    "for i in tqdm(price):\n",
    "    Price.append(i.text.replace(',',''))\n",
    "    count = count +1\n",
    "else:\n",
    "    count = count +1\n",
    "    pass\n",
    "\n",
    "# Clicking on Flights details element\n",
    "Button = driver.find_elements(By.XPATH,'//div[@class=\"link-color fs-12 cursor-pointer\"]/span')\n",
    "driver.execute_script(\"arguments[0].click();\", WebDriverWait(driver, 20).until(EC.element_to_be_clickable((By.XPATH,'//div[@class=\"link-color fs-12 cursor-pointer\"]/span'))))\n",
    "time.sleep(1)\n",
    "\n",
    "# Extracting Date of Flights via Xpath\n",
    "date = driver.find_element(By.XPATH,'//div[@class=\"bold fs-12 mb-5\"]')\n",
    "a = date.text\n",
    "for i in tqdm(range(count-1)):\n",
    "    Date.append(a)\n",
    "else:\n",
    "    pass\n",
    "\n",
    "#Extracting class of flight via Xpath\n",
    "class_=driver.find_element(By.XPATH,'/html/body/section[2]/section/section[2]/section[1]/div[2]/div[2]/div/div[1]/div/div[3]/div[2]/div[1]/div[2]/div/div/div/div[1]/div[2]/div[1]/span[3]')\n",
    "a=class_.text\n",
    "for i in tqdm(range(count-1)):\n",
    "    Class.append(a)\n",
    "else:\n",
    "    pass\n"
   ]
  },
  {
   "cell_type": "code",
   "execution_count": 107,
   "id": "142eba88",
   "metadata": {},
   "outputs": [
    {
     "data": {
      "text/plain": [
       "(1558, 1558, 1558, 1558, 1558, 1558, 1558, 1558, 1558, 1558, 1558)"
      ]
     },
     "execution_count": 107,
     "metadata": {},
     "output_type": "execute_result"
    }
   ],
   "source": [
    "#Checking for length of columns\n",
    "len(Aeroplane), len(Airlines), len(Dept_time), len(Arrival_time),len(Class), len(Source), len(Destination), len(Duration), len(Stops),len(Price), len(Date)"
   ]
  },
  {
   "cell_type": "markdown",
   "id": "1c23b494",
   "metadata": {},
   "source": [
    "# Opening Business flights from Mumbai to Banglore on 18 Jan 2023"
   ]
  },
  {
   "cell_type": "code",
   "execution_count": 108,
   "id": "b5a0e2a3",
   "metadata": {},
   "outputs": [],
   "source": [
    "url=\"https://flight.yatra.com/air-search-ui/dom2/trigger?ADT=1&CHD=0&INF=0&class=Business&destination=BLR&destinationCountry=IN&flexi=0&flight_depart_date=18%2F01%2F2023&hb=0&noOfSegments=1&origin=BOM&originCountry=IN&type=O&unique=1673340143193&viewName=normal\""
   ]
  },
  {
   "cell_type": "code",
   "execution_count": 109,
   "id": "9a52caa4",
   "metadata": {},
   "outputs": [],
   "source": [
    "driver.get(url)\n",
    "time.sleep(2)"
   ]
  },
  {
   "cell_type": "code",
   "execution_count": 110,
   "id": "98f77bfe",
   "metadata": {},
   "outputs": [
    {
     "name": "stderr",
     "output_type": "stream",
     "text": [
      "100%|████████████████████████████████████████████████████████████████████████████████| 150/150 [00:58<00:00,  2.57it/s]\n"
     ]
    }
   ],
   "source": [
    "from tqdm import tqdm\n",
    "for _ in tqdm (range(0,150)):\n",
    "    time.sleep(0.1)\n",
    "    driver.execute_script(\"window.scrollBy(0,2000)\",\"\")\n",
    "    time.sleep(0.2)\n",
    "    driver.execute_script(\"window.scrollBy(0,-500)\",\"\")"
   ]
  },
  {
   "cell_type": "code",
   "execution_count": 111,
   "id": "ca17d31b",
   "metadata": {},
   "outputs": [
    {
     "data": {
      "text/plain": [
       "80"
      ]
     },
     "execution_count": 111,
     "metadata": {},
     "output_type": "execute_result"
    }
   ],
   "source": [
    "flights=driver.find_elements(By.XPATH,'//div[@class=\"flight-det table full-width clearfix\"]')\n",
    "len(flights)"
   ]
  },
  {
   "cell_type": "code",
   "execution_count": 112,
   "id": "fc027189",
   "metadata": {},
   "outputs": [
    {
     "name": "stderr",
     "output_type": "stream",
     "text": [
      "100%|██████████████████████████████████████████████████████████████████████████████████| 80/80 [00:02<00:00, 37.52it/s]\n",
      "100%|██████████████████████████████████████████████████████████████████████████████████| 80/80 [00:02<00:00, 36.18it/s]\n",
      "100%|██████████████████████████████████████████████████████████████████████████████████| 80/80 [00:02<00:00, 34.45it/s]\n",
      "100%|██████████████████████████████████████████████████████████████████████████████████| 80/80 [00:02<00:00, 33.13it/s]\n",
      "100%|██████████████████████████████████████████████████████████████████████████████████| 80/80 [00:02<00:00, 31.47it/s]\n",
      "100%|██████████████████████████████████████████████████████████████████████████████████| 80/80 [00:02<00:00, 29.56it/s]\n",
      "100%|██████████████████████████████████████████████████████████████████████████████████| 80/80 [00:02<00:00, 28.23it/s]\n",
      "100%|██████████████████████████████████████████████████████████████████████████████████| 80/80 [00:02<00:00, 26.70it/s]\n",
      "100%|██████████████████████████████████████████████████████████████████████████████████████████| 80/80 [00:00<?, ?it/s]\n",
      "100%|██████████████████████████████████████████████████████████████████████████████████████████| 80/80 [00:00<?, ?it/s]\n"
     ]
    }
   ],
   "source": [
    "# Extracting Airlines Name Via Xpath\n",
    "airlines = driver.find_elements(By.XPATH,\"//div[@class='fs-13 airline-name no-pad col-8']/span\")\n",
    "for i in airlines:\n",
    "    Airlines.append(i.text.replace(\"\\n\",\" \"))\n",
    "else :\n",
    "    pass\n",
    "\n",
    "# Extracting Aeroplane model via xpath\n",
    "aeroplanes = driver.find_elements(By.XPATH,'//p[@class=\"normal fs-11 font-lightestgrey no-wrap fl-no\"]/span')\n",
    "for i in tqdm(aeroplanes):\n",
    "    Aeroplane.append(i.text) \n",
    "else:\n",
    "    pass\n",
    "\n",
    "# Extracting Departure Time of Filght via Xpath\n",
    "dept_times = driver.find_elements(By.XPATH,'//div[@class=\"i-b pr\"]')\n",
    "for i in tqdm(dept_times):\n",
    "    Dept_time.append(i.text)\n",
    "else :\n",
    "    pass\n",
    "\n",
    "# Extracting Arrival Time via xpath\n",
    "arrival = driver.find_elements(By.XPATH,'//p[@class=\"bold fs-15 mb-2 pr time\"]')\n",
    "for i in tqdm(arrival):\n",
    "    Arrival_time.append(i.text)\n",
    "else :\n",
    "    pass\n",
    "\n",
    "# Extracting Source of flight via Xpath\n",
    "source = driver.find_elements(By.XPATH,\"//div[@class='i-b col-4 no-wrap text-right dtime col-3']/p\")\n",
    "for i in tqdm(source):\n",
    "    Source.append(i.text)\n",
    "else :\n",
    "    pass\n",
    "\n",
    "# Extracting Destination of Flights via Xpath\n",
    "destination = driver.find_elements(By.XPATH,'//div[@class=\"i-b pdd-0 text-left atime col-5\"]/p[2]')\n",
    "for i in tqdm(destination):\n",
    "    Destination.append(i.text)\n",
    "else:\n",
    "    pass\n",
    "\n",
    "# Extracting Duration of Flights via Xpath\n",
    "duration = driver.find_elements(By.XPATH,'//div[@class=\"stop-cont pl-13\"]/p')\n",
    "for i in tqdm(duration):\n",
    "    Duration.append(i.text)\n",
    "else:\n",
    "    pass\n",
    "\n",
    "# Extracting stop details via Xpath\n",
    "stop = driver.find_elements(By.XPATH,\"//div[@class='stop-cont pl-13']/div/span\")\n",
    "for i in tqdm(stop):\n",
    "    Stops.append(i.text)\n",
    "else:\n",
    "    pass\n",
    "\n",
    "# Extracting Price of Flights via Xpath\n",
    "count = 0\n",
    "price = driver.find_elements(By.XPATH,'//div[@class=\"i-b tipsy fare-summary-tooltip fs-18\"]')\n",
    "for i in tqdm(price):\n",
    "    Price.append(i.text.replace(',',''))\n",
    "    count = count +1\n",
    "else:\n",
    "    count = count +1\n",
    "    pass\n",
    "\n",
    "# Clicking on Flights details element\n",
    "Button = driver.find_elements(By.XPATH,'//div[@class=\"link-color fs-12 cursor-pointer\"]/span')\n",
    "driver.execute_script(\"arguments[0].click();\", WebDriverWait(driver, 20).until(EC.element_to_be_clickable((By.XPATH,'//div[@class=\"link-color fs-12 cursor-pointer\"]/span'))))\n",
    "time.sleep(1)\n",
    "\n",
    "# Extracting Date of Flights via Xpath\n",
    "date = driver.find_element(By.XPATH,'//div[@class=\"bold fs-12 mb-5\"]')\n",
    "a = date.text\n",
    "for i in tqdm(range(count-1)):\n",
    "    Date.append(a)\n",
    "else:\n",
    "    pass\n",
    "\n",
    "#Extracting class of flight via Xpath\n",
    "class_=driver.find_element(By.XPATH,'/html/body/section[2]/section/section[2]/section[1]/div[2]/div[2]/div/div[1]/div/div[3]/div[2]/div[1]/div[2]/div/div/div/div[1]/div[2]/div[1]/span[3]')\n",
    "a=class_.text\n",
    "for i in tqdm(range(count-1)):\n",
    "    Class.append(a)\n",
    "else:\n",
    "    pass\n"
   ]
  },
  {
   "cell_type": "code",
   "execution_count": 113,
   "id": "3fba38f8",
   "metadata": {},
   "outputs": [
    {
     "data": {
      "text/plain": [
       "(1638, 1638, 1638, 1638, 1638, 1638, 1638, 1638, 1638, 1638, 1638)"
      ]
     },
     "execution_count": 113,
     "metadata": {},
     "output_type": "execute_result"
    }
   ],
   "source": [
    "#Checking for length of columns\n",
    "len(Aeroplane), len(Airlines), len(Dept_time), len(Arrival_time),len(Class), len(Source), len(Destination), len(Duration), len(Stops),len(Price), len(Date)"
   ]
  },
  {
   "cell_type": "markdown",
   "id": "45539fc8",
   "metadata": {},
   "source": [
    "# Opening Business flights from Mumbai to Banglore on 19 Jan 2023"
   ]
  },
  {
   "cell_type": "code",
   "execution_count": 114,
   "id": "0f602ace",
   "metadata": {},
   "outputs": [],
   "source": [
    "url=\"https://flight.yatra.com/air-search-ui/dom2/trigger?ADT=1&CHD=0&INF=0&class=Business&destination=BLR&destinationCountry=IN&flexi=0&flight_depart_date=19%2F01%2F2023&hb=0&noOfSegments=1&origin=BOM&originCountry=IN&type=O&unique=1673340228133&viewName=normal\""
   ]
  },
  {
   "cell_type": "code",
   "execution_count": 118,
   "id": "a5dc1a05",
   "metadata": {},
   "outputs": [],
   "source": [
    "driver.get(url)\n",
    "time.sleep(2)"
   ]
  },
  {
   "cell_type": "code",
   "execution_count": 119,
   "id": "71abcfab",
   "metadata": {},
   "outputs": [
    {
     "name": "stderr",
     "output_type": "stream",
     "text": [
      "100%|████████████████████████████████████████████████████████████████████████████████| 150/150 [00:55<00:00,  2.71it/s]\n"
     ]
    }
   ],
   "source": [
    "from tqdm import tqdm\n",
    "for _ in tqdm (range(0,150)):\n",
    "    time.sleep(0.1)\n",
    "    driver.execute_script(\"window.scrollBy(0,2000)\",\"\")\n",
    "    time.sleep(0.2)\n",
    "    driver.execute_script(\"window.scrollBy(0,-500)\",\"\")"
   ]
  },
  {
   "cell_type": "code",
   "execution_count": 120,
   "id": "20a1ddb8",
   "metadata": {},
   "outputs": [
    {
     "data": {
      "text/plain": [
       "64"
      ]
     },
     "execution_count": 120,
     "metadata": {},
     "output_type": "execute_result"
    }
   ],
   "source": [
    "flights=driver.find_elements(By.XPATH,'//div[@class=\"flight-det table full-width clearfix\"]')\n",
    "len(flights)"
   ]
  },
  {
   "cell_type": "code",
   "execution_count": 121,
   "id": "92d14c26",
   "metadata": {},
   "outputs": [
    {
     "name": "stderr",
     "output_type": "stream",
     "text": [
      "100%|██████████████████████████████████████████████████████████████████████████████████| 64/64 [00:01<00:00, 41.38it/s]\n",
      "100%|██████████████████████████████████████████████████████████████████████████████████| 64/64 [00:01<00:00, 38.26it/s]\n",
      "100%|██████████████████████████████████████████████████████████████████████████████████| 64/64 [00:01<00:00, 36.69it/s]\n",
      "100%|██████████████████████████████████████████████████████████████████████████████████| 64/64 [00:01<00:00, 35.98it/s]\n",
      "100%|██████████████████████████████████████████████████████████████████████████████████| 64/64 [00:01<00:00, 34.46it/s]\n",
      "100%|██████████████████████████████████████████████████████████████████████████████████| 64/64 [00:01<00:00, 32.95it/s]\n",
      "100%|██████████████████████████████████████████████████████████████████████████████████| 64/64 [00:02<00:00, 31.68it/s]\n",
      "100%|██████████████████████████████████████████████████████████████████████████████████| 64/64 [00:02<00:00, 29.79it/s]\n",
      "100%|██████████████████████████████████████████████████████████████████████████████████████████| 64/64 [00:00<?, ?it/s]\n",
      "100%|███████████████████████████████████████████████████████████████████████████████| 64/64 [00:00<00:00, 42649.42it/s]\n"
     ]
    }
   ],
   "source": [
    "# Extracting Airlines Name Via Xpath\n",
    "airlines = driver.find_elements(By.XPATH,\"//div[@class='fs-13 airline-name no-pad col-8']/span\")\n",
    "for i in airlines:\n",
    "    Airlines.append(i.text.replace(\"\\n\",\" \"))\n",
    "else :\n",
    "    pass\n",
    "\n",
    "# Extracting Aeroplane model via xpath\n",
    "aeroplanes = driver.find_elements(By.XPATH,'//p[@class=\"normal fs-11 font-lightestgrey no-wrap fl-no\"]/span')\n",
    "for i in tqdm(aeroplanes):\n",
    "    Aeroplane.append(i.text) \n",
    "else:\n",
    "    pass\n",
    "\n",
    "# Extracting Departure Time of Filght via Xpath\n",
    "dept_times = driver.find_elements(By.XPATH,'//div[@class=\"i-b pr\"]')\n",
    "for i in tqdm(dept_times):\n",
    "    Dept_time.append(i.text)\n",
    "else :\n",
    "    pass\n",
    "\n",
    "# Extracting Arrival Time via xpath\n",
    "arrival = driver.find_elements(By.XPATH,'//p[@class=\"bold fs-15 mb-2 pr time\"]')\n",
    "for i in tqdm(arrival):\n",
    "    Arrival_time.append(i.text)\n",
    "else :\n",
    "    pass\n",
    "\n",
    "# Extracting Source of flight via Xpath\n",
    "source = driver.find_elements(By.XPATH,\"//div[@class='i-b col-4 no-wrap text-right dtime col-3']/p\")\n",
    "for i in tqdm(source):\n",
    "    Source.append(i.text)\n",
    "else :\n",
    "    pass\n",
    "\n",
    "# Extracting Destination of Flights via Xpath\n",
    "destination = driver.find_elements(By.XPATH,'//div[@class=\"i-b pdd-0 text-left atime col-5\"]/p[2]')\n",
    "for i in tqdm(destination):\n",
    "    Destination.append(i.text)\n",
    "else:\n",
    "    pass\n",
    "\n",
    "# Extracting Duration of Flights via Xpath\n",
    "duration = driver.find_elements(By.XPATH,'//div[@class=\"stop-cont pl-13\"]/p')\n",
    "for i in tqdm(duration):\n",
    "    Duration.append(i.text)\n",
    "else:\n",
    "    pass\n",
    "\n",
    "# Extracting stop details via Xpath\n",
    "stop = driver.find_elements(By.XPATH,\"//div[@class='stop-cont pl-13']/div/span\")\n",
    "for i in tqdm(stop):\n",
    "    Stops.append(i.text)\n",
    "else:\n",
    "    pass\n",
    "\n",
    "# Extracting Price of Flights via Xpath\n",
    "count = 0\n",
    "price = driver.find_elements(By.XPATH,'//div[@class=\"i-b tipsy fare-summary-tooltip fs-18\"]')\n",
    "for i in tqdm(price):\n",
    "    Price.append(i.text.replace(',',''))\n",
    "    count = count +1\n",
    "else:\n",
    "    count = count +1\n",
    "    pass\n",
    "\n",
    "# Clicking on Flights details element\n",
    "Button = driver.find_elements(By.XPATH,'//div[@class=\"link-color fs-12 cursor-pointer\"]/span')\n",
    "driver.execute_script(\"arguments[0].click();\", WebDriverWait(driver, 20).until(EC.element_to_be_clickable((By.XPATH,'//div[@class=\"link-color fs-12 cursor-pointer\"]/span'))))\n",
    "time.sleep(1)\n",
    "\n",
    "# Extracting Date of Flights via Xpath\n",
    "date = driver.find_element(By.XPATH,'//div[@class=\"bold fs-12 mb-5\"]')\n",
    "a = date.text\n",
    "for i in tqdm(range(count-1)):\n",
    "    Date.append(a)\n",
    "else:\n",
    "    pass\n",
    "\n",
    "#Extracting class of flight via Xpath\n",
    "class_=driver.find_element(By.XPATH,'/html/body/section[2]/section/section[2]/section[1]/div[2]/div[2]/div/div[1]/div/div[3]/div[2]/div[1]/div[2]/div/div/div/div[1]/div[2]/div[1]/span[3]')\n",
    "a=class_.text\n",
    "for i in tqdm(range(count-1)):\n",
    "    Class.append(a)\n",
    "else:\n",
    "    pass\n"
   ]
  },
  {
   "cell_type": "code",
   "execution_count": 122,
   "id": "68766eba",
   "metadata": {},
   "outputs": [
    {
     "data": {
      "text/plain": [
       "(1702, 1702, 1702, 1702, 1702, 1702, 1702, 1702, 1702, 1702, 1702)"
      ]
     },
     "execution_count": 122,
     "metadata": {},
     "output_type": "execute_result"
    }
   ],
   "source": [
    "#Checking for length of columns\n",
    "len(Aeroplane), len(Airlines), len(Dept_time), len(Arrival_time),len(Class), len(Source), len(Destination), len(Duration), len(Stops),len(Price), len(Date)"
   ]
  },
  {
   "cell_type": "markdown",
   "id": "cfafffe6",
   "metadata": {},
   "source": [
    "# Opening Business flights from Mumbai to Banglore on 20 Jan 2023"
   ]
  },
  {
   "cell_type": "code",
   "execution_count": 123,
   "id": "2f66f276",
   "metadata": {},
   "outputs": [],
   "source": [
    "url=\"https://flight.yatra.com/air-search-ui/dom2/trigger?ADT=1&CHD=0&INF=0&class=Business&destination=BLR&destinationCountry=IN&flexi=0&flight_depart_date=20%2F01%2F2023&hb=0&noOfSegments=1&origin=BOM&originCountry=IN&type=O&unique=1673340260059&viewName=normal\""
   ]
  },
  {
   "cell_type": "code",
   "execution_count": 124,
   "id": "93bbdebf",
   "metadata": {},
   "outputs": [],
   "source": [
    "driver.get(url)\n",
    "time.sleep(2)"
   ]
  },
  {
   "cell_type": "code",
   "execution_count": 125,
   "id": "2b99282d",
   "metadata": {},
   "outputs": [
    {
     "name": "stderr",
     "output_type": "stream",
     "text": [
      "100%|████████████████████████████████████████████████████████████████████████████████| 155/155 [01:00<00:00,  2.55it/s]\n"
     ]
    }
   ],
   "source": [
    "from tqdm import tqdm\n",
    "for _ in tqdm (range(0,155)):\n",
    "    time.sleep(0.1)\n",
    "    driver.execute_script(\"window.scrollBy(0,2000)\",\"\")\n",
    "    time.sleep(0.2)\n",
    "    driver.execute_script(\"window.scrollBy(0,-500)\",\"\")"
   ]
  },
  {
   "cell_type": "code",
   "execution_count": 126,
   "id": "788d4637",
   "metadata": {},
   "outputs": [
    {
     "data": {
      "text/plain": [
       "72"
      ]
     },
     "execution_count": 126,
     "metadata": {},
     "output_type": "execute_result"
    }
   ],
   "source": [
    "flights=driver.find_elements(By.XPATH,'//div[@class=\"flight-det table full-width clearfix\"]')\n",
    "len(flights)"
   ]
  },
  {
   "cell_type": "code",
   "execution_count": 127,
   "id": "ec488e65",
   "metadata": {},
   "outputs": [
    {
     "name": "stderr",
     "output_type": "stream",
     "text": [
      "100%|██████████████████████████████████████████████████████████████████████████████████| 72/72 [00:01<00:00, 40.98it/s]\n",
      "100%|██████████████████████████████████████████████████████████████████████████████████| 72/72 [00:01<00:00, 37.96it/s]\n",
      "100%|██████████████████████████████████████████████████████████████████████████████████| 72/72 [00:02<00:00, 35.99it/s]\n",
      "100%|██████████████████████████████████████████████████████████████████████████████████| 72/72 [00:02<00:00, 34.31it/s]\n",
      "100%|██████████████████████████████████████████████████████████████████████████████████| 72/72 [00:02<00:00, 33.52it/s]\n",
      "100%|██████████████████████████████████████████████████████████████████████████████████| 72/72 [00:02<00:00, 31.48it/s]\n",
      "100%|██████████████████████████████████████████████████████████████████████████████████| 72/72 [00:02<00:00, 31.42it/s]\n",
      "100%|██████████████████████████████████████████████████████████████████████████████████| 72/72 [00:02<00:00, 28.16it/s]\n",
      "100%|██████████████████████████████████████████████████████████████████████████████████████████| 72/72 [00:00<?, ?it/s]\n",
      "100%|██████████████████████████████████████████████████████████████████████████████████████████| 72/72 [00:00<?, ?it/s]\n"
     ]
    }
   ],
   "source": [
    "# Extracting Airlines Name Via Xpath\n",
    "airlines = driver.find_elements(By.XPATH,\"//div[@class='fs-13 airline-name no-pad col-8']/span\")\n",
    "for i in airlines:\n",
    "    Airlines.append(i.text.replace(\"\\n\",\" \"))\n",
    "else :\n",
    "    pass\n",
    "\n",
    "# Extracting Aeroplane model via xpath\n",
    "aeroplanes = driver.find_elements(By.XPATH,'//p[@class=\"normal fs-11 font-lightestgrey no-wrap fl-no\"]/span')\n",
    "for i in tqdm(aeroplanes):\n",
    "    Aeroplane.append(i.text) \n",
    "else:\n",
    "    pass\n",
    "\n",
    "# Extracting Departure Time of Filght via Xpath\n",
    "dept_times = driver.find_elements(By.XPATH,'//div[@class=\"i-b pr\"]')\n",
    "for i in tqdm(dept_times):\n",
    "    Dept_time.append(i.text)\n",
    "else :\n",
    "    pass\n",
    "\n",
    "# Extracting Arrival Time via xpath\n",
    "arrival = driver.find_elements(By.XPATH,'//p[@class=\"bold fs-15 mb-2 pr time\"]')\n",
    "for i in tqdm(arrival):\n",
    "    Arrival_time.append(i.text)\n",
    "else :\n",
    "    pass\n",
    "\n",
    "# Extracting Source of flight via Xpath\n",
    "source = driver.find_elements(By.XPATH,\"//div[@class='i-b col-4 no-wrap text-right dtime col-3']/p\")\n",
    "for i in tqdm(source):\n",
    "    Source.append(i.text)\n",
    "else :\n",
    "    pass\n",
    "\n",
    "# Extracting Destination of Flights via Xpath\n",
    "destination = driver.find_elements(By.XPATH,'//div[@class=\"i-b pdd-0 text-left atime col-5\"]/p[2]')\n",
    "for i in tqdm(destination):\n",
    "    Destination.append(i.text)\n",
    "else:\n",
    "    pass\n",
    "\n",
    "# Extracting Duration of Flights via Xpath\n",
    "duration = driver.find_elements(By.XPATH,'//div[@class=\"stop-cont pl-13\"]/p')\n",
    "for i in tqdm(duration):\n",
    "    Duration.append(i.text)\n",
    "else:\n",
    "    pass\n",
    "\n",
    "# Extracting stop details via Xpath\n",
    "stop = driver.find_elements(By.XPATH,\"//div[@class='stop-cont pl-13']/div/span\")\n",
    "for i in tqdm(stop):\n",
    "    Stops.append(i.text)\n",
    "else:\n",
    "    pass\n",
    "\n",
    "# Extracting Price of Flights via Xpath\n",
    "count = 0\n",
    "price = driver.find_elements(By.XPATH,'//div[@class=\"i-b tipsy fare-summary-tooltip fs-18\"]')\n",
    "for i in tqdm(price):\n",
    "    Price.append(i.text.replace(',',''))\n",
    "    count = count +1\n",
    "else:\n",
    "    count = count +1\n",
    "    pass\n",
    "\n",
    "# Clicking on Flights details element\n",
    "Button = driver.find_elements(By.XPATH,'//div[@class=\"link-color fs-12 cursor-pointer\"]/span')\n",
    "driver.execute_script(\"arguments[0].click();\", WebDriverWait(driver, 20).until(EC.element_to_be_clickable((By.XPATH,'//div[@class=\"link-color fs-12 cursor-pointer\"]/span'))))\n",
    "time.sleep(1)\n",
    "\n",
    "# Extracting Date of Flights via Xpath\n",
    "date = driver.find_element(By.XPATH,'//div[@class=\"bold fs-12 mb-5\"]')\n",
    "a = date.text\n",
    "for i in tqdm(range(count-1)):\n",
    "    Date.append(a)\n",
    "else:\n",
    "    pass\n",
    "\n",
    "#Extracting class of flight via Xpath\n",
    "class_=driver.find_element(By.XPATH,'/html/body/section[2]/section/section[2]/section[1]/div[2]/div[2]/div/div[1]/div/div[3]/div[2]/div[1]/div[2]/div/div/div/div[1]/div[2]/div[1]/span[3]')\n",
    "a=class_.text\n",
    "for i in tqdm(range(count-1)):\n",
    "    Class.append(a)\n",
    "else:\n",
    "    pass\n"
   ]
  },
  {
   "cell_type": "code",
   "execution_count": 128,
   "id": "eb160eb2",
   "metadata": {},
   "outputs": [
    {
     "data": {
      "text/plain": [
       "(1774, 1774, 1774, 1774, 1774, 1774, 1774, 1774, 1774, 1774, 1774)"
      ]
     },
     "execution_count": 128,
     "metadata": {},
     "output_type": "execute_result"
    }
   ],
   "source": [
    "#Checking for length of columns\n",
    "len(Aeroplane), len(Airlines), len(Dept_time), len(Arrival_time),len(Class), len(Source), len(Destination), len(Duration), len(Stops),len(Price), len(Date)"
   ]
  },
  {
   "cell_type": "markdown",
   "id": "18b71b01",
   "metadata": {},
   "source": [
    "# Premium Economy/Special Class Flights"
   ]
  },
  {
   "cell_type": "markdown",
   "id": "38f5ab54",
   "metadata": {},
   "source": [
    "# Opening  Premium Economy flights from Mumbai to Banglore on 12 Jan 2023"
   ]
  },
  {
   "cell_type": "code",
   "execution_count": 129,
   "id": "626092c8",
   "metadata": {},
   "outputs": [],
   "source": [
    "url=\"https://flight.yatra.com/air-search-ui/dom2/trigger?ADT=1&CHD=0&INF=0&class=Special&destination=BLR&destinationCountry=IN&flexi=0&flight_depart_date=12%2F01%2F2023&hb=0&noOfSegments=1&origin=BOM&originCountry=IN&type=O&unique=1673340412469&viewName=normal\""
   ]
  },
  {
   "cell_type": "code",
   "execution_count": 130,
   "id": "9b67bd4a",
   "metadata": {},
   "outputs": [],
   "source": [
    "driver.get(url)\n",
    "time.sleep(2)"
   ]
  },
  {
   "cell_type": "code",
   "execution_count": 131,
   "id": "c60bd580",
   "metadata": {},
   "outputs": [
    {
     "name": "stderr",
     "output_type": "stream",
     "text": [
      "100%|████████████████████████████████████████████████████████████████████████████████| 155/155 [00:53<00:00,  2.92it/s]\n"
     ]
    }
   ],
   "source": [
    "from tqdm import tqdm\n",
    "for _ in tqdm (range(0,155)):\n",
    "    time.sleep(0.1)\n",
    "    driver.execute_script(\"window.scrollBy(0,2000)\",\"\")\n",
    "    time.sleep(0.2)\n",
    "    driver.execute_script(\"window.scrollBy(0,-500)\",\"\")"
   ]
  },
  {
   "cell_type": "code",
   "execution_count": 132,
   "id": "efc63e78",
   "metadata": {},
   "outputs": [
    {
     "data": {
      "text/plain": [
       "41"
      ]
     },
     "execution_count": 132,
     "metadata": {},
     "output_type": "execute_result"
    }
   ],
   "source": [
    "flights=driver.find_elements(By.XPATH,'//div[@class=\"flight-det table full-width clearfix\"]')\n",
    "len(flights)"
   ]
  },
  {
   "cell_type": "code",
   "execution_count": 133,
   "id": "13f0f6f0",
   "metadata": {},
   "outputs": [
    {
     "name": "stderr",
     "output_type": "stream",
     "text": [
      "100%|██████████████████████████████████████████████████████████████████████████████████| 41/41 [00:01<00:00, 40.60it/s]\n",
      "100%|██████████████████████████████████████████████████████████████████████████████████| 41/41 [00:01<00:00, 39.95it/s]\n",
      "100%|██████████████████████████████████████████████████████████████████████████████████| 41/41 [00:01<00:00, 38.37it/s]\n",
      "100%|██████████████████████████████████████████████████████████████████████████████████| 41/41 [00:01<00:00, 38.13it/s]\n",
      "100%|██████████████████████████████████████████████████████████████████████████████████| 41/41 [00:01<00:00, 37.72it/s]\n",
      "100%|██████████████████████████████████████████████████████████████████████████████████| 41/41 [00:01<00:00, 36.48it/s]\n",
      "100%|██████████████████████████████████████████████████████████████████████████████████| 41/41 [00:01<00:00, 35.30it/s]\n",
      "100%|██████████████████████████████████████████████████████████████████████████████████| 41/41 [00:01<00:00, 33.47it/s]\n",
      "100%|██████████████████████████████████████████████████████████████████████████████████████████| 41/41 [00:00<?, ?it/s]\n",
      "100%|███████████████████████████████████████████████████████████████████████████████| 41/41 [00:00<00:00, 10431.69it/s]\n"
     ]
    }
   ],
   "source": [
    "# Extracting Airlines Name Via Xpath\n",
    "airlines = driver.find_elements(By.XPATH,\"//div[@class='fs-13 airline-name no-pad col-8']/span\")\n",
    "for i in airlines:\n",
    "    Airlines.append(i.text.replace(\"\\n\",\" \"))\n",
    "else :\n",
    "    pass\n",
    "\n",
    "# Extracting Aeroplane model via xpath\n",
    "aeroplanes = driver.find_elements(By.XPATH,'//p[@class=\"normal fs-11 font-lightestgrey no-wrap fl-no\"]/span')\n",
    "for i in tqdm(aeroplanes):\n",
    "    Aeroplane.append(i.text) \n",
    "else:\n",
    "    pass\n",
    "\n",
    "# Extracting Departure Time of Filght via Xpath\n",
    "dept_times = driver.find_elements(By.XPATH,'//div[@class=\"i-b pr\"]')\n",
    "for i in tqdm(dept_times):\n",
    "    Dept_time.append(i.text)\n",
    "else :\n",
    "    pass\n",
    "\n",
    "# Extracting Arrival Time via xpath\n",
    "arrival = driver.find_elements(By.XPATH,'//p[@class=\"bold fs-15 mb-2 pr time\"]')\n",
    "for i in tqdm(arrival):\n",
    "    Arrival_time.append(i.text)\n",
    "else :\n",
    "    pass\n",
    "\n",
    "# Extracting Source of flight via Xpath\n",
    "source = driver.find_elements(By.XPATH,\"//div[@class='i-b col-4 no-wrap text-right dtime col-3']/p\")\n",
    "for i in tqdm(source):\n",
    "    Source.append(i.text)\n",
    "else :\n",
    "    pass\n",
    "\n",
    "# Extracting Destination of Flights via Xpath\n",
    "destination = driver.find_elements(By.XPATH,'//div[@class=\"i-b pdd-0 text-left atime col-5\"]/p[2]')\n",
    "for i in tqdm(destination):\n",
    "    Destination.append(i.text)\n",
    "else:\n",
    "    pass\n",
    "\n",
    "# Extracting Duration of Flights via Xpath\n",
    "duration = driver.find_elements(By.XPATH,'//div[@class=\"stop-cont pl-13\"]/p')\n",
    "for i in tqdm(duration):\n",
    "    Duration.append(i.text)\n",
    "else:\n",
    "    pass\n",
    "\n",
    "# Extracting stop details via Xpath\n",
    "stop = driver.find_elements(By.XPATH,\"//div[@class='stop-cont pl-13']/div/span\")\n",
    "for i in tqdm(stop):\n",
    "    Stops.append(i.text)\n",
    "else:\n",
    "    pass\n",
    "\n",
    "# Extracting Price of Flights via Xpath\n",
    "count = 0\n",
    "price = driver.find_elements(By.XPATH,'//div[@class=\"i-b tipsy fare-summary-tooltip fs-18\"]')\n",
    "for i in tqdm(price):\n",
    "    Price.append(i.text.replace(',',''))\n",
    "    count = count +1\n",
    "else:\n",
    "    count = count +1\n",
    "    pass\n",
    "\n",
    "# Clicking on Flights details element\n",
    "Button = driver.find_elements(By.XPATH,'//div[@class=\"link-color fs-12 cursor-pointer\"]/span')\n",
    "driver.execute_script(\"arguments[0].click();\", WebDriverWait(driver, 20).until(EC.element_to_be_clickable((By.XPATH,'//div[@class=\"link-color fs-12 cursor-pointer\"]/span'))))\n",
    "time.sleep(1)\n",
    "\n",
    "# Extracting Date of Flights via Xpath\n",
    "date = driver.find_element(By.XPATH,'//div[@class=\"bold fs-12 mb-5\"]')\n",
    "a = date.text\n",
    "for i in tqdm(range(count-1)):\n",
    "    Date.append(a)\n",
    "else:\n",
    "    pass\n",
    "\n",
    "#Extracting class of flight via Xpath\n",
    "class_=driver.find_element(By.XPATH,'/html/body/section[2]/section/section[2]/section[1]/div[2]/div[2]/div/div[1]/div/div[3]/div[2]/div[1]/div[2]/div/div/div/div[1]/div[2]/div[1]/span[3]')\n",
    "a=class_.text\n",
    "for i in tqdm(range(count-1)):\n",
    "    Class.append(a)\n",
    "else:\n",
    "    pass\n"
   ]
  },
  {
   "cell_type": "code",
   "execution_count": 134,
   "id": "7878afb6",
   "metadata": {},
   "outputs": [
    {
     "data": {
      "text/plain": [
       "(1815, 1815, 1815, 1815, 1815, 1815, 1815, 1815, 1815, 1815, 1815)"
      ]
     },
     "execution_count": 134,
     "metadata": {},
     "output_type": "execute_result"
    }
   ],
   "source": [
    "#Checking for length of columns\n",
    "len(Aeroplane), len(Airlines), len(Dept_time), len(Arrival_time),len(Class), len(Source), len(Destination), len(Duration), len(Stops),len(Price), len(Date)"
   ]
  },
  {
   "cell_type": "markdown",
   "id": "273c10ea",
   "metadata": {},
   "source": [
    "# Opening  Premium Economy flights from Mumbai to Banglore on 13 Jan 2023"
   ]
  },
  {
   "cell_type": "code",
   "execution_count": 135,
   "id": "69008e81",
   "metadata": {},
   "outputs": [],
   "source": [
    "url=\"https://flight.yatra.com/air-search-ui/dom2/trigger?ADT=1&CHD=0&INF=0&class=Special&destination=BLR&destinationCountry=IN&flexi=0&flight_depart_date=13%2F01%2F2023&hb=0&noOfSegments=1&origin=BOM&originCountry=IN&type=O&unique=1673340438348&viewName=normal\""
   ]
  },
  {
   "cell_type": "code",
   "execution_count": 139,
   "id": "e2debc28",
   "metadata": {},
   "outputs": [],
   "source": [
    "driver.get(url)\n",
    "time.sleep(2)"
   ]
  },
  {
   "cell_type": "code",
   "execution_count": 140,
   "id": "542bc0c0",
   "metadata": {},
   "outputs": [
    {
     "name": "stderr",
     "output_type": "stream",
     "text": [
      "100%|████████████████████████████████████████████████████████████████████████████████| 155/155 [00:56<00:00,  2.72it/s]\n"
     ]
    }
   ],
   "source": [
    "from tqdm import tqdm\n",
    "for _ in tqdm (range(0,155)):\n",
    "    time.sleep(0.1)\n",
    "    driver.execute_script(\"window.scrollBy(0,2000)\",\"\")\n",
    "    time.sleep(0.2)\n",
    "    driver.execute_script(\"window.scrollBy(0,-500)\",\"\")"
   ]
  },
  {
   "cell_type": "code",
   "execution_count": 141,
   "id": "70e01bbd",
   "metadata": {},
   "outputs": [
    {
     "data": {
      "text/plain": [
       "49"
      ]
     },
     "execution_count": 141,
     "metadata": {},
     "output_type": "execute_result"
    }
   ],
   "source": [
    "flights=driver.find_elements(By.XPATH,'//div[@class=\"flight-det table full-width clearfix\"]')\n",
    "len(flights)"
   ]
  },
  {
   "cell_type": "code",
   "execution_count": 142,
   "id": "56b376d9",
   "metadata": {},
   "outputs": [
    {
     "name": "stderr",
     "output_type": "stream",
     "text": [
      "100%|██████████████████████████████████████████████████████████████████████████████████| 49/49 [00:01<00:00, 39.98it/s]\n",
      "100%|██████████████████████████████████████████████████████████████████████████████████| 49/49 [00:01<00:00, 38.87it/s]\n",
      "100%|██████████████████████████████████████████████████████████████████████████████████| 49/49 [00:01<00:00, 38.47it/s]\n",
      "100%|██████████████████████████████████████████████████████████████████████████████████| 49/49 [00:01<00:00, 37.37it/s]\n",
      "100%|██████████████████████████████████████████████████████████████████████████████████| 49/49 [00:01<00:00, 35.85it/s]\n",
      "100%|██████████████████████████████████████████████████████████████████████████████████| 49/49 [00:01<00:00, 31.79it/s]\n",
      "100%|██████████████████████████████████████████████████████████████████████████████████| 49/49 [00:01<00:00, 32.37it/s]\n",
      "100%|██████████████████████████████████████████████████████████████████████████████████| 49/49 [00:01<00:00, 32.04it/s]\n",
      "100%|██████████████████████████████████████████████████████████████████████████████████████████| 49/49 [00:00<?, ?it/s]\n",
      "100%|██████████████████████████████████████████████████████████████████████████████████████████| 49/49 [00:00<?, ?it/s]\n"
     ]
    }
   ],
   "source": [
    "# Extracting Airlines Name Via Xpath\n",
    "airlines = driver.find_elements(By.XPATH,\"//div[@class='fs-13 airline-name no-pad col-8']/span\")\n",
    "for i in airlines:\n",
    "    Airlines.append(i.text.replace(\"\\n\",\" \"))\n",
    "else :\n",
    "    pass\n",
    "\n",
    "# Extracting Aeroplane model via xpath\n",
    "aeroplanes = driver.find_elements(By.XPATH,'//p[@class=\"normal fs-11 font-lightestgrey no-wrap fl-no\"]/span')\n",
    "for i in tqdm(aeroplanes):\n",
    "    Aeroplane.append(i.text) \n",
    "else:\n",
    "    pass\n",
    "\n",
    "# Extracting Departure Time of Filght via Xpath\n",
    "dept_times = driver.find_elements(By.XPATH,'//div[@class=\"i-b pr\"]')\n",
    "for i in tqdm(dept_times):\n",
    "    Dept_time.append(i.text)\n",
    "else :\n",
    "    pass\n",
    "\n",
    "# Extracting Arrival Time via xpath\n",
    "arrival = driver.find_elements(By.XPATH,'//p[@class=\"bold fs-15 mb-2 pr time\"]')\n",
    "for i in tqdm(arrival):\n",
    "    Arrival_time.append(i.text)\n",
    "else :\n",
    "    pass\n",
    "\n",
    "# Extracting Source of flight via Xpath\n",
    "source = driver.find_elements(By.XPATH,\"//div[@class='i-b col-4 no-wrap text-right dtime col-3']/p\")\n",
    "for i in tqdm(source):\n",
    "    Source.append(i.text)\n",
    "else :\n",
    "    pass\n",
    "\n",
    "# Extracting Destination of Flights via Xpath\n",
    "destination = driver.find_elements(By.XPATH,'//div[@class=\"i-b pdd-0 text-left atime col-5\"]/p[2]')\n",
    "for i in tqdm(destination):\n",
    "    Destination.append(i.text)\n",
    "else:\n",
    "    pass\n",
    "\n",
    "# Extracting Duration of Flights via Xpath\n",
    "duration = driver.find_elements(By.XPATH,'//div[@class=\"stop-cont pl-13\"]/p')\n",
    "for i in tqdm(duration):\n",
    "    Duration.append(i.text)\n",
    "else:\n",
    "    pass\n",
    "\n",
    "# Extracting stop details via Xpath\n",
    "stop = driver.find_elements(By.XPATH,\"//div[@class='stop-cont pl-13']/div/span\")\n",
    "for i in tqdm(stop):\n",
    "    Stops.append(i.text)\n",
    "else:\n",
    "    pass\n",
    "\n",
    "# Extracting Price of Flights via Xpath\n",
    "count = 0\n",
    "price = driver.find_elements(By.XPATH,'//div[@class=\"i-b tipsy fare-summary-tooltip fs-18\"]')\n",
    "for i in tqdm(price):\n",
    "    Price.append(i.text.replace(',',''))\n",
    "    count = count +1\n",
    "else:\n",
    "    count = count +1\n",
    "    pass\n",
    "\n",
    "# Clicking on Flights details element\n",
    "Button = driver.find_elements(By.XPATH,'//div[@class=\"link-color fs-12 cursor-pointer\"]/span')\n",
    "driver.execute_script(\"arguments[0].click();\", WebDriverWait(driver, 20).until(EC.element_to_be_clickable((By.XPATH,'//div[@class=\"link-color fs-12 cursor-pointer\"]/span'))))\n",
    "time.sleep(1)\n",
    "\n",
    "# Extracting Date of Flights via Xpath\n",
    "date = driver.find_element(By.XPATH,'//div[@class=\"bold fs-12 mb-5\"]')\n",
    "a = date.text\n",
    "for i in tqdm(range(count-1)):\n",
    "    Date.append(a)\n",
    "else:\n",
    "    pass\n",
    "\n",
    "#Extracting class of flight via Xpath\n",
    "class_=driver.find_element(By.XPATH,'/html/body/section[2]/section/section[2]/section[1]/div[2]/div[2]/div/div[1]/div/div[3]/div[2]/div[1]/div[2]/div/div/div/div[1]/div[2]/div[1]/span[3]')\n",
    "a=class_.text\n",
    "for i in tqdm(range(count-1)):\n",
    "    Class.append(a)\n",
    "else:\n",
    "    pass\n"
   ]
  },
  {
   "cell_type": "code",
   "execution_count": 143,
   "id": "817bfed4",
   "metadata": {},
   "outputs": [
    {
     "data": {
      "text/plain": [
       "(1864, 1864, 1864, 1864, 1864, 1864, 1864, 1864, 1864, 1864, 1864)"
      ]
     },
     "execution_count": 143,
     "metadata": {},
     "output_type": "execute_result"
    }
   ],
   "source": [
    "#Checking for length of columns\n",
    "len(Aeroplane), len(Airlines), len(Dept_time), len(Arrival_time),len(Class), len(Source), len(Destination), len(Duration), len(Stops),len(Price), len(Date)"
   ]
  },
  {
   "cell_type": "markdown",
   "id": "1e83ad6a",
   "metadata": {},
   "source": [
    "# Opening  Premium Economy flights from Mumbai to Banglore on 14 Jan 2023"
   ]
  },
  {
   "cell_type": "code",
   "execution_count": 144,
   "id": "0a93b649",
   "metadata": {},
   "outputs": [],
   "source": [
    "url=\"https://flight.yatra.com/air-search-ui/dom2/trigger?ADT=1&CHD=0&INF=0&class=Special&destination=BLR&destinationCountry=IN&flexi=0&flight_depart_date=14%2F01%2F2023&hb=0&noOfSegments=1&origin=BOM&originCountry=IN&type=O&unique=1673340456503&viewName=normal\""
   ]
  },
  {
   "cell_type": "code",
   "execution_count": 145,
   "id": "c88077ac",
   "metadata": {},
   "outputs": [],
   "source": [
    "driver.get(url)\n",
    "time.sleep(2)"
   ]
  },
  {
   "cell_type": "code",
   "execution_count": 146,
   "id": "bd9cf695",
   "metadata": {},
   "outputs": [
    {
     "name": "stderr",
     "output_type": "stream",
     "text": [
      "100%|████████████████████████████████████████████████████████████████████████████████| 155/155 [00:56<00:00,  2.76it/s]\n"
     ]
    }
   ],
   "source": [
    "from tqdm import tqdm\n",
    "for _ in tqdm (range(0,155)):\n",
    "    time.sleep(0.1)\n",
    "    driver.execute_script(\"window.scrollBy(0,2000)\",\"\")\n",
    "    time.sleep(0.2)\n",
    "    driver.execute_script(\"window.scrollBy(0,-500)\",\"\")"
   ]
  },
  {
   "cell_type": "code",
   "execution_count": 147,
   "id": "e5a7af32",
   "metadata": {},
   "outputs": [
    {
     "data": {
      "text/plain": [
       "52"
      ]
     },
     "execution_count": 147,
     "metadata": {},
     "output_type": "execute_result"
    }
   ],
   "source": [
    "flights=driver.find_elements(By.XPATH,'//div[@class=\"flight-det table full-width clearfix\"]')\n",
    "len(flights)"
   ]
  },
  {
   "cell_type": "code",
   "execution_count": 148,
   "id": "73bcac4e",
   "metadata": {},
   "outputs": [
    {
     "name": "stderr",
     "output_type": "stream",
     "text": [
      "100%|██████████████████████████████████████████████████████████████████████████████████| 52/52 [00:01<00:00, 41.39it/s]\n",
      "100%|██████████████████████████████████████████████████████████████████████████████████| 52/52 [00:01<00:00, 40.45it/s]\n",
      "100%|██████████████████████████████████████████████████████████████████████████████████| 52/52 [00:01<00:00, 38.77it/s]\n",
      "100%|██████████████████████████████████████████████████████████████████████████████████| 52/52 [00:01<00:00, 36.79it/s]\n",
      "100%|██████████████████████████████████████████████████████████████████████████████████| 52/52 [00:01<00:00, 35.23it/s]\n",
      "100%|██████████████████████████████████████████████████████████████████████████████████| 52/52 [00:01<00:00, 31.54it/s]\n",
      "100%|██████████████████████████████████████████████████████████████████████████████████| 52/52 [00:01<00:00, 33.11it/s]\n",
      "100%|██████████████████████████████████████████████████████████████████████████████████| 52/52 [00:01<00:00, 31.62it/s]\n",
      "100%|██████████████████████████████████████████████████████████████████████████████████████████| 52/52 [00:00<?, ?it/s]\n",
      "100%|██████████████████████████████████████████████████████████████████████████████████████████| 52/52 [00:00<?, ?it/s]\n"
     ]
    }
   ],
   "source": [
    "# Extracting Airlines Name Via Xpath\n",
    "airlines = driver.find_elements(By.XPATH,\"//div[@class='fs-13 airline-name no-pad col-8']/span\")\n",
    "for i in airlines:\n",
    "    Airlines.append(i.text.replace(\"\\n\",\" \"))\n",
    "else :\n",
    "    pass\n",
    "\n",
    "# Extracting Aeroplane model via xpath\n",
    "aeroplanes = driver.find_elements(By.XPATH,'//p[@class=\"normal fs-11 font-lightestgrey no-wrap fl-no\"]/span')\n",
    "for i in tqdm(aeroplanes):\n",
    "    Aeroplane.append(i.text) \n",
    "else:\n",
    "    pass\n",
    "\n",
    "# Extracting Departure Time of Filght via Xpath\n",
    "dept_times = driver.find_elements(By.XPATH,'//div[@class=\"i-b pr\"]')\n",
    "for i in tqdm(dept_times):\n",
    "    Dept_time.append(i.text)\n",
    "else :\n",
    "    pass\n",
    "\n",
    "# Extracting Arrival Time via xpath\n",
    "arrival = driver.find_elements(By.XPATH,'//p[@class=\"bold fs-15 mb-2 pr time\"]')\n",
    "for i in tqdm(arrival):\n",
    "    Arrival_time.append(i.text)\n",
    "else :\n",
    "    pass\n",
    "\n",
    "# Extracting Source of flight via Xpath\n",
    "source = driver.find_elements(By.XPATH,\"//div[@class='i-b col-4 no-wrap text-right dtime col-3']/p\")\n",
    "for i in tqdm(source):\n",
    "    Source.append(i.text)\n",
    "else :\n",
    "    pass\n",
    "\n",
    "# Extracting Destination of Flights via Xpath\n",
    "destination = driver.find_elements(By.XPATH,'//div[@class=\"i-b pdd-0 text-left atime col-5\"]/p[2]')\n",
    "for i in tqdm(destination):\n",
    "    Destination.append(i.text)\n",
    "else:\n",
    "    pass\n",
    "\n",
    "# Extracting Duration of Flights via Xpath\n",
    "duration = driver.find_elements(By.XPATH,'//div[@class=\"stop-cont pl-13\"]/p')\n",
    "for i in tqdm(duration):\n",
    "    Duration.append(i.text)\n",
    "else:\n",
    "    pass\n",
    "\n",
    "# Extracting stop details via Xpath\n",
    "stop = driver.find_elements(By.XPATH,\"//div[@class='stop-cont pl-13']/div/span\")\n",
    "for i in tqdm(stop):\n",
    "    Stops.append(i.text)\n",
    "else:\n",
    "    pass\n",
    "\n",
    "# Extracting Price of Flights via Xpath\n",
    "count = 0\n",
    "price = driver.find_elements(By.XPATH,'//div[@class=\"i-b tipsy fare-summary-tooltip fs-18\"]')\n",
    "for i in tqdm(price):\n",
    "    Price.append(i.text.replace(',',''))\n",
    "    count = count +1\n",
    "else:\n",
    "    count = count +1\n",
    "    pass\n",
    "\n",
    "# Clicking on Flights details element\n",
    "Button = driver.find_elements(By.XPATH,'//div[@class=\"link-color fs-12 cursor-pointer\"]/span')\n",
    "driver.execute_script(\"arguments[0].click();\", WebDriverWait(driver, 20).until(EC.element_to_be_clickable((By.XPATH,'//div[@class=\"link-color fs-12 cursor-pointer\"]/span'))))\n",
    "time.sleep(1)\n",
    "\n",
    "# Extracting Date of Flights via Xpath\n",
    "date = driver.find_element(By.XPATH,'//div[@class=\"bold fs-12 mb-5\"]')\n",
    "a = date.text\n",
    "for i in tqdm(range(count-1)):\n",
    "    Date.append(a)\n",
    "else:\n",
    "    pass\n",
    "\n",
    "#Extracting class of flight via Xpath\n",
    "class_=driver.find_element(By.XPATH,'/html/body/section[2]/section/section[2]/section[1]/div[2]/div[2]/div/div[1]/div/div[3]/div[2]/div[1]/div[2]/div/div/div/div[1]/div[2]/div[1]/span[3]')\n",
    "a=class_.text\n",
    "for i in tqdm(range(count-1)):\n",
    "    Class.append(a)\n",
    "else:\n",
    "    pass\n"
   ]
  },
  {
   "cell_type": "code",
   "execution_count": 149,
   "id": "b22fe569",
   "metadata": {},
   "outputs": [
    {
     "data": {
      "text/plain": [
       "(1916, 1916, 1916, 1916, 1916, 1916, 1916, 1916, 1916, 1916, 1916)"
      ]
     },
     "execution_count": 149,
     "metadata": {},
     "output_type": "execute_result"
    }
   ],
   "source": [
    "#Checking for length of columns\n",
    "len(Aeroplane), len(Airlines), len(Dept_time), len(Arrival_time),len(Class), len(Source), len(Destination), len(Duration), len(Stops),len(Price), len(Date)"
   ]
  },
  {
   "cell_type": "markdown",
   "id": "d7c35ae4",
   "metadata": {},
   "source": [
    "# Opening  Premium Economy flights from Mumbai to Banglore on 15 Jan 2023"
   ]
  },
  {
   "cell_type": "code",
   "execution_count": 150,
   "id": "d05d0903",
   "metadata": {},
   "outputs": [],
   "source": [
    "url=\"https://flight.yatra.com/air-search-ui/dom2/trigger?ADT=1&CHD=0&INF=0&class=Special&destination=BLR&destinationCountry=IN&flexi=0&flight_depart_date=15%2F01%2F2023&hb=0&noOfSegments=1&origin=BOM&originCountry=IN&type=O&unique=1673340479079&viewName=normal\""
   ]
  },
  {
   "cell_type": "code",
   "execution_count": 151,
   "id": "faa54095",
   "metadata": {},
   "outputs": [],
   "source": [
    "driver.get(url)\n",
    "time.sleep(2)"
   ]
  },
  {
   "cell_type": "code",
   "execution_count": 152,
   "id": "85492c93",
   "metadata": {},
   "outputs": [
    {
     "name": "stderr",
     "output_type": "stream",
     "text": [
      "100%|████████████████████████████████████████████████████████████████████████████████| 155/155 [00:56<00:00,  2.74it/s]\n"
     ]
    }
   ],
   "source": [
    "from tqdm import tqdm\n",
    "for _ in tqdm (range(0,155)):\n",
    "    time.sleep(0.1)\n",
    "    driver.execute_script(\"window.scrollBy(0,2000)\",\"\")\n",
    "    time.sleep(0.2)\n",
    "    driver.execute_script(\"window.scrollBy(0,-500)\",\"\")"
   ]
  },
  {
   "cell_type": "code",
   "execution_count": 153,
   "id": "eefe5b7f",
   "metadata": {},
   "outputs": [
    {
     "data": {
      "text/plain": [
       "52"
      ]
     },
     "execution_count": 153,
     "metadata": {},
     "output_type": "execute_result"
    }
   ],
   "source": [
    "flights=driver.find_elements(By.XPATH,'//div[@class=\"flight-det table full-width clearfix\"]')\n",
    "len(flights)"
   ]
  },
  {
   "cell_type": "code",
   "execution_count": 154,
   "id": "7fe20d95",
   "metadata": {},
   "outputs": [
    {
     "name": "stderr",
     "output_type": "stream",
     "text": [
      "100%|██████████████████████████████████████████████████████████████████████████████████| 52/52 [00:01<00:00, 39.06it/s]\n",
      "100%|██████████████████████████████████████████████████████████████████████████████████| 52/52 [00:01<00:00, 37.59it/s]\n",
      "100%|██████████████████████████████████████████████████████████████████████████████████| 52/52 [00:01<00:00, 36.74it/s]\n",
      "100%|██████████████████████████████████████████████████████████████████████████████████| 52/52 [00:01<00:00, 34.96it/s]\n",
      "100%|██████████████████████████████████████████████████████████████████████████████████| 52/52 [00:01<00:00, 35.39it/s]\n",
      "100%|██████████████████████████████████████████████████████████████████████████████████| 52/52 [00:01<00:00, 32.89it/s]\n",
      "100%|██████████████████████████████████████████████████████████████████████████████████| 52/52 [00:01<00:00, 31.61it/s]\n",
      "100%|██████████████████████████████████████████████████████████████████████████████████| 52/52 [00:01<00:00, 30.93it/s]\n",
      "100%|██████████████████████████████████████████████████████████████████████████████████████████| 52/52 [00:00<?, ?it/s]\n",
      "100%|██████████████████████████████████████████████████████████████████████████████████████████| 52/52 [00:00<?, ?it/s]\n"
     ]
    }
   ],
   "source": [
    "# Extracting Airlines Name Via Xpath\n",
    "airlines = driver.find_elements(By.XPATH,\"//div[@class='fs-13 airline-name no-pad col-8']/span\")\n",
    "for i in airlines:\n",
    "    Airlines.append(i.text.replace(\"\\n\",\" \"))\n",
    "else :\n",
    "    pass\n",
    "\n",
    "# Extracting Aeroplane model via xpath\n",
    "aeroplanes = driver.find_elements(By.XPATH,'//p[@class=\"normal fs-11 font-lightestgrey no-wrap fl-no\"]/span')\n",
    "for i in tqdm(aeroplanes):\n",
    "    Aeroplane.append(i.text) \n",
    "else:\n",
    "    pass\n",
    "\n",
    "# Extracting Departure Time of Filght via Xpath\n",
    "dept_times = driver.find_elements(By.XPATH,'//div[@class=\"i-b pr\"]')\n",
    "for i in tqdm(dept_times):\n",
    "    Dept_time.append(i.text)\n",
    "else :\n",
    "    pass\n",
    "\n",
    "# Extracting Arrival Time via xpath\n",
    "arrival = driver.find_elements(By.XPATH,'//p[@class=\"bold fs-15 mb-2 pr time\"]')\n",
    "for i in tqdm(arrival):\n",
    "    Arrival_time.append(i.text)\n",
    "else :\n",
    "    pass\n",
    "\n",
    "# Extracting Source of flight via Xpath\n",
    "source = driver.find_elements(By.XPATH,\"//div[@class='i-b col-4 no-wrap text-right dtime col-3']/p\")\n",
    "for i in tqdm(source):\n",
    "    Source.append(i.text)\n",
    "else :\n",
    "    pass\n",
    "\n",
    "# Extracting Destination of Flights via Xpath\n",
    "destination = driver.find_elements(By.XPATH,'//div[@class=\"i-b pdd-0 text-left atime col-5\"]/p[2]')\n",
    "for i in tqdm(destination):\n",
    "    Destination.append(i.text)\n",
    "else:\n",
    "    pass\n",
    "\n",
    "# Extracting Duration of Flights via Xpath\n",
    "duration = driver.find_elements(By.XPATH,'//div[@class=\"stop-cont pl-13\"]/p')\n",
    "for i in tqdm(duration):\n",
    "    Duration.append(i.text)\n",
    "else:\n",
    "    pass\n",
    "\n",
    "# Extracting stop details via Xpath\n",
    "stop = driver.find_elements(By.XPATH,\"//div[@class='stop-cont pl-13']/div/span\")\n",
    "for i in tqdm(stop):\n",
    "    Stops.append(i.text)\n",
    "else:\n",
    "    pass\n",
    "\n",
    "# Extracting Price of Flights via Xpath\n",
    "count = 0\n",
    "price = driver.find_elements(By.XPATH,'//div[@class=\"i-b tipsy fare-summary-tooltip fs-18\"]')\n",
    "for i in tqdm(price):\n",
    "    Price.append(i.text.replace(',',''))\n",
    "    count = count +1\n",
    "else:\n",
    "    count = count +1\n",
    "    pass\n",
    "\n",
    "# Clicking on Flights details element\n",
    "Button = driver.find_elements(By.XPATH,'//div[@class=\"link-color fs-12 cursor-pointer\"]/span')\n",
    "driver.execute_script(\"arguments[0].click();\", WebDriverWait(driver, 20).until(EC.element_to_be_clickable((By.XPATH,'//div[@class=\"link-color fs-12 cursor-pointer\"]/span'))))\n",
    "time.sleep(1)\n",
    "\n",
    "# Extracting Date of Flights via Xpath\n",
    "date = driver.find_element(By.XPATH,'//div[@class=\"bold fs-12 mb-5\"]')\n",
    "a = date.text\n",
    "for i in tqdm(range(count-1)):\n",
    "    Date.append(a)\n",
    "else:\n",
    "    pass\n",
    "\n",
    "#Extracting class of flight via Xpath\n",
    "class_=driver.find_element(By.XPATH,'/html/body/section[2]/section/section[2]/section[1]/div[2]/div[2]/div/div[1]/div/div[3]/div[2]/div[1]/div[2]/div/div/div/div[1]/div[2]/div[1]/span[3]')\n",
    "a=class_.text\n",
    "for i in tqdm(range(count-1)):\n",
    "    Class.append(a)\n",
    "else:\n",
    "    pass\n"
   ]
  },
  {
   "cell_type": "code",
   "execution_count": 155,
   "id": "b3148eb4",
   "metadata": {},
   "outputs": [
    {
     "data": {
      "text/plain": [
       "(1968, 1968, 1968, 1968, 1968, 1968, 1968, 1968, 1968, 1968, 1968)"
      ]
     },
     "execution_count": 155,
     "metadata": {},
     "output_type": "execute_result"
    }
   ],
   "source": [
    "#Checking for length of columns\n",
    "len(Aeroplane), len(Airlines), len(Dept_time), len(Arrival_time),len(Class), len(Source), len(Destination), len(Duration), len(Stops),len(Price), len(Date)"
   ]
  },
  {
   "cell_type": "markdown",
   "id": "95215674",
   "metadata": {},
   "source": [
    "# Opening  Premium Economy flights from Mumbai to Banglore on 16 Jan 2023"
   ]
  },
  {
   "cell_type": "code",
   "execution_count": 156,
   "id": "b54089cb",
   "metadata": {},
   "outputs": [],
   "source": [
    "url=\"https://flight.yatra.com/air-search-ui/dom2/trigger?ADT=1&CHD=0&INF=0&class=Special&destination=BLR&destinationCountry=IN&flexi=0&flight_depart_date=16%2F01%2F2023&hb=0&noOfSegments=1&origin=BOM&originCountry=IN&type=O&unique=1673340528303&viewName=normal\""
   ]
  },
  {
   "cell_type": "code",
   "execution_count": 160,
   "id": "cc171937",
   "metadata": {},
   "outputs": [],
   "source": [
    "driver.get(url)\n",
    "time.sleep(2)"
   ]
  },
  {
   "cell_type": "code",
   "execution_count": 161,
   "id": "e31c0036",
   "metadata": {},
   "outputs": [
    {
     "name": "stderr",
     "output_type": "stream",
     "text": [
      "100%|████████████████████████████████████████████████████████████████████████████████| 155/155 [00:55<00:00,  2.80it/s]\n"
     ]
    }
   ],
   "source": [
    "from tqdm import tqdm\n",
    "for _ in tqdm (range(0,155)):\n",
    "    time.sleep(0.1)\n",
    "    driver.execute_script(\"window.scrollBy(0,2000)\",\"\")\n",
    "    time.sleep(0.2)\n",
    "    driver.execute_script(\"window.scrollBy(0,-500)\",\"\")"
   ]
  },
  {
   "cell_type": "code",
   "execution_count": 162,
   "id": "e678e6be",
   "metadata": {},
   "outputs": [
    {
     "data": {
      "text/plain": [
       "50"
      ]
     },
     "execution_count": 162,
     "metadata": {},
     "output_type": "execute_result"
    }
   ],
   "source": [
    "flights=driver.find_elements(By.XPATH,'//div[@class=\"flight-det table full-width clearfix\"]')\n",
    "len(flights)"
   ]
  },
  {
   "cell_type": "code",
   "execution_count": 163,
   "id": "2c015228",
   "metadata": {},
   "outputs": [
    {
     "name": "stderr",
     "output_type": "stream",
     "text": [
      "100%|██████████████████████████████████████████████████████████████████████████████████| 50/50 [00:01<00:00, 40.99it/s]\n",
      "100%|██████████████████████████████████████████████████████████████████████████████████| 50/50 [00:01<00:00, 38.98it/s]\n",
      "100%|██████████████████████████████████████████████████████████████████████████████████| 50/50 [00:01<00:00, 37.01it/s]\n",
      "100%|██████████████████████████████████████████████████████████████████████████████████| 50/50 [00:01<00:00, 34.85it/s]\n",
      "100%|██████████████████████████████████████████████████████████████████████████████████| 50/50 [00:01<00:00, 36.10it/s]\n",
      "100%|██████████████████████████████████████████████████████████████████████████████████| 50/50 [00:01<00:00, 34.83it/s]\n",
      "100%|██████████████████████████████████████████████████████████████████████████████████| 50/50 [00:01<00:00, 33.78it/s]\n",
      "100%|██████████████████████████████████████████████████████████████████████████████████| 50/50 [00:01<00:00, 32.34it/s]\n",
      "100%|███████████████████████████████████████████████████████████████████████████████| 50/50 [00:00<00:00, 12426.83it/s]\n",
      "100%|██████████████████████████████████████████████████████████████████████████████████████████| 50/50 [00:00<?, ?it/s]\n"
     ]
    }
   ],
   "source": [
    "# Extracting Airlines Name Via Xpath\n",
    "airlines = driver.find_elements(By.XPATH,\"//div[@class='fs-13 airline-name no-pad col-8']/span\")\n",
    "for i in airlines:\n",
    "    Airlines.append(i.text.replace(\"\\n\",\" \"))\n",
    "else :\n",
    "    pass\n",
    "\n",
    "# Extracting Aeroplane model via xpath\n",
    "aeroplanes = driver.find_elements(By.XPATH,'//p[@class=\"normal fs-11 font-lightestgrey no-wrap fl-no\"]/span')\n",
    "for i in tqdm(aeroplanes):\n",
    "    Aeroplane.append(i.text) \n",
    "else:\n",
    "    pass\n",
    "\n",
    "# Extracting Departure Time of Filght via Xpath\n",
    "dept_times = driver.find_elements(By.XPATH,'//div[@class=\"i-b pr\"]')\n",
    "for i in tqdm(dept_times):\n",
    "    Dept_time.append(i.text)\n",
    "else :\n",
    "    pass\n",
    "\n",
    "# Extracting Arrival Time via xpath\n",
    "arrival = driver.find_elements(By.XPATH,'//p[@class=\"bold fs-15 mb-2 pr time\"]')\n",
    "for i in tqdm(arrival):\n",
    "    Arrival_time.append(i.text)\n",
    "else :\n",
    "    pass\n",
    "\n",
    "# Extracting Source of flight via Xpath\n",
    "source = driver.find_elements(By.XPATH,\"//div[@class='i-b col-4 no-wrap text-right dtime col-3']/p\")\n",
    "for i in tqdm(source):\n",
    "    Source.append(i.text)\n",
    "else :\n",
    "    pass\n",
    "\n",
    "# Extracting Destination of Flights via Xpath\n",
    "destination = driver.find_elements(By.XPATH,'//div[@class=\"i-b pdd-0 text-left atime col-5\"]/p[2]')\n",
    "for i in tqdm(destination):\n",
    "    Destination.append(i.text)\n",
    "else:\n",
    "    pass\n",
    "\n",
    "# Extracting Duration of Flights via Xpath\n",
    "duration = driver.find_elements(By.XPATH,'//div[@class=\"stop-cont pl-13\"]/p')\n",
    "for i in tqdm(duration):\n",
    "    Duration.append(i.text)\n",
    "else:\n",
    "    pass\n",
    "\n",
    "# Extracting stop details via Xpath\n",
    "stop = driver.find_elements(By.XPATH,\"//div[@class='stop-cont pl-13']/div/span\")\n",
    "for i in tqdm(stop):\n",
    "    Stops.append(i.text)\n",
    "else:\n",
    "    pass\n",
    "\n",
    "# Extracting Price of Flights via Xpath\n",
    "count = 0\n",
    "price = driver.find_elements(By.XPATH,'//div[@class=\"i-b tipsy fare-summary-tooltip fs-18\"]')\n",
    "for i in tqdm(price):\n",
    "    Price.append(i.text.replace(',',''))\n",
    "    count = count +1\n",
    "else:\n",
    "    count = count +1\n",
    "    pass\n",
    "\n",
    "# Clicking on Flights details element\n",
    "Button = driver.find_elements(By.XPATH,'//div[@class=\"link-color fs-12 cursor-pointer\"]/span')\n",
    "driver.execute_script(\"arguments[0].click();\", WebDriverWait(driver, 20).until(EC.element_to_be_clickable((By.XPATH,'//div[@class=\"link-color fs-12 cursor-pointer\"]/span'))))\n",
    "time.sleep(1)\n",
    "\n",
    "# Extracting Date of Flights via Xpath\n",
    "date = driver.find_element(By.XPATH,'//div[@class=\"bold fs-12 mb-5\"]')\n",
    "a = date.text\n",
    "for i in tqdm(range(count-1)):\n",
    "    Date.append(a)\n",
    "else:\n",
    "    pass\n",
    "\n",
    "#Extracting class of flight via Xpath\n",
    "class_=driver.find_element(By.XPATH,'/html/body/section[2]/section/section[2]/section[1]/div[2]/div[2]/div/div[1]/div/div[3]/div[2]/div[1]/div[2]/div/div/div/div[1]/div[2]/div[1]/span[3]')\n",
    "a=class_.text\n",
    "for i in tqdm(range(count-1)):\n",
    "    Class.append(a)\n",
    "else:\n",
    "    pass\n"
   ]
  },
  {
   "cell_type": "code",
   "execution_count": 164,
   "id": "30dd0cc4",
   "metadata": {},
   "outputs": [
    {
     "data": {
      "text/plain": [
       "(2018, 2018, 2018, 2018, 2018, 2018, 2018, 2018, 2018, 2018, 2018)"
      ]
     },
     "execution_count": 164,
     "metadata": {},
     "output_type": "execute_result"
    }
   ],
   "source": [
    "#Checking for length of columns\n",
    "len(Aeroplane), len(Airlines), len(Dept_time), len(Arrival_time),len(Class), len(Source), len(Destination), len(Duration), len(Stops),len(Price), len(Date)"
   ]
  },
  {
   "cell_type": "markdown",
   "id": "8d18220b",
   "metadata": {},
   "source": [
    "# Opening  Premium Economy flights from Mumbai to Banglore on 17 Jan 2023"
   ]
  },
  {
   "cell_type": "code",
   "execution_count": 165,
   "id": "de996b52",
   "metadata": {},
   "outputs": [],
   "source": [
    "url=\"https://flight.yatra.com/air-search-ui/dom2/trigger?ADT=1&CHD=0&INF=0&class=Special&destination=BLR&destinationCountry=IN&flexi=0&flight_depart_date=17%2F01%2F2023&hb=0&noOfSegments=1&origin=BOM&originCountry=IN&type=O&unique=1673340555294&viewName=normal\""
   ]
  },
  {
   "cell_type": "code",
   "execution_count": 166,
   "id": "e5b2a36b",
   "metadata": {},
   "outputs": [],
   "source": [
    "driver.get(url)\n",
    "time.sleep(2)"
   ]
  },
  {
   "cell_type": "code",
   "execution_count": 167,
   "id": "4d89977d",
   "metadata": {},
   "outputs": [
    {
     "name": "stderr",
     "output_type": "stream",
     "text": [
      "100%|████████████████████████████████████████████████████████████████████████████████| 155/155 [00:55<00:00,  2.78it/s]\n"
     ]
    }
   ],
   "source": [
    "from tqdm import tqdm\n",
    "for _ in tqdm (range(0,155)):\n",
    "    time.sleep(0.1)\n",
    "    driver.execute_script(\"window.scrollBy(0,2000)\",\"\")\n",
    "    time.sleep(0.2)\n",
    "    driver.execute_script(\"window.scrollBy(0,-500)\",\"\")"
   ]
  },
  {
   "cell_type": "code",
   "execution_count": 168,
   "id": "c5598d47",
   "metadata": {},
   "outputs": [
    {
     "data": {
      "text/plain": [
       "50"
      ]
     },
     "execution_count": 168,
     "metadata": {},
     "output_type": "execute_result"
    }
   ],
   "source": [
    "flights=driver.find_elements(By.XPATH,'//div[@class=\"flight-det table full-width clearfix\"]')\n",
    "len(flights)"
   ]
  },
  {
   "cell_type": "code",
   "execution_count": 169,
   "id": "470ed161",
   "metadata": {},
   "outputs": [
    {
     "name": "stderr",
     "output_type": "stream",
     "text": [
      "100%|██████████████████████████████████████████████████████████████████████████████████| 50/50 [00:01<00:00, 42.51it/s]\n",
      "100%|██████████████████████████████████████████████████████████████████████████████████| 50/50 [00:01<00:00, 40.48it/s]\n",
      "100%|██████████████████████████████████████████████████████████████████████████████████| 50/50 [00:01<00:00, 38.54it/s]\n",
      "100%|██████████████████████████████████████████████████████████████████████████████████| 50/50 [00:01<00:00, 37.32it/s]\n",
      "100%|██████████████████████████████████████████████████████████████████████████████████| 50/50 [00:01<00:00, 34.93it/s]\n",
      "100%|██████████████████████████████████████████████████████████████████████████████████| 50/50 [00:01<00:00, 33.43it/s]\n",
      "100%|██████████████████████████████████████████████████████████████████████████████████| 50/50 [00:01<00:00, 33.20it/s]\n",
      "100%|██████████████████████████████████████████████████████████████████████████████████| 50/50 [00:01<00:00, 32.45it/s]\n",
      "100%|██████████████████████████████████████████████████████████████████████████████████████████| 50/50 [00:00<?, ?it/s]\n",
      "100%|██████████████████████████████████████████████████████████████████████████████████████████| 50/50 [00:00<?, ?it/s]\n"
     ]
    }
   ],
   "source": [
    "# Extracting Airlines Name Via Xpath\n",
    "airlines = driver.find_elements(By.XPATH,\"//div[@class='fs-13 airline-name no-pad col-8']/span\")\n",
    "for i in airlines:\n",
    "    Airlines.append(i.text.replace(\"\\n\",\" \"))\n",
    "else :\n",
    "    pass\n",
    "\n",
    "# Extracting Aeroplane model via xpath\n",
    "aeroplanes = driver.find_elements(By.XPATH,'//p[@class=\"normal fs-11 font-lightestgrey no-wrap fl-no\"]/span')\n",
    "for i in tqdm(aeroplanes):\n",
    "    Aeroplane.append(i.text) \n",
    "else:\n",
    "    pass\n",
    "\n",
    "# Extracting Departure Time of Filght via Xpath\n",
    "dept_times = driver.find_elements(By.XPATH,'//div[@class=\"i-b pr\"]')\n",
    "for i in tqdm(dept_times):\n",
    "    Dept_time.append(i.text)\n",
    "else :\n",
    "    pass\n",
    "\n",
    "# Extracting Arrival Time via xpath\n",
    "arrival = driver.find_elements(By.XPATH,'//p[@class=\"bold fs-15 mb-2 pr time\"]')\n",
    "for i in tqdm(arrival):\n",
    "    Arrival_time.append(i.text)\n",
    "else :\n",
    "    pass\n",
    "\n",
    "# Extracting Source of flight via Xpath\n",
    "source = driver.find_elements(By.XPATH,\"//div[@class='i-b col-4 no-wrap text-right dtime col-3']/p\")\n",
    "for i in tqdm(source):\n",
    "    Source.append(i.text)\n",
    "else :\n",
    "    pass\n",
    "\n",
    "# Extracting Destination of Flights via Xpath\n",
    "destination = driver.find_elements(By.XPATH,'//div[@class=\"i-b pdd-0 text-left atime col-5\"]/p[2]')\n",
    "for i in tqdm(destination):\n",
    "    Destination.append(i.text)\n",
    "else:\n",
    "    pass\n",
    "\n",
    "# Extracting Duration of Flights via Xpath\n",
    "duration = driver.find_elements(By.XPATH,'//div[@class=\"stop-cont pl-13\"]/p')\n",
    "for i in tqdm(duration):\n",
    "    Duration.append(i.text)\n",
    "else:\n",
    "    pass\n",
    "\n",
    "# Extracting stop details via Xpath\n",
    "stop = driver.find_elements(By.XPATH,\"//div[@class='stop-cont pl-13']/div/span\")\n",
    "for i in tqdm(stop):\n",
    "    Stops.append(i.text)\n",
    "else:\n",
    "    pass\n",
    "\n",
    "# Extracting Price of Flights via Xpath\n",
    "count = 0\n",
    "price = driver.find_elements(By.XPATH,'//div[@class=\"i-b tipsy fare-summary-tooltip fs-18\"]')\n",
    "for i in tqdm(price):\n",
    "    Price.append(i.text.replace(',',''))\n",
    "    count = count +1\n",
    "else:\n",
    "    count = count +1\n",
    "    pass\n",
    "\n",
    "# Clicking on Flights details element\n",
    "Button = driver.find_elements(By.XPATH,'//div[@class=\"link-color fs-12 cursor-pointer\"]/span')\n",
    "driver.execute_script(\"arguments[0].click();\", WebDriverWait(driver, 20).until(EC.element_to_be_clickable((By.XPATH,'//div[@class=\"link-color fs-12 cursor-pointer\"]/span'))))\n",
    "time.sleep(1)\n",
    "\n",
    "# Extracting Date of Flights via Xpath\n",
    "date = driver.find_element(By.XPATH,'//div[@class=\"bold fs-12 mb-5\"]')\n",
    "a = date.text\n",
    "for i in tqdm(range(count-1)):\n",
    "    Date.append(a)\n",
    "else:\n",
    "    pass\n",
    "\n",
    "#Extracting class of flight via Xpath\n",
    "class_=driver.find_element(By.XPATH,'/html/body/section[2]/section/section[2]/section[1]/div[2]/div[2]/div/div[1]/div/div[3]/div[2]/div[1]/div[2]/div/div/div/div[1]/div[2]/div[1]/span[3]')\n",
    "a=class_.text\n",
    "for i in tqdm(range(count-1)):\n",
    "    Class.append(a)\n",
    "else:\n",
    "    pass\n"
   ]
  },
  {
   "cell_type": "code",
   "execution_count": 170,
   "id": "418d338e",
   "metadata": {},
   "outputs": [
    {
     "data": {
      "text/plain": [
       "(2068, 2068, 2068, 2068, 2068, 2068, 2068, 2068, 2068, 2068, 2068)"
      ]
     },
     "execution_count": 170,
     "metadata": {},
     "output_type": "execute_result"
    }
   ],
   "source": [
    "#Checking for length of columns\n",
    "len(Aeroplane), len(Airlines), len(Dept_time), len(Arrival_time),len(Class), len(Source), len(Destination), len(Duration), len(Stops),len(Price), len(Date)"
   ]
  },
  {
   "cell_type": "markdown",
   "id": "ec2f6b30",
   "metadata": {},
   "source": [
    "# Opening  Premium Economy flights from Mumbai to Banglore on 18 Jan 2023"
   ]
  },
  {
   "cell_type": "code",
   "execution_count": 171,
   "id": "bea3ae7a",
   "metadata": {},
   "outputs": [],
   "source": [
    "url=\"https://flight.yatra.com/air-search-ui/dom2/trigger?ADT=1&CHD=0&INF=0&class=Special&destination=BLR&destinationCountry=IN&flexi=0&flight_depart_date=18%2F01%2F2023&hb=0&noOfSegments=1&origin=BOM&originCountry=IN&type=O&unique=1673340594301&viewName=normal\""
   ]
  },
  {
   "cell_type": "code",
   "execution_count": 172,
   "id": "3ee575b0",
   "metadata": {},
   "outputs": [],
   "source": [
    "driver.get(url)\n",
    "time.sleep(2)"
   ]
  },
  {
   "cell_type": "code",
   "execution_count": 173,
   "id": "b60ef605",
   "metadata": {},
   "outputs": [
    {
     "name": "stderr",
     "output_type": "stream",
     "text": [
      "100%|████████████████████████████████████████████████████████████████████████████████| 155/155 [00:55<00:00,  2.81it/s]\n"
     ]
    }
   ],
   "source": [
    "from tqdm import tqdm\n",
    "for _ in tqdm (range(0,155)):\n",
    "    time.sleep(0.1)\n",
    "    driver.execute_script(\"window.scrollBy(0,2000)\",\"\")\n",
    "    time.sleep(0.2)\n",
    "    driver.execute_script(\"window.scrollBy(0,-500)\",\"\")"
   ]
  },
  {
   "cell_type": "code",
   "execution_count": 174,
   "id": "3195d29a",
   "metadata": {},
   "outputs": [
    {
     "data": {
      "text/plain": [
       "50"
      ]
     },
     "execution_count": 174,
     "metadata": {},
     "output_type": "execute_result"
    }
   ],
   "source": [
    "flights=driver.find_elements(By.XPATH,'//div[@class=\"flight-det table full-width clearfix\"]')\n",
    "len(flights)"
   ]
  },
  {
   "cell_type": "code",
   "execution_count": 175,
   "id": "a354311f",
   "metadata": {},
   "outputs": [
    {
     "name": "stderr",
     "output_type": "stream",
     "text": [
      "100%|██████████████████████████████████████████████████████████████████████████████████| 50/50 [00:01<00:00, 39.38it/s]\n",
      "100%|██████████████████████████████████████████████████████████████████████████████████| 50/50 [00:01<00:00, 38.52it/s]\n",
      "100%|██████████████████████████████████████████████████████████████████████████████████| 50/50 [00:01<00:00, 37.10it/s]\n",
      "100%|██████████████████████████████████████████████████████████████████████████████████| 50/50 [00:01<00:00, 37.30it/s]\n",
      "100%|██████████████████████████████████████████████████████████████████████████████████| 50/50 [00:01<00:00, 35.37it/s]\n",
      "100%|██████████████████████████████████████████████████████████████████████████████████| 50/50 [00:01<00:00, 34.56it/s]\n",
      "100%|██████████████████████████████████████████████████████████████████████████████████| 50/50 [00:01<00:00, 33.63it/s]\n",
      "100%|██████████████████████████████████████████████████████████████████████████████████| 50/50 [00:01<00:00, 30.85it/s]\n",
      "100%|██████████████████████████████████████████████████████████████████████████████████████████| 50/50 [00:00<?, ?it/s]\n",
      "100%|██████████████████████████████████████████████████████████████████████████████████████████| 50/50 [00:00<?, ?it/s]\n"
     ]
    }
   ],
   "source": [
    "# Extracting Airlines Name Via Xpath\n",
    "airlines = driver.find_elements(By.XPATH,\"//div[@class='fs-13 airline-name no-pad col-8']/span\")\n",
    "for i in airlines:\n",
    "    Airlines.append(i.text.replace(\"\\n\",\" \"))\n",
    "else :\n",
    "    pass\n",
    "\n",
    "# Extracting Aeroplane model via xpath\n",
    "aeroplanes = driver.find_elements(By.XPATH,'//p[@class=\"normal fs-11 font-lightestgrey no-wrap fl-no\"]/span')\n",
    "for i in tqdm(aeroplanes):\n",
    "    Aeroplane.append(i.text) \n",
    "else:\n",
    "    pass\n",
    "\n",
    "# Extracting Departure Time of Filght via Xpath\n",
    "dept_times = driver.find_elements(By.XPATH,'//div[@class=\"i-b pr\"]')\n",
    "for i in tqdm(dept_times):\n",
    "    Dept_time.append(i.text)\n",
    "else :\n",
    "    pass\n",
    "\n",
    "# Extracting Arrival Time via xpath\n",
    "arrival = driver.find_elements(By.XPATH,'//p[@class=\"bold fs-15 mb-2 pr time\"]')\n",
    "for i in tqdm(arrival):\n",
    "    Arrival_time.append(i.text)\n",
    "else :\n",
    "    pass\n",
    "\n",
    "# Extracting Source of flight via Xpath\n",
    "source = driver.find_elements(By.XPATH,\"//div[@class='i-b col-4 no-wrap text-right dtime col-3']/p\")\n",
    "for i in tqdm(source):\n",
    "    Source.append(i.text)\n",
    "else :\n",
    "    pass\n",
    "\n",
    "# Extracting Destination of Flights via Xpath\n",
    "destination = driver.find_elements(By.XPATH,'//div[@class=\"i-b pdd-0 text-left atime col-5\"]/p[2]')\n",
    "for i in tqdm(destination):\n",
    "    Destination.append(i.text)\n",
    "else:\n",
    "    pass\n",
    "\n",
    "# Extracting Duration of Flights via Xpath\n",
    "duration = driver.find_elements(By.XPATH,'//div[@class=\"stop-cont pl-13\"]/p')\n",
    "for i in tqdm(duration):\n",
    "    Duration.append(i.text)\n",
    "else:\n",
    "    pass\n",
    "\n",
    "# Extracting stop details via Xpath\n",
    "stop = driver.find_elements(By.XPATH,\"//div[@class='stop-cont pl-13']/div/span\")\n",
    "for i in tqdm(stop):\n",
    "    Stops.append(i.text)\n",
    "else:\n",
    "    pass\n",
    "\n",
    "# Extracting Price of Flights via Xpath\n",
    "count = 0\n",
    "price = driver.find_elements(By.XPATH,'//div[@class=\"i-b tipsy fare-summary-tooltip fs-18\"]')\n",
    "for i in tqdm(price):\n",
    "    Price.append(i.text.replace(',',''))\n",
    "    count = count +1\n",
    "else:\n",
    "    count = count +1\n",
    "    pass\n",
    "\n",
    "# Clicking on Flights details element\n",
    "Button = driver.find_elements(By.XPATH,'//div[@class=\"link-color fs-12 cursor-pointer\"]/span')\n",
    "driver.execute_script(\"arguments[0].click();\", WebDriverWait(driver, 20).until(EC.element_to_be_clickable((By.XPATH,'//div[@class=\"link-color fs-12 cursor-pointer\"]/span'))))\n",
    "time.sleep(1)\n",
    "\n",
    "# Extracting Date of Flights via Xpath\n",
    "date = driver.find_element(By.XPATH,'//div[@class=\"bold fs-12 mb-5\"]')\n",
    "a = date.text\n",
    "for i in tqdm(range(count-1)):\n",
    "    Date.append(a)\n",
    "else:\n",
    "    pass\n",
    "\n",
    "#Extracting class of flight via Xpath\n",
    "class_=driver.find_element(By.XPATH,'/html/body/section[2]/section/section[2]/section[1]/div[2]/div[2]/div/div[1]/div/div[3]/div[2]/div[1]/div[2]/div/div/div/div[1]/div[2]/div[1]/span[3]')\n",
    "a=class_.text\n",
    "for i in tqdm(range(count-1)):\n",
    "    Class.append(a)\n",
    "else:\n",
    "    pass\n"
   ]
  },
  {
   "cell_type": "code",
   "execution_count": 176,
   "id": "678bea4a",
   "metadata": {},
   "outputs": [
    {
     "data": {
      "text/plain": [
       "(2118, 2118, 2118, 2118, 2118, 2118, 2118, 2118, 2118, 2118, 2118)"
      ]
     },
     "execution_count": 176,
     "metadata": {},
     "output_type": "execute_result"
    }
   ],
   "source": [
    "#Checking for length of columns\n",
    "len(Aeroplane), len(Airlines), len(Dept_time), len(Arrival_time),len(Class), len(Source), len(Destination), len(Duration), len(Stops),len(Price), len(Date)"
   ]
  },
  {
   "cell_type": "markdown",
   "id": "d588e35e",
   "metadata": {},
   "source": [
    "# Opening  Premium Economy flights from Mumbai to Banglore on 19 Jan 2023"
   ]
  },
  {
   "cell_type": "code",
   "execution_count": 177,
   "id": "92806333",
   "metadata": {},
   "outputs": [],
   "source": [
    "url=\"https://flight.yatra.com/air-search-ui/dom2/trigger?ADT=1&CHD=0&INF=0&class=Special&destination=BLR&destinationCountry=IN&flexi=0&flight_depart_date=19%2F01%2F2023&hb=0&noOfSegments=1&origin=BOM&originCountry=IN&type=O&unique=1673340623037&viewName=normal\""
   ]
  },
  {
   "cell_type": "code",
   "execution_count": 182,
   "id": "fcb806e6",
   "metadata": {},
   "outputs": [],
   "source": [
    "driver.get(url)\n",
    "time.sleep(2)"
   ]
  },
  {
   "cell_type": "code",
   "execution_count": 183,
   "id": "fcd44edc",
   "metadata": {},
   "outputs": [
    {
     "name": "stderr",
     "output_type": "stream",
     "text": [
      "100%|████████████████████████████████████████████████████████████████████████████████| 155/155 [00:56<00:00,  2.77it/s]\n"
     ]
    }
   ],
   "source": [
    "from tqdm import tqdm\n",
    "for _ in tqdm (range(0,155)):\n",
    "    time.sleep(0.1)\n",
    "    driver.execute_script(\"window.scrollBy(0,2000)\",\"\")\n",
    "    time.sleep(0.2)\n",
    "    driver.execute_script(\"window.scrollBy(0,-500)\",\"\")"
   ]
  },
  {
   "cell_type": "code",
   "execution_count": 184,
   "id": "18299b73",
   "metadata": {},
   "outputs": [
    {
     "data": {
      "text/plain": [
       "52"
      ]
     },
     "execution_count": 184,
     "metadata": {},
     "output_type": "execute_result"
    }
   ],
   "source": [
    "flights=driver.find_elements(By.XPATH,'//div[@class=\"flight-det table full-width clearfix\"]')\n",
    "len(flights)"
   ]
  },
  {
   "cell_type": "code",
   "execution_count": 185,
   "id": "283c4f31",
   "metadata": {},
   "outputs": [
    {
     "name": "stderr",
     "output_type": "stream",
     "text": [
      "100%|██████████████████████████████████████████████████████████████████████████████████| 52/52 [00:01<00:00, 40.35it/s]\n",
      "100%|██████████████████████████████████████████████████████████████████████████████████| 52/52 [00:01<00:00, 38.06it/s]\n",
      "100%|██████████████████████████████████████████████████████████████████████████████████| 52/52 [00:01<00:00, 35.34it/s]\n",
      "100%|██████████████████████████████████████████████████████████████████████████████████| 52/52 [00:01<00:00, 36.99it/s]\n",
      "100%|██████████████████████████████████████████████████████████████████████████████████| 52/52 [00:01<00:00, 35.81it/s]\n",
      "100%|██████████████████████████████████████████████████████████████████████████████████| 52/52 [00:01<00:00, 34.27it/s]\n",
      "100%|██████████████████████████████████████████████████████████████████████████████████| 52/52 [00:01<00:00, 33.34it/s]\n",
      "100%|██████████████████████████████████████████████████████████████████████████████████| 52/52 [00:01<00:00, 32.08it/s]\n",
      "100%|██████████████████████████████████████████████████████████████████████████████████████████| 52/52 [00:00<?, ?it/s]\n",
      "100%|██████████████████████████████████████████████████████████████████████████████████████████| 52/52 [00:00<?, ?it/s]\n"
     ]
    }
   ],
   "source": [
    "# Extracting Airlines Name Via Xpath\n",
    "airlines = driver.find_elements(By.XPATH,\"//div[@class='fs-13 airline-name no-pad col-8']/span\")\n",
    "for i in airlines:\n",
    "    Airlines.append(i.text.replace(\"\\n\",\" \"))\n",
    "else :\n",
    "    pass\n",
    "\n",
    "# Extracting Aeroplane model via xpath\n",
    "aeroplanes = driver.find_elements(By.XPATH,'//p[@class=\"normal fs-11 font-lightestgrey no-wrap fl-no\"]/span')\n",
    "for i in tqdm(aeroplanes):\n",
    "    Aeroplane.append(i.text) \n",
    "else:\n",
    "    pass\n",
    "\n",
    "# Extracting Departure Time of Filght via Xpath\n",
    "dept_times = driver.find_elements(By.XPATH,'//div[@class=\"i-b pr\"]')\n",
    "for i in tqdm(dept_times):\n",
    "    Dept_time.append(i.text)\n",
    "else :\n",
    "    pass\n",
    "\n",
    "# Extracting Arrival Time via xpath\n",
    "arrival = driver.find_elements(By.XPATH,'//p[@class=\"bold fs-15 mb-2 pr time\"]')\n",
    "for i in tqdm(arrival):\n",
    "    Arrival_time.append(i.text)\n",
    "else :\n",
    "    pass\n",
    "\n",
    "# Extracting Source of flight via Xpath\n",
    "source = driver.find_elements(By.XPATH,\"//div[@class='i-b col-4 no-wrap text-right dtime col-3']/p\")\n",
    "for i in tqdm(source):\n",
    "    Source.append(i.text)\n",
    "else :\n",
    "    pass\n",
    "\n",
    "# Extracting Destination of Flights via Xpath\n",
    "destination = driver.find_elements(By.XPATH,'//div[@class=\"i-b pdd-0 text-left atime col-5\"]/p[2]')\n",
    "for i in tqdm(destination):\n",
    "    Destination.append(i.text)\n",
    "else:\n",
    "    pass\n",
    "\n",
    "# Extracting Duration of Flights via Xpath\n",
    "duration = driver.find_elements(By.XPATH,'//div[@class=\"stop-cont pl-13\"]/p')\n",
    "for i in tqdm(duration):\n",
    "    Duration.append(i.text)\n",
    "else:\n",
    "    pass\n",
    "\n",
    "# Extracting stop details via Xpath\n",
    "stop = driver.find_elements(By.XPATH,\"//div[@class='stop-cont pl-13']/div/span\")\n",
    "for i in tqdm(stop):\n",
    "    Stops.append(i.text)\n",
    "else:\n",
    "    pass\n",
    "\n",
    "# Extracting Price of Flights via Xpath\n",
    "count = 0\n",
    "price = driver.find_elements(By.XPATH,'//div[@class=\"i-b tipsy fare-summary-tooltip fs-18\"]')\n",
    "for i in tqdm(price):\n",
    "    Price.append(i.text.replace(',',''))\n",
    "    count = count +1\n",
    "else:\n",
    "    count = count +1\n",
    "    pass\n",
    "\n",
    "# Clicking on Flights details element\n",
    "Button = driver.find_elements(By.XPATH,'//div[@class=\"link-color fs-12 cursor-pointer\"]/span')\n",
    "driver.execute_script(\"arguments[0].click();\", WebDriverWait(driver, 20).until(EC.element_to_be_clickable((By.XPATH,'//div[@class=\"link-color fs-12 cursor-pointer\"]/span'))))\n",
    "time.sleep(1)\n",
    "\n",
    "# Extracting Date of Flights via Xpath\n",
    "date = driver.find_element(By.XPATH,'//div[@class=\"bold fs-12 mb-5\"]')\n",
    "a = date.text\n",
    "for i in tqdm(range(count-1)):\n",
    "    Date.append(a)\n",
    "else:\n",
    "    pass\n",
    "\n",
    "#Extracting class of flight via Xpath\n",
    "class_=driver.find_element(By.XPATH,'/html/body/section[2]/section/section[2]/section[1]/div[2]/div[2]/div/div[1]/div/div[3]/div[2]/div[1]/div[2]/div/div/div/div[1]/div[2]/div[1]/span[3]')\n",
    "a=class_.text\n",
    "for i in tqdm(range(count-1)):\n",
    "    Class.append(a)\n",
    "else:\n",
    "    pass\n"
   ]
  },
  {
   "cell_type": "code",
   "execution_count": 186,
   "id": "ca8092e2",
   "metadata": {},
   "outputs": [
    {
     "data": {
      "text/plain": [
       "(2170, 2170, 2170, 2170, 2170, 2170, 2170, 2170, 2170, 2170, 2170)"
      ]
     },
     "execution_count": 186,
     "metadata": {},
     "output_type": "execute_result"
    }
   ],
   "source": [
    "#Checking for length of columns\n",
    "len(Aeroplane), len(Airlines), len(Dept_time), len(Arrival_time),len(Class), len(Source), len(Destination), len(Duration), len(Stops),len(Price), len(Date)"
   ]
  },
  {
   "cell_type": "markdown",
   "id": "a2baa42f",
   "metadata": {},
   "source": [
    "# Opening  Premium Economy flights from Mumbai to Banglore on 20 Jan 2023"
   ]
  },
  {
   "cell_type": "code",
   "execution_count": 187,
   "id": "896f5843",
   "metadata": {},
   "outputs": [],
   "source": [
    "url=\"https://flight.yatra.com/air-search-ui/dom2/trigger?ADT=1&CHD=0&INF=0&class=Special&destination=BLR&destinationCountry=IN&flexi=0&flight_depart_date=20%2F01%2F2023&hb=0&noOfSegments=1&origin=BOM&originCountry=IN&type=O&unique=1673340649529&viewName=normal\""
   ]
  },
  {
   "cell_type": "code",
   "execution_count": 188,
   "id": "a8fd34cf",
   "metadata": {},
   "outputs": [],
   "source": [
    "driver.get(url)\n",
    "time.sleep(2)"
   ]
  },
  {
   "cell_type": "code",
   "execution_count": 189,
   "id": "309661af",
   "metadata": {},
   "outputs": [
    {
     "name": "stderr",
     "output_type": "stream",
     "text": [
      "100%|████████████████████████████████████████████████████████████████████████████████| 155/155 [00:56<00:00,  2.74it/s]\n"
     ]
    }
   ],
   "source": [
    "from tqdm import tqdm\n",
    "for _ in tqdm (range(0,155)):\n",
    "    time.sleep(0.1)\n",
    "    driver.execute_script(\"window.scrollBy(0,2000)\",\"\")\n",
    "    time.sleep(0.2)\n",
    "    driver.execute_script(\"window.scrollBy(0,-500)\",\"\")"
   ]
  },
  {
   "cell_type": "code",
   "execution_count": 190,
   "id": "d9cb32ff",
   "metadata": {},
   "outputs": [
    {
     "data": {
      "text/plain": [
       "52"
      ]
     },
     "execution_count": 190,
     "metadata": {},
     "output_type": "execute_result"
    }
   ],
   "source": [
    "flights=driver.find_elements(By.XPATH,'//div[@class=\"flight-det table full-width clearfix\"]')\n",
    "len(flights)"
   ]
  },
  {
   "cell_type": "code",
   "execution_count": 191,
   "id": "1d63be29",
   "metadata": {},
   "outputs": [
    {
     "name": "stderr",
     "output_type": "stream",
     "text": [
      "100%|██████████████████████████████████████████████████████████████████████████████████| 52/52 [00:01<00:00, 41.61it/s]\n",
      "100%|██████████████████████████████████████████████████████████████████████████████████| 52/52 [00:01<00:00, 39.71it/s]\n",
      "100%|██████████████████████████████████████████████████████████████████████████████████| 52/52 [00:01<00:00, 38.43it/s]\n",
      "100%|██████████████████████████████████████████████████████████████████████████████████| 52/52 [00:01<00:00, 36.94it/s]\n",
      "100%|██████████████████████████████████████████████████████████████████████████████████| 52/52 [00:01<00:00, 36.42it/s]\n",
      "100%|██████████████████████████████████████████████████████████████████████████████████| 52/52 [00:01<00:00, 34.59it/s]\n",
      "100%|██████████████████████████████████████████████████████████████████████████████████| 52/52 [00:01<00:00, 34.04it/s]\n",
      "100%|██████████████████████████████████████████████████████████████████████████████████| 52/52 [00:01<00:00, 31.99it/s]\n",
      "100%|██████████████████████████████████████████████████████████████████████████████████████████| 52/52 [00:00<?, ?it/s]\n",
      "100%|██████████████████████████████████████████████████████████████████████████████████████████| 52/52 [00:00<?, ?it/s]\n"
     ]
    }
   ],
   "source": [
    "# Extracting Airlines Name Via Xpath\n",
    "airlines = driver.find_elements(By.XPATH,\"//div[@class='fs-13 airline-name no-pad col-8']/span\")\n",
    "for i in airlines:\n",
    "    Airlines.append(i.text.replace(\"\\n\",\" \"))\n",
    "else :\n",
    "    pass\n",
    "\n",
    "# Extracting Aeroplane model via xpath\n",
    "aeroplanes = driver.find_elements(By.XPATH,'//p[@class=\"normal fs-11 font-lightestgrey no-wrap fl-no\"]/span')\n",
    "for i in tqdm(aeroplanes):\n",
    "    Aeroplane.append(i.text) \n",
    "else:\n",
    "    pass\n",
    "\n",
    "# Extracting Departure Time of Filght via Xpath\n",
    "dept_times = driver.find_elements(By.XPATH,'//div[@class=\"i-b pr\"]')\n",
    "for i in tqdm(dept_times):\n",
    "    Dept_time.append(i.text)\n",
    "else :\n",
    "    pass\n",
    "\n",
    "# Extracting Arrival Time via xpath\n",
    "arrival = driver.find_elements(By.XPATH,'//p[@class=\"bold fs-15 mb-2 pr time\"]')\n",
    "for i in tqdm(arrival):\n",
    "    Arrival_time.append(i.text)\n",
    "else :\n",
    "    pass\n",
    "\n",
    "# Extracting Source of flight via Xpath\n",
    "source = driver.find_elements(By.XPATH,\"//div[@class='i-b col-4 no-wrap text-right dtime col-3']/p\")\n",
    "for i in tqdm(source):\n",
    "    Source.append(i.text)\n",
    "else :\n",
    "    pass\n",
    "\n",
    "# Extracting Destination of Flights via Xpath\n",
    "destination = driver.find_elements(By.XPATH,'//div[@class=\"i-b pdd-0 text-left atime col-5\"]/p[2]')\n",
    "for i in tqdm(destination):\n",
    "    Destination.append(i.text)\n",
    "else:\n",
    "    pass\n",
    "\n",
    "# Extracting Duration of Flights via Xpath\n",
    "duration = driver.find_elements(By.XPATH,'//div[@class=\"stop-cont pl-13\"]/p')\n",
    "for i in tqdm(duration):\n",
    "    Duration.append(i.text)\n",
    "else:\n",
    "    pass\n",
    "\n",
    "# Extracting stop details via Xpath\n",
    "stop = driver.find_elements(By.XPATH,\"//div[@class='stop-cont pl-13']/div/span\")\n",
    "for i in tqdm(stop):\n",
    "    Stops.append(i.text)\n",
    "else:\n",
    "    pass\n",
    "\n",
    "# Extracting Price of Flights via Xpath\n",
    "count = 0\n",
    "price = driver.find_elements(By.XPATH,'//div[@class=\"i-b tipsy fare-summary-tooltip fs-18\"]')\n",
    "for i in tqdm(price):\n",
    "    Price.append(i.text.replace(',',''))\n",
    "    count = count +1\n",
    "else:\n",
    "    count = count +1\n",
    "    pass\n",
    "\n",
    "# Clicking on Flights details element\n",
    "Button = driver.find_elements(By.XPATH,'//div[@class=\"link-color fs-12 cursor-pointer\"]/span')\n",
    "driver.execute_script(\"arguments[0].click();\", WebDriverWait(driver, 20).until(EC.element_to_be_clickable((By.XPATH,'//div[@class=\"link-color fs-12 cursor-pointer\"]/span'))))\n",
    "time.sleep(1)\n",
    "\n",
    "# Extracting Date of Flights via Xpath\n",
    "date = driver.find_element(By.XPATH,'//div[@class=\"bold fs-12 mb-5\"]')\n",
    "a = date.text\n",
    "for i in tqdm(range(count-1)):\n",
    "    Date.append(a)\n",
    "else:\n",
    "    pass\n",
    "\n",
    "#Extracting class of flight via Xpath\n",
    "class_=driver.find_element(By.XPATH,'/html/body/section[2]/section/section[2]/section[1]/div[2]/div[2]/div/div[1]/div/div[3]/div[2]/div[1]/div[2]/div/div/div/div[1]/div[2]/div[1]/span[3]')\n",
    "a=class_.text\n",
    "for i in tqdm(range(count-1)):\n",
    "    Class.append(a)\n",
    "else:\n",
    "    pass\n"
   ]
  },
  {
   "cell_type": "code",
   "execution_count": 192,
   "id": "b57c9d96",
   "metadata": {},
   "outputs": [
    {
     "data": {
      "text/plain": [
       "(2222, 2222, 2222, 2222, 2222, 2222, 2222, 2222, 2222, 2222, 2222)"
      ]
     },
     "execution_count": 192,
     "metadata": {},
     "output_type": "execute_result"
    }
   ],
   "source": [
    "#Checking for length of columns\n",
    "len(Aeroplane), len(Airlines), len(Dept_time), len(Arrival_time),len(Class), len(Source), len(Destination), len(Duration), len(Stops),len(Price), len(Date)"
   ]
  },
  {
   "cell_type": "markdown",
   "id": "b74ef4d4",
   "metadata": {},
   "source": [
    "# Saving data in Excel"
   ]
  },
  {
   "cell_type": "code",
   "execution_count": 194,
   "id": "c85acadf",
   "metadata": {},
   "outputs": [
    {
     "data": {
      "text/html": [
       "<div>\n",
       "<style scoped>\n",
       "    .dataframe tbody tr th:only-of-type {\n",
       "        vertical-align: middle;\n",
       "    }\n",
       "\n",
       "    .dataframe tbody tr th {\n",
       "        vertical-align: top;\n",
       "    }\n",
       "\n",
       "    .dataframe thead th {\n",
       "        text-align: right;\n",
       "    }\n",
       "</style>\n",
       "<table border=\"1\" class=\"dataframe\">\n",
       "  <thead>\n",
       "    <tr style=\"text-align: right;\">\n",
       "      <th></th>\n",
       "      <th>Airline</th>\n",
       "      <th>Aeroplane</th>\n",
       "      <th>Class</th>\n",
       "      <th>Date</th>\n",
       "      <th>Departure_Time</th>\n",
       "      <th>Arrival_Time</th>\n",
       "      <th>Source</th>\n",
       "      <th>Destination</th>\n",
       "      <th>Stops</th>\n",
       "      <th>Duration</th>\n",
       "      <th>Price</th>\n",
       "    </tr>\n",
       "  </thead>\n",
       "  <tbody>\n",
       "    <tr>\n",
       "      <th>0</th>\n",
       "      <td>Air Asia</td>\n",
       "      <td>I5-338</td>\n",
       "      <td>(Economy)</td>\n",
       "      <td>Thu, 12 Jan 2023</td>\n",
       "      <td>20:35</td>\n",
       "      <td>22:15</td>\n",
       "      <td>Mumbai</td>\n",
       "      <td>Bangalore</td>\n",
       "      <td>Non Stop</td>\n",
       "      <td>1h 40m</td>\n",
       "      <td>2201</td>\n",
       "    </tr>\n",
       "    <tr>\n",
       "      <th>1</th>\n",
       "      <td>Air Asia</td>\n",
       "      <td>I5-1784</td>\n",
       "      <td>(Economy)</td>\n",
       "      <td>Thu, 12 Jan 2023</td>\n",
       "      <td>21:50</td>\n",
       "      <td>23:50</td>\n",
       "      <td>Mumbai</td>\n",
       "      <td>Bangalore</td>\n",
       "      <td>Non Stop</td>\n",
       "      <td>2h 00m</td>\n",
       "      <td>2201</td>\n",
       "    </tr>\n",
       "    <tr>\n",
       "      <th>2</th>\n",
       "      <td>IndiGo</td>\n",
       "      <td>6E-6571</td>\n",
       "      <td>(Economy)</td>\n",
       "      <td>Thu, 12 Jan 2023</td>\n",
       "      <td>23:10</td>\n",
       "      <td>00:45\\n+ 1 day</td>\n",
       "      <td>Mumbai</td>\n",
       "      <td>Bangalore</td>\n",
       "      <td>Non Stop</td>\n",
       "      <td>1h 35m</td>\n",
       "      <td>2305</td>\n",
       "    </tr>\n",
       "    <tr>\n",
       "      <th>3</th>\n",
       "      <td>IndiGo</td>\n",
       "      <td>6E-5252</td>\n",
       "      <td>(Economy)</td>\n",
       "      <td>Thu, 12 Jan 2023</td>\n",
       "      <td>18:50</td>\n",
       "      <td>20:40</td>\n",
       "      <td>Mumbai</td>\n",
       "      <td>Bangalore</td>\n",
       "      <td>Non Stop</td>\n",
       "      <td>1h 50m</td>\n",
       "      <td>2549</td>\n",
       "    </tr>\n",
       "    <tr>\n",
       "      <th>4</th>\n",
       "      <td>Go First</td>\n",
       "      <td>G8-398</td>\n",
       "      <td>(Economy)</td>\n",
       "      <td>Thu, 12 Jan 2023</td>\n",
       "      <td>19:15</td>\n",
       "      <td>20:55</td>\n",
       "      <td>Mumbai</td>\n",
       "      <td>Bangalore</td>\n",
       "      <td>Non Stop</td>\n",
       "      <td>1h 40m</td>\n",
       "      <td>2551</td>\n",
       "    </tr>\n",
       "    <tr>\n",
       "      <th>...</th>\n",
       "      <td>...</td>\n",
       "      <td>...</td>\n",
       "      <td>...</td>\n",
       "      <td>...</td>\n",
       "      <td>...</td>\n",
       "      <td>...</td>\n",
       "      <td>...</td>\n",
       "      <td>...</td>\n",
       "      <td>...</td>\n",
       "      <td>...</td>\n",
       "      <td>...</td>\n",
       "    </tr>\n",
       "    <tr>\n",
       "      <th>2217</th>\n",
       "      <td>Vistara Premium Economy</td>\n",
       "      <td>UK-960/813</td>\n",
       "      <td>(PremiumEconomy)</td>\n",
       "      <td>Fri, 20 Jan 2023</td>\n",
       "      <td>11:55</td>\n",
       "      <td>20:25</td>\n",
       "      <td>Mumbai</td>\n",
       "      <td>Bangalore</td>\n",
       "      <td>1 Stop</td>\n",
       "      <td>8h 30m</td>\n",
       "      <td>33104</td>\n",
       "    </tr>\n",
       "    <tr>\n",
       "      <th>2218</th>\n",
       "      <td>Vistara Premium Economy</td>\n",
       "      <td>UK-902/809</td>\n",
       "      <td>(PremiumEconomy)</td>\n",
       "      <td>Fri, 20 Jan 2023</td>\n",
       "      <td>15:45</td>\n",
       "      <td>22:40</td>\n",
       "      <td>Mumbai</td>\n",
       "      <td>Bangalore</td>\n",
       "      <td>1 Stop</td>\n",
       "      <td>6h 55m</td>\n",
       "      <td>33513</td>\n",
       "    </tr>\n",
       "    <tr>\n",
       "      <th>2219</th>\n",
       "      <td>Vistara Premium Economy</td>\n",
       "      <td>UK-954/801</td>\n",
       "      <td>(PremiumEconomy)</td>\n",
       "      <td>Fri, 20 Jan 2023</td>\n",
       "      <td>06:00</td>\n",
       "      <td>11:50</td>\n",
       "      <td>Mumbai</td>\n",
       "      <td>Bangalore</td>\n",
       "      <td>1 Stop</td>\n",
       "      <td>5h 50m</td>\n",
       "      <td>36386</td>\n",
       "    </tr>\n",
       "    <tr>\n",
       "      <th>2220</th>\n",
       "      <td>Vistara Premium Economy</td>\n",
       "      <td>UK-960/817</td>\n",
       "      <td>(PremiumEconomy)</td>\n",
       "      <td>Fri, 20 Jan 2023</td>\n",
       "      <td>11:55</td>\n",
       "      <td>18:50</td>\n",
       "      <td>Mumbai</td>\n",
       "      <td>Bangalore</td>\n",
       "      <td>1 Stop</td>\n",
       "      <td>6h 55m</td>\n",
       "      <td>39953</td>\n",
       "    </tr>\n",
       "    <tr>\n",
       "      <th>2221</th>\n",
       "      <td>Vistara Premium Economy</td>\n",
       "      <td>UK-930/819</td>\n",
       "      <td>(PremiumEconomy)</td>\n",
       "      <td>Fri, 20 Jan 2023</td>\n",
       "      <td>07:30</td>\n",
       "      <td>17:00</td>\n",
       "      <td>Mumbai</td>\n",
       "      <td>Bangalore</td>\n",
       "      <td>1 Stop</td>\n",
       "      <td>9h 30m</td>\n",
       "      <td>39953</td>\n",
       "    </tr>\n",
       "  </tbody>\n",
       "</table>\n",
       "<p>2222 rows × 11 columns</p>\n",
       "</div>"
      ],
      "text/plain": [
       "                      Airline   Aeroplane             Class              Date  \\\n",
       "0                    Air Asia      I5-338         (Economy)  Thu, 12 Jan 2023   \n",
       "1                    Air Asia     I5-1784         (Economy)  Thu, 12 Jan 2023   \n",
       "2                      IndiGo     6E-6571         (Economy)  Thu, 12 Jan 2023   \n",
       "3                      IndiGo     6E-5252         (Economy)  Thu, 12 Jan 2023   \n",
       "4                    Go First      G8-398         (Economy)  Thu, 12 Jan 2023   \n",
       "...                       ...         ...               ...               ...   \n",
       "2217  Vistara Premium Economy  UK-960/813  (PremiumEconomy)  Fri, 20 Jan 2023   \n",
       "2218  Vistara Premium Economy  UK-902/809  (PremiumEconomy)  Fri, 20 Jan 2023   \n",
       "2219  Vistara Premium Economy  UK-954/801  (PremiumEconomy)  Fri, 20 Jan 2023   \n",
       "2220  Vistara Premium Economy  UK-960/817  (PremiumEconomy)  Fri, 20 Jan 2023   \n",
       "2221  Vistara Premium Economy  UK-930/819  (PremiumEconomy)  Fri, 20 Jan 2023   \n",
       "\n",
       "     Departure_Time    Arrival_Time  Source Destination     Stops Duration  \\\n",
       "0             20:35           22:15  Mumbai   Bangalore  Non Stop   1h 40m   \n",
       "1             21:50           23:50  Mumbai   Bangalore  Non Stop   2h 00m   \n",
       "2             23:10  00:45\\n+ 1 day  Mumbai   Bangalore  Non Stop   1h 35m   \n",
       "3             18:50           20:40  Mumbai   Bangalore  Non Stop   1h 50m   \n",
       "4             19:15           20:55  Mumbai   Bangalore  Non Stop   1h 40m   \n",
       "...             ...             ...     ...         ...       ...      ...   \n",
       "2217          11:55           20:25  Mumbai   Bangalore    1 Stop   8h 30m   \n",
       "2218          15:45           22:40  Mumbai   Bangalore    1 Stop   6h 55m   \n",
       "2219          06:00           11:50  Mumbai   Bangalore    1 Stop   5h 50m   \n",
       "2220          11:55           18:50  Mumbai   Bangalore    1 Stop   6h 55m   \n",
       "2221          07:30           17:00  Mumbai   Bangalore    1 Stop   9h 30m   \n",
       "\n",
       "      Price  \n",
       "0      2201  \n",
       "1      2201  \n",
       "2      2305  \n",
       "3      2549  \n",
       "4      2551  \n",
       "...     ...  \n",
       "2217  33104  \n",
       "2218  33513  \n",
       "2219  36386  \n",
       "2220  39953  \n",
       "2221  39953  \n",
       "\n",
       "[2222 rows x 11 columns]"
      ]
     },
     "execution_count": 194,
     "metadata": {},
     "output_type": "execute_result"
    }
   ],
   "source": [
    "Flight_details=pd.DataFrame()\n",
    "Flight_details[\"Airline\"]=Airlines\n",
    "Flight_details['Aeroplane'] = Aeroplane\n",
    "Flight_details['Class'] = Class\n",
    "Flight_details[\"Date\"]=Date\n",
    "Flight_details[\"Departure_Time\"]=Dept_time\n",
    "Flight_details[\"Arrival_Time\"]=Arrival_time\n",
    "Flight_details[\"Source\"]=Source\n",
    "Flight_details[\"Destination\"]=Destination\n",
    "Flight_details[\"Stops\"]=Stops\n",
    "Flight_details[\"Duration\"]=Duration\n",
    "Flight_details[\"Price\"]=Price\n",
    "Flight_details"
   ]
  },
  {
   "cell_type": "markdown",
   "id": "0aa455fb",
   "metadata": {},
   "source": [
    "# Saving data in CSV format"
   ]
  },
  {
   "cell_type": "code",
   "execution_count": 195,
   "id": "8ac225b1",
   "metadata": {},
   "outputs": [],
   "source": [
    "Flight_details.to_csv('FlightDetails_Dataset.csv')"
   ]
  },
  {
   "cell_type": "code",
   "execution_count": 196,
   "id": "b75b9676",
   "metadata": {},
   "outputs": [],
   "source": [
    "Flight_details.to_excel('FlightDetails_Dataset.xlsx')"
   ]
  },
  {
   "cell_type": "code",
   "execution_count": null,
   "id": "baacc89b",
   "metadata": {},
   "outputs": [],
   "source": []
  }
 ],
 "metadata": {
  "kernelspec": {
   "display_name": "Python 3 (ipykernel)",
   "language": "python",
   "name": "python3"
  },
  "language_info": {
   "codemirror_mode": {
    "name": "ipython",
    "version": 3
   },
   "file_extension": ".py",
   "mimetype": "text/x-python",
   "name": "python",
   "nbconvert_exporter": "python",
   "pygments_lexer": "ipython3",
   "version": "3.9.12"
  }
 },
 "nbformat": 4,
 "nbformat_minor": 5
}
